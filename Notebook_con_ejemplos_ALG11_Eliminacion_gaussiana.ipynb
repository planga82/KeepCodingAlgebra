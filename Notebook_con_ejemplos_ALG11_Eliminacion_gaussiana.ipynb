{
 "cells": [
  {
   "cell_type": "markdown",
   "metadata": {},
   "source": [
    "# 11. Eliminación Gaussiana"
   ]
  },
  {
   "cell_type": "markdown",
   "metadata": {},
   "source": [
    "# ¿Para qué sirve la eliminación gaussiana?\n",
    "\n",
    "* Encontrar una base para el espacio generador dados ciertos vectores. Esto también nos proporciona un algoritmo para el rango y, por lo tanto, para probar la dependencia lineal.  \n",
    "* Resolver una ecuación matricial, que es lo mismo que expresar un vector dado como una combinación lineal de otros vectores dados, que es lo mismo que resolver un sistema de ecuaciones lineales.  \n",
    "* Encontrar una base para el espacio nulo de una matriz, que es lo mismo que encontrar una base para el conjunto de soluciones de un sistema lineal homogéneo, que también es importante para representar el conjunto de soluciones de un sistema lineal general.  \n",
    "\n",
    "# Forma escalonada  \n",
    "\n",
    "La **forma escalonada** es la generalización de las matrices triangulares.  \n",
    "\n",
    "<span style=\"color:orange\"> Ejemplo:  \n",
    "La matriz $\n",
    "  M=\n",
    "  \\left[ {\\begin{array}{cc}\n",
    "   0 & 2  & 3 & 0 & 5 & 6 \\\\\n",
    "   0 & 0  & 1 & 0 & 3 & 4 \\\\\n",
    "   0 & 0  & 0 & 0 & 1 & 2 \\\\\n",
    "   0 & 0 & 0  & 0 & 0 & 6 \\\\\n",
    "  \\end{array} } \\right]\n",
    "$ está en forma escalonada.  \n",
    "Fijemos en:</style>  \n",
    "* <span style=\"color:orange\"> La primera entrada distinta de cero en la fila 1 está en la columna 2.</style>   \n",
    "* <span style=\"color:orange\"> La primera entrada distinta de cero en la fila 2 está en la columna 3.</style>   \n",
    "* <span style=\"color:orange\"> La primera entrada distinta de cero en la fila 3 está en la columna 5.</style>     * <span style=\"color:orange\"> La primera entrada distinta de cero en la fila 4 está en la columna 6.</style>   \n",
    "Una matriz A mxn está en **forma escalonada** si cumple la siguiente condición:  \n",
    "para cualquier fila, si la primera entrada distinta de cero de esa fila está en la posición k, la primera entrada distinta de cero de cada fila anterior está en una posición menor que k.  \n",
    "\n",
    "Esta definición implica que, a medida que recorre las filas de A, las primeras entradas distintas de cero se mueven estrictamente a la derecha, formando una especie de escalera que desciende a la derecha.  \n",
    "\n",
    "<span style=\"color:orange\"> Ejemplo:  \n",
    "La matriz $\n",
    "  M=\n",
    "  \\left[ {\\begin{array}{cc}\n",
    "   4 & 1  & 3 & 0  \\\\\n",
    "   0 & 3  & 0 & 1  \\\\\n",
    "   0 & 0  & 1 & 7  \\\\\n",
    "   0 & 0 & 0  & 9  \\\\\n",
    "  \\end{array} } \\right]\n",
    "$ está en forma escalonada.  </style>  \n",
    "\n",
    "Si una fila de una matriz en forma escalonada es cero, cada fila subsiguiente también debe ser cero.  \n",
    "\n",
    "<span style=\"color:orange\"> Ejemplo:  \n",
    "La matriz $\n",
    "  M=\n",
    "  \\left[ {\\begin{array}{cc}\n",
    "   0 & 2  & 3 & 0 & 5 & 6 \\\\\n",
    "   0 & 0  & 1 & 0 & 3 & 4 \\\\\n",
    "   0 & 0  & 0 & 0 & 0 & 0 \\\\\n",
    "   0 & 0 & 0  & 0 & 0 & 0 \\\\\n",
    "  \\end{array} } \\right]\n",
    "$ está en forma escalonada.  </style>   \n",
    "\n",
    "¿De qué sirve tener una matriz en forma escalonada?  \n",
    "Si una matriz está en forma escalonada, las filas distintas de cero forman una base para el espacio filas.  \n",
    "\n",
    "<span style=\"color:orange\"> Ejemplo:  \n",
    "Una base para el espacio filas de $\n",
    "  M=\n",
    "  \\left[ {\\begin{array}{cc}\n",
    "   0 & 2  & 3 & 0 & 5 & 6 \\\\\n",
    "   0 & 0  & 1 & 0 & 3 & 4 \\\\\n",
    "   0 & 0  & 0 & 0 & 0 & 0 \\\\\n",
    "   0 & 0 & 0  & 0 & 0 & 0 \\\\\n",
    "  \\end{array} } \\right]\n",
    "$ es {[0,2,3,0,5,6],[0,1,0,3,4]}.</style>  \n",
    "\n",
    "<span style=\"color:orange\"> Ejemplo:  \n",
    "Si todas las filas son diferentes de cero, como en $\n",
    "  M=\n",
    "  \\left[ {\\begin{array}{cc}\n",
    "   0 & 2  & 3 & 0 & 5 & 6 \\\\\n",
    "   0 & 0  & 1 & 0 & 3 & 4 \\\\\n",
    "   0 & 0  & 0 & 0 & 1 & 2 \\\\\n",
    "   0 & 0 & 0  & 0 & 0 & 6 \\\\\n",
    "  \\end{array} } \\right]\n",
    "$, el espacio filas estará formado por todas las filas.</style>  \n",
    "\n",
    "Si la matriz está en forma escalonada, las filas distintas de cero forman una base para el espacio de fila.  \n",
    "\n",
    "# Algoritmo para transformar una matriz en una matriz escalonada  \n",
    "\n",
    "<span style=\"color:blue\"> Ejercicio 13 (opcional):  \n",
    "Crea un algoritmo que transforme una matriz cualquiera en GF(2) en una matriz escalonada.</style> "
   ]
  },
  {
   "cell_type": "markdown",
   "metadata": {
    "collapsed": true
   },
   "source": [
    "<span style=\"color:orange\"> Ejemplo:  \n",
    "$\\left[ {\\begin{array}{cc}\n",
    "   2 & 1 & 1\\\\\n",
    "   1 & 2 & 1\\\\\n",
    "   1 & 1 & 2\\\\\n",
    "  \\end{array} } \\right] = \\left[ {\\begin{array}{cc}\n",
    "   1 & 0 & 0\\\\\n",
    "   \\frac{1}{2} & 1 & 0\\\\\n",
    "   \\frac{1}{2} & \\frac{1}{3} & 2\\\\\n",
    "  \\end{array} } \\right] \\left[ {\\begin{array}{cc}\n",
    "   2 & 1 & 1\\\\\n",
    "   0 & \\frac{3}{2} & \\frac{1}{2}\\\\\n",
    "   0 & 0 & \\frac{4}{3}\\\\\n",
    "  \\end{array} } \\right]$  \n",
    "  Con Scipy:</style>"
   ]
  },
  {
   "cell_type": "code",
   "execution_count": 10,
   "metadata": {},
   "outputs": [
    {
     "data": {
      "text/plain": [
       "array([[ 1.,  0.,  0.],\n",
       "       [ 0.,  1.,  0.],\n",
       "       [ 0.,  0.,  1.]])"
      ]
     },
     "execution_count": 10,
     "metadata": {},
     "output_type": "execute_result"
    }
   ],
   "source": [
    "from numpy import matrix\n",
    "from scipy import linalg\n",
    "A=matrix([\n",
    "    [2,1,1],\n",
    "    [1,2,1],\n",
    "    [1,1,2]\n",
    "])\n",
    "p,l,u=linalg.lu(A)\n",
    "p"
   ]
  },
  {
   "cell_type": "code",
   "execution_count": 11,
   "metadata": {},
   "outputs": [
    {
     "data": {
      "text/plain": [
       "array([[ 1.        ,  0.        ,  0.        ],\n",
       "       [ 0.5       ,  1.        ,  0.        ],\n",
       "       [ 0.5       ,  0.33333333,  1.        ]])"
      ]
     },
     "execution_count": 11,
     "metadata": {},
     "output_type": "execute_result"
    }
   ],
   "source": [
    "l"
   ]
  },
  {
   "cell_type": "code",
   "execution_count": 12,
   "metadata": {},
   "outputs": [
    {
     "data": {
      "text/plain": [
       "array([[ 2.        ,  1.        ,  1.        ],\n",
       "       [ 0.        ,  1.5       ,  0.5       ],\n",
       "       [ 0.        ,  0.        ,  1.33333333]])"
      ]
     },
     "execution_count": 12,
     "metadata": {},
     "output_type": "execute_result"
    }
   ],
   "source": [
    "u"
   ]
  },
  {
   "cell_type": "markdown",
   "metadata": {},
   "source": [
    "<span style=\"color:orange\"> Ejemplo:  \n",
    "$\\left[ {\\begin{array}{cc}\n",
    "   2 & 1 & 1\\\\\n",
    "   1 & 2 & 1\\\\\n",
    "   1 & 1 & 2\\\\\n",
    "  \\end{array} } \\right] = \\left[ {\\begin{array}{cc}\n",
    "   1 & 0 & 0\\\\\n",
    "   \\frac{1}{2} & 1 & 0\\\\\n",
    "   \\frac{1}{2} & \\frac{1}{3} & 2\\\\\n",
    "  \\end{array} } \\right] \\left[ {\\begin{array}{cc}\n",
    "   2 & 1 & 1\\\\\n",
    "   0 & \\frac{3}{2} & \\frac{1}{2}\\\\\n",
    "   0 & 0 & \\frac{4}{3}\\\\\n",
    "  \\end{array} } \\right]$  \n",
    "  Con Sympy:</style>"
   ]
  },
  {
   "cell_type": "code",
   "execution_count": 13,
   "metadata": {},
   "outputs": [
    {
     "data": {
      "text/plain": [
       "Matrix([\n",
       "[  1,   0, 0],\n",
       "[1/2,   1, 0],\n",
       "[1/2, 1/3, 1]])"
      ]
     },
     "execution_count": 13,
     "metadata": {},
     "output_type": "execute_result"
    }
   ],
   "source": [
    "from sympy import Matrix\n",
    "A=Matrix([\n",
    "    [2,1,1],\n",
    "    [1,2,1],\n",
    "    [1,1,2]\n",
    "])\n",
    "l,u,p=A.LUdecomposition()\n",
    "l"
   ]
  },
  {
   "cell_type": "code",
   "execution_count": 14,
   "metadata": {},
   "outputs": [
    {
     "data": {
      "text/plain": [
       "Matrix([\n",
       "[2,   1,   1],\n",
       "[0, 3/2, 1/2],\n",
       "[0,   0, 4/3]])"
      ]
     },
     "execution_count": 14,
     "metadata": {},
     "output_type": "execute_result"
    }
   ],
   "source": [
    "u"
   ]
  }
 ],
 "metadata": {
  "kernelspec": {
   "display_name": "Python 3",
   "language": "python",
   "name": "python3"
  },
  "language_info": {
   "codemirror_mode": {
    "name": "ipython",
    "version": 3
   },
   "file_extension": ".py",
   "mimetype": "text/x-python",
   "name": "python",
   "nbconvert_exporter": "python",
   "pygments_lexer": "ipython3",
   "version": "3.6.3"
  }
 },
 "nbformat": 4,
 "nbformat_minor": 2
}
