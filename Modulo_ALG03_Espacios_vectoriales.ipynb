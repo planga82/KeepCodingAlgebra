{
 "cells": [
  {
   "cell_type": "markdown",
   "metadata": {},
   "source": [
    "# 3. Espacios vectoriales"
   ]
  },
  {
   "cell_type": "markdown",
   "metadata": {},
   "source": [
    "# Introducción  \n",
    "## Vuelo espacial y sistemas de control  \n",
    "\n",
    "Con doce pisos de altura y peso de 75 toneladas, el **Columbia** se elevó majestuosamente desde la plataforma de lanzamiento en una fresca mañana de abril de 1981. El primer transbordador de Estados Unidos, producto de diez años de investigación, fue un triunfo de la ingeniería de sistemas de control que abarca muchas ramas ingenieriles —aeronáutica, química, eléctrica, hidráulica y mecánica.  \n",
    "Los sistemas de control del transbordador espacial resultan absolutamente críticos para el vuelo. Como el transbordador tiene un fuselaje inestable, requiere de constante vigilancia por computadora durante el vuelo atmosférico. Los sistemas de control de vuelo envían una corriente de comandos a las supeficies de control aerodinámicas y a 44 pequeños impulsores de propulsión a chorro. \n",
    "Matemáticamente, las señales de entrada y salida de un sistema de control son funciones. Es importante,\n",
    "para las aplicaciones, que estas señales puedan sumarse y multiplicarse por escalares. Estas dos operaciones con funciones tienen propiedades algebraicas completamente análogas a las operaciones de suma de vectores en $\\mathbb{R}$<sup>n</sup> y multiplicación de un vector por un escalar.  \n",
    "Por esta razón, al conjunto de todas las posibles entradas (funciones) se le denomina **espacio vectorial**.   \n",
    "Los fundamentos matemáticos de la ingeniería de sistemas descansan sobre los espacios vectoriales.\n",
    "\n",
    "![No se puede mostrar](http://estaticos03.elmundo.es/elmundo/imagenes/2010/05/15/1273952421_0.jpg)\n",
    "\n",
    "La belleza y el poder del álgebra se verán con mayor claridad cuando percibamos a $\\mathbb{R}$<sup>n</sup> como sólo uno de los diversos espacios vectoriales que surgen de manera natural en problemas de aplicación.  \n",
    "En realidad, el estudio de los espacios vectoriales no es demasiado diferente del propio estudio de $\\mathbb{R}$<sup>n</sup>, porque es posible usar la experiencia geométrica adquirida con $\\mathbb{R}$<sup>2</sup> y $\\mathbb{R}$<sup>3</sup> para visualizar muchos conceptos generales."
   ]
  },
  {
   "cell_type": "markdown",
   "metadata": {},
   "source": [
    "## Combinaciones lineales\n",
    "\n",
    "Dados los vectores v<sub>1</sub>, v<sub>2</sub>, ... , v<sub>j</sub> en $\\mathbb{R}$<sup>n</sup> y los escalares c<sub>1</sub>, c<sub>2</sub>, ... , c<sub>j</sub>, el vector y definido por\n",
    "> y=c<sub>1</sub>v<sub>1</sub> +···+c<sub>j</sub>v<sub>j</sub>  \n",
    "\n",
    "se llama **combinación lineal** de v<sub>1</sub>, v<sub>2</sub>, ... , v<sub>j</sub> con coeficientes c<sub>1</sub>, c<sub>2</sub>, ... , c<sub>j</sub>.  \n",
    "En una combinación lineal, los coeficientes pueden ser cualesquiera números reales, incluso el cero.   \n",
    "\n",
    "<span style=\"color:orange\"> Ejemplo:  \n",
    "$\\sqrt{3} \\cdot$ **v**<sub>1</sub>+**v**<sub>2</sub> es una combinación lineal de los vectores **v**<sub>1</sub> y **v**<sub>2</sub>.   \n",
    "Otras combinaciones lineales de los mismos vectores serían:\n",
    "$\\frac{1}{2}\\cdot$**v**<sub>1</sub>=$\\frac{1}{2}\\cdot$**v**<sub>1</sub>+0$\\cdot$**v**<sub>2</sub>  \n",
    "</style> \n",
    "\n",
    "<span style=\"color:orange\"> Ejemplo: Espionaje industrial  \n",
    "Supongamos que una empresa fabrica 4 productos usando para ello varios recursos en distinta cantidad:</style> \n",
    "\n",
    "|   |   |   |           \n",
    "| -- | -- | -- |  \n",
    "|   |  metal | plástico | agua | electricidad |               \n",
    "| tamagotchi | 1.3  | 0.2  | 0.8  | 0.4 |        \n",
    "| hula hoop  | 0 | 1.5 | 0.4 | 0.3 |         \n",
    "| gusano espiral  | 0.25 | 0 | 0.2  | 0.7 |\n",
    "| blandi-blub  | 0 | 0.3 | 0.7 | 0.5 |\n",
    "\n",
    "<span style=\"color:orange\"> Para hacer un tamagotchi:  **v**<sub>1</sub>={metal:1.3, plastico:0.2, agua:0.8, electricidad:0.4}</style>   \n",
    "![No se puede mostrar](http://static.bonusstage.com.mx/uploads/2018/02/TMG-2.jpg)\n",
    "\n",
    "<span style=\"color:orange\"> Para hacer un hula hoop:  **v**<sub>2</sub>={metal:0, plastico:1.5, agua:0.4, electricidad:0.3}</style>   \n",
    "![No se puede mostrar](https://i1.wp.com/wham-o.com/wp-content/uploads/2017/09/hula-hoop-fold-a-hoop-81570.png?fit=350%2C350&ssl=1)\n",
    "\n",
    "<span style=\"color:orange\"> Para hacer un gusano espiral:  **v**<sub>3</sub>={metal:0.25, plastico:0, agua:0.2, electricidad:0.7}</style>     \n",
    "![No se puede mostrar](https://videismo.net/sites/default/files/resorte.jpg)\n",
    "\n",
    "<span style=\"color:orange\"> Para hacer un blandi-blub:  **v**<sub>4</sub>={metal:0, plastico:0.3, agua:0.7, electricidad:0.5}</style>      \n",
    "![No se puede mostrar](https://cdn3.computerhoy.com/sites/computerhoy.com/files/styles/fullcontent/public/rankings/blandi_blub.jpg?itok=ozGu7xoR)\n",
    " \n",
    "<span style=\"color:orange\">Supongamos que la empresa fabrica $\\alpha$<sub>j</sub> unidades de cada uno de ellos. el total de recursos utilizados es:    \n",
    "> **b**=$\\alpha$<sub>1</sub>$\\cdot$**v**<sub>1</sub> + $\\alpha$<sub>2</sub>$\\cdot$**v**<sub>2</sub> + $\\alpha$<sub>3</sub>$\\cdot$**v**<sub>3</sub> + $\\alpha$<sub>4</sub>$\\cdot$**v**<sub>4</sub>   </style> \n",
    "\n",
    "<span style=\"color:orange\">Supongamos que somos un espía infiltrado en la empresa.  \n",
    "Queremos averiguar el número de tamagotchis que fabrican.  \n",
    "Si conseguimos saber cuánto metal, plástico, agua y electricidad consumen, tendremos el total de recursos usados, es decir, **b**.  \n",
    "¿Sería suficiente para nuestro objetivo? ¿Hay una única solución?  \n",
    "¿Qué pensais?</style>   \n",
    "\n",
    "Aunque lo veremos más adelante en detalle:\n",
    "** Teorema de Rouché-Fröbenius (versión no formal)**  \n",
    "Según el teorema de Rouché-Fröbenius, la condición necesaria y suficiente para que un sistema de m ecuaciones lineales con n incógnitas tenga solución es que el rango de la matriz de los coeficientes $\\alpha$<sub>j</sub> sea igual al rango de la matriz ampliada con la columna del vector **b**.  \n",
    "\n",
    "<span style=\"color:orange\"> Luego la respuesta es que sí, pero no podemos confirmar que sea única hasta que hagamos el cálculo de vectores independientes que tenemos y el cálculo de esa misma independencia ampliando con el vector **b**.</style>  \n",
    "\n",
    "## Generadores\n",
    "\n",
    "Si v<sub>1</sub>, ..., v<sub>j</sub> están en $\\mathbb{V}$, entonces el conjunto de todas las combinaciones lineales de v<sub>1</sub>, ..., v<sub>j</sub> se denota mediante Gen{v<sub>1</sub>, ..., v<sub>j</sub>} y recibe el nombre de **subespacio de $\\mathbb{V}$ generado por v<sub>1</sub>, ..., v<sub>j</sub>**.   \n",
    "Dicho de otro modo, Gen{v<sub>1</sub>, ..., v<sub>j</sub>} es la colección de todos los vectores que pueden escribirse en la forma  \n",
    ">c<sub>1</sub>$\\cdot$v<sub>1</sub> + c<sub>2</sub>$\\cdot$v<sub>2</sub> + ... + c<sub>j</sub>$\\cdot$v<sub>j</sub> \n",
    "\n",
    "donde c<sub>1</sub>, . . . , c<sub>j</sub> son escalares.  \n",
    "Los vectores v<sub>1</sub>, ..., v<sub>j</sub> se denominan **generadores** de $\\mathbb{V}$.  \n",
    "\n",
    "<span style=\"color:orange\"> Ejemplo:  \n",
    "{[2,0,0],[0,2,0],[0,0,1]} es un conjunto de vectores generadores de $\\mathbb{R}$<sup>3</sup>, ya que dado cualquier vector [x,y,z] en $\\mathbb{R}$<sup>3</sup> puede ser escrito como  \n",
    "$\\frac{x}{2}\\cdot$[2,0,0]+$\\frac{y}{2}\\cdot$[0,2,0]+z$\\cdot$[0,0,1].  </style>  \n",
    "\n",
    "Antes de continuar, vamos a volver a definir la suma de vectores y multiplicación de un escalar por un vector del mismo modo que lo vimos en el tema 2:"
   ]
  },
  {
   "cell_type": "code",
   "execution_count": 1,
   "metadata": {
    "collapsed": true
   },
   "outputs": [],
   "source": [
    "def addn(v,w):\n",
    "    return[v[i]+w[i] for i in range(len(v))]"
   ]
  },
  {
   "cell_type": "code",
   "execution_count": 2,
   "metadata": {
    "collapsed": true
   },
   "outputs": [],
   "source": [
    "def mult_vector_escalar(alpha,v):\n",
    "    return [alpha*v[i] for i in range(len(v))]"
   ]
  },
  {
   "cell_type": "markdown",
   "metadata": {},
   "source": [
    "<span style=\"color:orange\"> Ejemplo:  \n",
    "¿Cuántos vectores hay en Gen{[1,1]} en GF(2)?  \n",
    "Las combinaciones lineales posibles son:  \n",
    "0$\\cdot$[1,1]</style>   "
   ]
  },
  {
   "cell_type": "code",
   "execution_count": null,
   "metadata": {
    "collapsed": true
   },
   "outputs": [],
   "source": []
  },
  {
   "cell_type": "markdown",
   "metadata": {},
   "source": [
    "<span style=\"color:orange\"> \n",
    "1$\\cdot$[1,1]</style> "
   ]
  },
  {
   "cell_type": "code",
   "execution_count": null,
   "metadata": {
    "collapsed": true
   },
   "outputs": [],
   "source": []
  },
  {
   "cell_type": "markdown",
   "metadata": {},
   "source": [
    "<span style=\"color:orange\"> \n",
    "Luego el subespacio generado por Gen{[1,1]} en GF(2) tiene dos vectores: {[0,0],[1,1]}  </style> \n",
    "    \n",
    "<span style=\"color:orange\">Ejemplo: ¿Cuántos vectores hay en Gen{}?  \n",
    "Unicamente el vector cero.  </style> \n",
    "\n",
    "<span style=\"color:orange\">Ejemplo: ¿Cuántos vectores hay en Gen{[2,3]} en $\\mathbb{R}$?  \n",
    "Un número infinito: {a$\\cdot$[2,3]: a $\\in$ $\\mathbb{R}$}  </style> \n",
    "\n",
    "<span style=\"color:orange\">Ejemplo:  \n",
    "¿Cuántos vectores hay en Gen{[1,1],[0,1]} en GF(2)?  \n",
    "Las combinaciones lineales posibles son:  \n",
    "0$\\cdot$[1,1]+0$\\cdot$[0,1]\n",
    "</style> "
   ]
  },
  {
   "cell_type": "code",
   "execution_count": null,
   "metadata": {
    "collapsed": true
   },
   "outputs": [],
   "source": []
  },
  {
   "cell_type": "markdown",
   "metadata": {},
   "source": [
    "<span style=\"color:orange\">  \n",
    "0$\\cdot$[1,1]+1$\\cdot$[0,1]\n",
    "</style> "
   ]
  },
  {
   "cell_type": "code",
   "execution_count": null,
   "metadata": {
    "collapsed": true
   },
   "outputs": [],
   "source": []
  },
  {
   "cell_type": "markdown",
   "metadata": {},
   "source": [
    "<span style=\"color:orange\">  \n",
    "1$\\cdot$[1,1]+0$\\cdot$[0,1]\n",
    "</style> "
   ]
  },
  {
   "cell_type": "code",
   "execution_count": null,
   "metadata": {
    "collapsed": true
   },
   "outputs": [],
   "source": []
  },
  {
   "cell_type": "markdown",
   "metadata": {},
   "source": [
    "<span style=\"color:orange\">  \n",
    "1$\\cdot$[1,1]+1$\\cdot$[0,1]\n",
    "</style> "
   ]
  },
  {
   "cell_type": "code",
   "execution_count": null,
   "metadata": {
    "collapsed": true
   },
   "outputs": [],
   "source": []
  },
  {
   "cell_type": "markdown",
   "metadata": {},
   "source": [
    "<span style=\"color:orange\"> Luego hay 4 vectores en el conjunto generador.  </style>\n",
    "\n",
    "<span style=\"color:orange\">Ejemplo:  \n",
    "Otro subespacio generador para $\\mathbb{R}$<sup>3</sup> es {[1,0,0],[1,1,0],[1,1,1]}.  \n",
    "Sabemos que $\\mathbb{R}$<sup>3</sup>={[2,0,0],[0,2,0],[0,0,1]}, por lo que vamos a ver que estos tres vectores se encuentran en Gen{[1,0,0],[1,1,0],[1,1,1]}.  </style>  \n",
    "><span style=\"color:orange\">[2,0,0]=2$\\cdot$[1,0,0]   </style>  \n",
    "><span style=\"color:orange\">[0,2,0]=-2$\\cdot$[1,0,0]+2$\\cdot$[1,1,0]  </style>  \n",
    "><span style=\"color:orange\">[0,0,1]=-1$\\cdot$[1,0,0]-1$\\cdot$[1,1,0]+1$\\cdot$[1,1,1]  </style>  \n",
    "<span style=\"color:orange\">¿Por qué es suficiente?  </style>  \n",
    "* <span style=\"color:orange\">Cualquier vector de $\\mathbb{R}$<sup>3</sup> puede ser escrito como combinación lineal de {[2,0,0],[0,2,0],[0,0,1]}</style>  \n",
    "* <span style=\"color:orange\">Cada uno de los vectores {[2,0,0],[0,2,0],[0,0,1]} puede ser escrito como combinación lineal de {[1,0,0],[1,1,0],[1,1,1]}.</style>  \n",
    "\n",
    "<span style=\"color:blue\"> Ejercicio:  \n",
    "¿Cómo escribirías cada uno de los vectores {[3,0,0],[0,2,0],[0,0,1]} como combinación lineal de {[2,0,1],[1,0,2],[2,2,2]}?\n",
    "Escribe las combinaciones lineales en Python. Seguramente tenga que definir una nueva suma.</style>  \n",
    "\n",
    "\n"
   ]
  },
  {
   "cell_type": "code",
   "execution_count": null,
   "metadata": {
    "collapsed": true
   },
   "outputs": [],
   "source": []
  },
  {
   "cell_type": "code",
   "execution_count": null,
   "metadata": {
    "collapsed": true
   },
   "outputs": [],
   "source": []
  },
  {
   "cell_type": "code",
   "execution_count": null,
   "metadata": {
    "collapsed": true
   },
   "outputs": [],
   "source": []
  },
  {
   "cell_type": "code",
   "execution_count": null,
   "metadata": {
    "collapsed": true
   },
   "outputs": [],
   "source": []
  },
  {
   "cell_type": "markdown",
   "metadata": {},
   "source": [
    "{[1,0,0],[0,1,0],[0,0,1]} es la **base canónica** de $\\mathbb{R}$<sup>3</sup>.  \n",
    "\n",
    "## Sistemas de coordenadas  \n",
    "\n",
    "**Teorema de representación única**  \n",
    "Sea $\\mathbb{B}$ = {b<sub>1</sub>, ... , b<sub>n</sub>} una base para un espacio vectorial $\\mathbb{V}$. Entonces, para cada **x** en $\\mathbb{V}$, existe un único conjunto de escalares c<sub>1</sub>, ... , c<sub>n</sub> tal que\n",
    "**x**=c<sub>1</sub>$\\cdot$b<sub>1</sub> +···+c<sub>n</sub>$\\cdot$b<sub>n</sub>  \n",
    "\n",
    "Supongamos que el conjunto $\\mathbb{B}$ = {b<sub>1</sub>, ... , b<sub>n</sub>} es una base para $\\mathbb{V}$ y que **x** está en $\\mathbb{V}$. Las coordenadas de **x** relativas a la base $\\mathbb{B}$ (o las $\\mathbb{B}$-coordenadas de **x**) son los coeficientes c<sub>1</sub>, ... , c<sub>n</sub> tales que **x**=c<sub>1</sub>$\\cdot$b<sub>1</sub> +···+c<sub>n</sub>$\\cdot$b<sub>n</sub>.  \n",
    "\n",
    "<span style=\"color:orange\"> Ejemplo: Consideremos la base $\\mathbb{B}$ ={b<sub>1</sub>,b<sub>2</sub>} para $\\mathbb{R}$<sup>2</sup>, donde b<sub>1</sub>=[1,0] y b<sub>2</sub>=[1,2].  \n",
    "Supongamos que las $\\mathbb{B}$-coordenadas de **x** son [x]<sub>$\\mathbb{B}$</sub>=[-2,3].\n",
    "Las $\\mathbb{B}$-coordenadas de **x** indican cómo construir x a partir de los vectores en $\\mathbb{B}$. Esto es:</style>  \n",
    "> <span style=\"color:orange\">**x**=-2$\\cdot$b<sub>1</sub>+3$\\cdot$b<sub>2</sub>=[1,6]</style> \n",
    "\n",
    "<span style=\"color:orange\"> El vector [1,6] son las coordenadas de **x** relativas a la base estándar $\\epsilon$ = {**e**<sub>1</sub>, **e**<sub>2</sub>}</style>\n"
   ]
  }
 ],
 "metadata": {
  "kernelspec": {
   "display_name": "Python 2",
   "language": "python",
   "name": "python2"
  },
  "language_info": {
   "codemirror_mode": {
    "name": "ipython",
    "version": 2
   },
   "file_extension": ".py",
   "mimetype": "text/x-python",
   "name": "python",
   "nbconvert_exporter": "python",
   "pygments_lexer": "ipython2",
   "version": "2.7.14"
  }
 },
 "nbformat": 4,
 "nbformat_minor": 2
}
