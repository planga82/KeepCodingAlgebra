{
 "cells": [
  {
   "cell_type": "markdown",
   "metadata": {},
   "source": [
    "# Practica de Algebra lineal\n",
    "\n",
    "### *Nombre*"
   ]
  },
  {
   "cell_type": "markdown",
   "metadata": {},
   "source": [
    "<span style=\"color:blue\">Ejercicio 1:  \n",
    "Usando los procedimientos add y mult_vector_escalar definidos anteriormente, calcular:   \n",
    "{$\\alpha$[1,2]+[3,4] : $\\alpha$$\\in$$\\mathbb{R}$, 0$\\leq$$\\alpha$$\\leq$1, con una precision de dos decimales (para la multiplicación)}</style>"
   ]
  },
  {
   "cell_type": "code",
   "execution_count": 5,
   "metadata": {},
   "outputs": [
    {
     "data": {
      "text/plain": [
       "[[3.0, 4.0],\n",
       " [3.01, 4.02],\n",
       " [3.02, 4.04],\n",
       " [3.03, 4.06],\n",
       " [3.04, 4.08],\n",
       " [3.05, 4.1],\n",
       " [3.06, 4.12],\n",
       " [3.07, 4.14],\n",
       " [3.08, 4.16],\n",
       " [3.09, 4.18],\n",
       " [3.1, 4.2],\n",
       " [3.11, 4.22],\n",
       " [3.12, 4.24],\n",
       " [3.13, 4.26],\n",
       " [3.14, 4.28],\n",
       " [3.15, 4.3],\n",
       " [3.16, 4.32],\n",
       " [3.17, 4.34],\n",
       " [3.18, 4.36],\n",
       " [3.19, 4.38],\n",
       " [3.2, 4.4],\n",
       " [3.21, 4.42],\n",
       " [3.22, 4.44],\n",
       " [3.23, 4.46],\n",
       " [3.24, 4.48],\n",
       " [3.25, 4.5],\n",
       " [3.26, 4.52],\n",
       " [3.27, 4.54],\n",
       " [3.2800000000000002, 4.5600000000000005],\n",
       " [3.29, 4.58],\n",
       " [3.3, 4.6],\n",
       " [3.31, 4.62],\n",
       " [3.32, 4.64],\n",
       " [3.33, 4.66],\n",
       " [3.34, 4.68],\n",
       " [3.35, 4.7],\n",
       " [3.36, 4.72],\n",
       " [3.37, 4.74],\n",
       " [3.38, 4.76],\n",
       " [3.39, 4.78],\n",
       " [3.4, 4.8],\n",
       " [3.41, 4.82],\n",
       " [3.42, 4.84],\n",
       " [3.43, 4.86],\n",
       " [3.44, 4.88],\n",
       " [3.45, 4.9],\n",
       " [3.46, 4.92],\n",
       " [3.4699999999999998, 4.9399999999999995],\n",
       " [3.48, 4.96],\n",
       " [3.49, 4.98],\n",
       " [3.5, 5.0],\n",
       " [3.51, 5.02],\n",
       " [3.52, 5.04],\n",
       " [3.5300000000000002, 5.0600000000000005],\n",
       " [3.54, 5.08],\n",
       " [3.55, 5.1],\n",
       " [3.56, 5.12],\n",
       " [3.57, 5.14],\n",
       " [3.58, 5.16],\n",
       " [3.59, 5.18],\n",
       " [3.6, 5.2],\n",
       " [3.61, 5.22],\n",
       " [3.62, 5.24],\n",
       " [3.63, 5.26],\n",
       " [3.64, 5.28],\n",
       " [3.65, 5.3],\n",
       " [3.66, 5.32],\n",
       " [3.67, 5.34],\n",
       " [3.68, 5.36],\n",
       " [3.69, 5.38],\n",
       " [3.7, 5.4],\n",
       " [3.71, 5.42],\n",
       " [3.7199999999999998, 5.4399999999999995],\n",
       " [3.73, 5.46],\n",
       " [3.74, 5.48],\n",
       " [3.75, 5.5],\n",
       " [3.76, 5.52],\n",
       " [3.77, 5.54],\n",
       " [3.7800000000000002, 5.5600000000000005],\n",
       " [3.79, 5.58],\n",
       " [3.8, 5.6],\n",
       " [3.81, 5.62],\n",
       " [3.82, 5.64],\n",
       " [3.83, 5.66],\n",
       " [3.84, 5.68],\n",
       " [3.85, 5.7],\n",
       " [3.86, 5.72],\n",
       " [3.87, 5.74],\n",
       " [3.88, 5.76],\n",
       " [3.89, 5.78],\n",
       " [3.9, 5.8],\n",
       " [3.91, 5.82],\n",
       " [3.92, 5.84],\n",
       " [3.93, 5.86],\n",
       " [3.94, 5.88],\n",
       " [3.95, 5.9],\n",
       " [3.96, 5.92],\n",
       " [3.9699999999999998, 5.9399999999999995],\n",
       " [3.98, 5.96],\n",
       " [3.99, 5.98]]"
      ]
     },
     "execution_count": 5,
     "metadata": {},
     "output_type": "execute_result"
    }
   ],
   "source": [
    "def mult_vector_escalar(alpha,v):\n",
    "    return [alpha*v[i] for i in range(len(v))]\n",
    "\n",
    "def addn(v,w):\n",
    "    return[v[i]+w[i] for i in range(len(v))]\n",
    "\n",
    "[addn(mult_vector_escalar(float(i)/100,[1,2]),[3,4]) for i in range(100)]"
   ]
  },
  {
   "cell_type": "markdown",
   "metadata": {},
   "source": [
    "<span style=\"color:blue\">Ejercicio 2:  \n",
    "Mortadelo y Filemón usan como clave el siguiente vector:</style>  \n",
    "> <span style=\"color:blue\">**k**=[0,1,0,0,1,0,1,0,1,0]</style>  \n",
    "\n",
    "<span style=\"color:blue\">Mortadelo quiere enviarle a Filemón el siguiente mensaje:</style>  \n",
    "> <span style=\"color:blue\">**p**=[0,0,0,1,1,1,0,1,0,1]</style>  \n",
    "\n",
    "<span style=\"color:blue\">Mortadelo encripta su mensaje añadiendo k:</style>  \n",
    "> <span style=\"color:blue\">**c**=**p**+**k**=[0,0,0,1,1,1,0,1,0,1]+[0,1,0,0,1,0,1,0,1,0]=[0,1,0,1,0,1,1,1,1,1]</style>  \n",
    "\n",
    "<span style=\"color:blue\">Cuando Filemón recibe el mensaje, lo desencripta añadiendo **k** a lo que ha recibido</style>  \n",
    "> <span style=\"color:blue\">**p**=**c**+**k**=[0,1,0,1,0,1,1,1,1,1]+[0,1,0,0,1,0,1,0,1,0]=[0,0,0,1,1,1,0,1,0,1]</style>    \n",
    "\n",
    "<span style=\"color:blue\">que es el mensaje original</style>    \n",
    "  \n",
    " <span style=\"color:blue\">¿Cómo lo harías en Python? (Definiendo un procedimiento)</style>  "
   ]
  },
  {
   "cell_type": "code",
   "execution_count": 6,
   "metadata": {},
   "outputs": [
    {
     "name": "stdout",
     "output_type": "stream",
     "text": [
      "[0, 0, 0, 1, 1, 1, 0, 1, 0, 1]\n",
      "[0, 0, 0, 1, 1, 1, 0, 1, 0, 1]\n"
     ]
    }
   ],
   "source": [
    "def sumGF2(x,y):\n",
    "    if x==y:\n",
    "        return 0\n",
    "    else:\n",
    "        return 1\n",
    "\n",
    "def sumVGF2(v,w):\n",
    "    return [sumGF2(v[i],w[i]) for i in range(len(v))]\n",
    "\n",
    "k=[0,1,0,0,1,0,1,0,1,0]\n",
    "\n",
    "p=[0,0,0,1,1,1,0,1,0,1]\n",
    "\n",
    "c = sumVGF2(k,p)\n",
    "p2 =sumVGF2(k,c)\n",
    "print(p)\n",
    "print(p2)"
   ]
  },
  {
   "cell_type": "markdown",
   "metadata": {},
   "source": [
    "<span style=\"color:blue\">Ejercicio 3: coste total o beneficio. </style>\n",
    "\n",
    "<span style=\"color:blue\">Supongamos que D es el conjunto de algunos ingredientes de la cerveza: </style>\n",
    "> <span style=\"color:blue\">D={lúpulo, malta, agua, levadura}</style>  \n",
    "\n",
    "<span style=\"color:blue\">Por otro lado tenemos el vector coste:</style>  \n",
    "> <span style=\"color:blue\">coste={lúpulo: 2,5€, malta: 1.5€, agua: 0.006€, levadura: 0,45€}</style>  \n",
    "\n",
    "<span style=\"color:blue\">Por último tenemos el vector cantidad con lo necesario para hacer una cerveza:</style>  \n",
    "> <span style=\"color:blue\">cantidad={lúpulo: 6u, malta: 14u, agua: 7u, levadura: 11u}</style>  \n",
    "\n",
    "<span style=\"color:blue\">¿Cuánto cuesta hacer una cerveza?</style> "
   ]
  },
  {
   "cell_type": "code",
   "execution_count": 7,
   "metadata": {},
   "outputs": [
    {
     "data": {
      "text/plain": [
       "40.992000000000004"
      ]
     },
     "execution_count": 7,
     "metadata": {},
     "output_type": "execute_result"
    }
   ],
   "source": [
    "def prod_Vect(v,w):\n",
    "    return sum(v[i]*w[i] for i in range(len(v)))\n",
    "\n",
    "co=[2.5,1.5,0.006,0.45]\n",
    "ca=[6,14,7,11]\n",
    "prod_Vect(co,ca)"
   ]
  },
  {
   "cell_type": "markdown",
   "metadata": {},
   "source": [
    "<span style=\"color:blue\"> Ejercicio 4:   \n",
    "¿Cómo escribirías cada uno de los vectores {[3,0,0],[0,2,0],[0,0,1]} como combinación lineal de {[2,0,1],[1,0,2],[2,2,2]}?\n",
    "Escribe las combinaciones lineales en Python. Seguramente tenga que definir una nueva suma.</style>"
   ]
  },
  {
   "cell_type": "code",
   "execution_count": 11,
   "metadata": {},
   "outputs": [],
   "source": [
    "def addn(v,w,y):\n",
    "    return[v[i]+w[i]+y[i] for i in range(len(v))]\n",
    "def mult_vector_escalar(alpha,v):\n",
    "    return [alpha*v[i] for i in range(len(v))]\n",
    "U = [2,0,1]\n",
    "W = [1,0,2]\n",
    "Y = [2,2,2]"
   ]
  },
  {
   "cell_type": "code",
   "execution_count": 12,
   "metadata": {},
   "outputs": [
    {
     "data": {
      "text/plain": [
       "[3, 0, 0]"
      ]
     },
     "execution_count": 12,
     "metadata": {},
     "output_type": "execute_result"
    }
   ],
   "source": [
    "addn(mult_vector_escalar(2,U),mult_vector_escalar(-1,W),mult_vector_escalar(0,Y))"
   ]
  },
  {
   "cell_type": "code",
   "execution_count": 31,
   "metadata": {},
   "outputs": [
    {
     "data": {
      "text/plain": [
       "[0.0, 2.0, 0.0]"
      ]
     },
     "execution_count": 31,
     "metadata": {},
     "output_type": "execute_result"
    }
   ],
   "source": [
    "addn(mult_vector_escalar(-2./3.,U),mult_vector_escalar(-2./3,W),mult_vector_escalar(1,Y))"
   ]
  },
  {
   "cell_type": "code",
   "execution_count": 39,
   "metadata": {},
   "outputs": [
    {
     "data": {
      "text/plain": [
       "[0.0, 0.0, 1.0]"
      ]
     },
     "execution_count": 39,
     "metadata": {},
     "output_type": "execute_result"
    }
   ],
   "source": [
    "addn(mult_vector_escalar(-1./3,U),mult_vector_escalar(2./3,W),mult_vector_escalar(0,Y))"
   ]
  },
  {
   "cell_type": "markdown",
   "metadata": {},
   "source": [
    "<span style=\"color:blue\"> Ejercicio 5:  \n",
    "Dadas las matrices $\n",
    "  A=\n",
    "  \\left[ {\\begin{array}{cc}\n",
    "   2 & -3 \\\\\n",
    "   -4 & 6\\\\\n",
    "  \\end{array} } \\right]\n",
    "$ , $\n",
    "  B=\n",
    "  \\left[ {\\begin{array}{cc}\n",
    "   8 & 4 \\\\\n",
    "   5 & 5\\\\\n",
    "  \\end{array} } \\right]\n",
    "$\n",
    "y $\n",
    "  C=\n",
    "  \\left[ {\\begin{array}{cc}\n",
    "   5 & -2 \\\\\n",
    "   3 & 1\\\\\n",
    "  \\end{array} } \\right]\n",
    "$, queremos verificar que AB=AC pero que B≠C.</style> "
   ]
  },
  {
   "cell_type": "code",
   "execution_count": 41,
   "metadata": {},
   "outputs": [],
   "source": [
    "import numpy as np\n",
    "A = np.matrix([\n",
    "    [2,-3],\n",
    "    [-4,6]\n",
    "])\n",
    "B = np.matrix([\n",
    "    [8,4],\n",
    "    [5,5]\n",
    "])\n",
    "C = np.matrix([\n",
    "    [5,-2],\n",
    "    [3,1]\n",
    "])\n"
   ]
  },
  {
   "cell_type": "code",
   "execution_count": 49,
   "metadata": {},
   "outputs": [
    {
     "data": {
      "text/plain": [
       "True"
      ]
     },
     "execution_count": 49,
     "metadata": {},
     "output_type": "execute_result"
    }
   ],
   "source": [
    "np.array_equal(A * B, A * C)"
   ]
  },
  {
   "cell_type": "code",
   "execution_count": 50,
   "metadata": {},
   "outputs": [
    {
     "data": {
      "text/plain": [
       "False"
      ]
     },
     "execution_count": 50,
     "metadata": {},
     "output_type": "execute_result"
    }
   ],
   "source": [
    "np.array_equal(B,C)"
   ]
  },
  {
   "cell_type": "markdown",
   "metadata": {},
   "source": [
    "<span style=\"color:blue\"> Ejercicio 6 :  \n",
    "Dadas la matriz $\n",
    "  A=\n",
    "  \\left[ {\\begin{array}{cc}\n",
    "   3 & -6 \\\\\n",
    "   -1 & 2\\\\\n",
    "  \\end{array} } \\right]\n",
    "$ , construye una matriz B de 2 × 2 tal que AB sea igual a la matriz cero. Las columnas de B no deben ser iguales entre sí y deben ser distintas de cero.\n",
    ".</style> "
   ]
  },
  {
   "cell_type": "code",
   "execution_count": 51,
   "metadata": {},
   "outputs": [
    {
     "data": {
      "text/plain": [
       "matrix([[0, 0],\n",
       "        [0, 0]])"
      ]
     },
     "execution_count": 51,
     "metadata": {},
     "output_type": "execute_result"
    }
   ],
   "source": [
    "import numpy as np\n",
    "A = np.matrix([\n",
    "    [3,-6],\n",
    "    [-1,2]\n",
    "])\n",
    "B = np.matrix([\n",
    "    [2,4],\n",
    "    [1,2]\n",
    "])\n",
    "\n",
    "A * B"
   ]
  },
  {
   "cell_type": "markdown",
   "metadata": {},
   "source": [
    "<span style=\"color:blue\"> Ejercicio 7:  \n",
    "Sarrus para el determinante de orden 3.  \n",
    "¿Cómo lo haríamos en Python?</style>"
   ]
  },
  {
   "cell_type": "code",
   "execution_count": 52,
   "metadata": {},
   "outputs": [
    {
     "data": {
      "text/plain": [
       "15"
      ]
     },
     "execution_count": 52,
     "metadata": {},
     "output_type": "execute_result"
    }
   ],
   "source": [
    "import numpy as np\n",
    "A = np.matrix([\n",
    "    [ 1,-4, 2],\n",
    "    [-2, 8,-9],\n",
    "    [-1, 7, 0]\n",
    "])\n",
    "def det_sarrus(m):\n",
    "    a=m[0,0]\n",
    "    b=m[0,1]\n",
    "    c=m[0,2]\n",
    "    d=m[1,0]\n",
    "    e=m[1,1]\n",
    "    f=m[1,2]\n",
    "    g=m[2,0]\n",
    "    h=m[2,1]\n",
    "    i=m[2,2]\n",
    "    return (a*e*i) + (b*f*g) + (c*d*h) - ((c*e*g) + (b*d*i) + (a*f*h))\n",
    "\n",
    "det_sarrus(A)"
   ]
  },
  {
   "cell_type": "markdown",
   "metadata": {},
   "source": [
    "<span style=\"color:blue\"> Ejercicio 8:  \n",
    "Sabemos que hay un modo directo en Python para calcular los rangos. Calcula el número de soluciones de estos tres sistemas de ecuaciones empleándolo.</style> "
   ]
  },
  {
   "cell_type": "code",
   "execution_count": 57,
   "metadata": {},
   "outputs": [],
   "source": [
    "import numpy as np\n",
    "def solucionesSistemaEcuaciones(M, MA):\n",
    "    rm = np.linalg.matrix_rank(M)\n",
    "    rma = np.linalg.matrix_rank(MA)\n",
    "    incognitas = M.shape[1]\n",
    "    if(rm == rma):\n",
    "        if(rm == incognitas):\n",
    "            print(\"Sistema compatible determinado, tiene una única solucion\")\n",
    "        else:\n",
    "            print(\"Sistema compatible indeterminado, tiene infinitas soluciones\")\n",
    "    else:\n",
    "        print(\"Sistema incomptible, no tiene solución\")"
   ]
  },
  {
   "cell_type": "markdown",
   "metadata": {},
   "source": [
    "> <span style=\"color:blue\">x<sub>1</sub> − 2x<sub>2</sub> + x<sub>3</sub> = 0 </style>  \n",
    "> <span style=\"color:blue\">2x<sub>2</sub>−8x<sub>3</sub>= 8  </style>  \n",
    "> <span style=\"color:blue\">−4x<sub>1</sub> + 5x<sub>2</sub> + 9x<sub>3</sub> =− 9</style>"
   ]
  },
  {
   "cell_type": "code",
   "execution_count": 59,
   "metadata": {},
   "outputs": [
    {
     "name": "stdout",
     "output_type": "stream",
     "text": [
      "Sistema compatible determinado, tiene una única solucion\n"
     ]
    }
   ],
   "source": [
    "A = np.array([\n",
    "    [ 1,-2, 1],\n",
    "    [ 0, 2,-8],\n",
    "    [-4, 5, 9]\n",
    "])\n",
    "AM = np.array([\n",
    "    [ 1,-2, 1, 0],\n",
    "    [ 0, 2,-8, 8],\n",
    "    [-4, 5, 9,-9]\n",
    "])\n",
    "solucionesSistemaEcuaciones(A,AM)"
   ]
  },
  {
   "cell_type": "markdown",
   "metadata": {},
   "source": []
  },
  {
   "cell_type": "markdown",
   "metadata": {},
   "source": [
    "> <span style=\"color:blue\">x<sub>2</sub> −4x<sub>3</sub> =8  </style>  \n",
    "> <span style=\"color:blue\">2x<sub>1</sub> −3x<sub>2</sub> + 2x<sub>3</sub> =1  </style>  \n",
    "> <span style=\"color:blue\">5x<sub>1</sub> −8x<sub>2</sub> + 7x<sub>3</sub> =1</style>"
   ]
  },
  {
   "cell_type": "code",
   "execution_count": 60,
   "metadata": {},
   "outputs": [
    {
     "name": "stdout",
     "output_type": "stream",
     "text": [
      "Sistema incomptible, no tiene solución\n"
     ]
    }
   ],
   "source": [
    "B = np.array([\n",
    "    [ 0, 1,-4],\n",
    "    [ 2,-3, 2],\n",
    "    [ 5,-8, 7]\n",
    "])\n",
    "BM = np.array([\n",
    "    [ 0, 1,-4, 8],\n",
    "    [ 2,-3, 2, 1],\n",
    "    [ 5,-8, 7, 1]\n",
    "])\n",
    "solucionesSistemaEcuaciones(B,BM)"
   ]
  },
  {
   "cell_type": "markdown",
   "metadata": {},
   "source": []
  },
  {
   "cell_type": "markdown",
   "metadata": {},
   "source": [
    "> <span style=\"color:blue\">x<sub>1</sub> +x<sub>3</sub> =2  </style>  \n",
    "> <span style=\"color:blue\">2x<sub>1</sub> +3x<sub>2</sub> + x<sub>3</sub> =3  </style>  \n",
    "> <span style=\"color:blue\">3x<sub>1</sub> +3x<sub>2</sub> + 2x<sub>3</sub> =5</style>"
   ]
  },
  {
   "cell_type": "code",
   "execution_count": 61,
   "metadata": {},
   "outputs": [
    {
     "name": "stdout",
     "output_type": "stream",
     "text": [
      "Sistema compatible indeterminado, tiene infinitas soluciones\n"
     ]
    }
   ],
   "source": [
    "C = np.array([\n",
    "    [ 1, 0, 1],\n",
    "    [ 2, 3, 1],\n",
    "    [ 3, 3, 2]\n",
    "])\n",
    "CM = np.array([\n",
    "    [ 1, 0, 1, 2],\n",
    "    [ 2, 3, 1, 3],\n",
    "    [ 3, 3, 2, 5]\n",
    "])\n",
    "solucionesSistemaEcuaciones(C,CM)"
   ]
  },
  {
   "cell_type": "markdown",
   "metadata": {},
   "source": [
    "<span style=\"color:blue\"> Ejercicio 9:  \n",
    "Comprobar que r(x,y) para un ángulo $\\theta$ es una función lineal.</style> "
   ]
  },
  {
   "cell_type": "markdown",
   "metadata": {},
   "source": [
    "\n",
    "$\n",
    "  M =\n",
    "  \\left[ {\\begin{array}{cc}\n",
    "   cos\\theta & -sin\\theta \\\\\n",
    "   sin\\theta & cos\\theta \\\\\n",
    "  \\end{array} } \\right]\n",
    "$\n",
    "\n",
    "  r(αx,αy) = M$\\cdot$[αx,αy] = $ \\left[cos\\theta \\cdotαx - sin\\theta\\cdotαy , sin\\theta\\cdotαx + cos\\theta\\cdotαy\\right]$ =\n",
    "  $\\left[α(cos\\theta \\cdot x - sin\\theta\\cdot y) , α(sin\\theta\\cdot x + cos\\theta\\cdot y)\\right]$ = \n",
    "  $α\\left[(cos\\theta \\cdot x - sin\\theta\\cdot y) , (sin\\theta\\cdot x + cos\\theta\\cdot y)\\right]$ = α$\\cdot$M$\\cdot$(x,y) = α$\\cdot$r(x,y) \n",
    "  "
   ]
  },
  {
   "cell_type": "markdown",
   "metadata": {},
   "source": [
    " $ r([x_1,y_1]+[x_2,y_2])$ =  \n",
    " $ r(x_1+x_2,y_1+y_2) $ =  \n",
    " $ M \\cdot [x_1+x_2,y_1+y_2] $ =  \n",
    "   $ \\left[cos\\theta \\cdot (x_1 + x_2) - sin\\theta\\cdot (y_1 + y_2) , sin\\theta\\cdot (x_1 + x_2) + cos\\theta\\cdot (y_1 + y_2) \\right]$ =   \n",
    "   $ [(cos\\theta \\cdot x_1 + cos\\theta \\cdot x_2) - (sin\\theta\\cdot y_1 + sin\\theta\\cdot y_2) , (sin\\theta\\cdot x_1 + sin\\theta\\cdot x_2) + (cos\\theta\\cdot y_1 + cos\\theta\\cdot y_2) ]$ =  \n",
    "   $ [(cos\\theta \\cdot x_1 - sin\\theta\\cdot y_1) + (cos\\theta \\cdot x_2 - sin\\theta\\cdot y_2) , (sin\\theta\\cdot x_1 + cos\\theta\\cdot y_1) + (sin\\theta\\cdot x_2 + cos\\theta\\cdot y_2) ]$ =  \n",
    "   $ [(cos\\theta \\cdot x_1 - sin\\theta\\cdot y_1), (sin\\theta\\cdot x_1 + cos\\theta\\cdot y_1) ] + [(cos\\theta \\cdot x_2 - sin\\theta\\cdot y_2) , (sin\\theta\\cdot x_2 + cos\\theta\\cdot y_2)]$ =  \n",
    "   $ M \\cdot [x_1,y_1] + M \\cdot [x_2,y_2]$ =  \n",
    "   $ r([x_1,y_1]) + r([x_2,y_2]) $\n",
    "   "
   ]
  },
  {
   "cell_type": "markdown",
   "metadata": {},
   "source": [
    "<span style=\"color:blue\"> Ejercicio 10:  \n",
    "¿Cuál es la representación coordenada del vector v= [6, 3, 2, 5] en términos de los vectores [2, 2, 2, 3], [1, 0, −1, 0], [0, 1, 0, 1]?</style> "
   ]
  },
  {
   "cell_type": "markdown",
   "metadata": {},
   "source": [
    "La representacion en coordenadas es [2,2,-1] ya que 2[2, 2, 2, 3]+2[1, 0, −1, 0]-1[0, 1, 0, 1]=[6,3,2,5]"
   ]
  },
  {
   "cell_type": "markdown",
   "metadata": {},
   "source": [
    "<span style=\"color:blue\"> Ejercicio 11:  \n",
    "Supongamos que queremos diseñar la red de internet para el otro campus universitario.  \n",
    "La red debe lograr la misma conectividad que el grafo de entrada.  \n",
    "Una arista representa un posible cable.  \n",
    "El peso de la arista es el coste de instalar el cable.  \n",
    "Nuestro objetivo es minimizar el coste total, usando el algoritmo Grow y el algoritmo Shrink.  </style> "
   ]
  },
  {
   "cell_type": "markdown",
   "metadata": {},
   "source": [
    "![No se puede mostrar](Images/grafoCiudades.jpg) "
   ]
  },
  {
   "cell_type": "markdown",
   "metadata": {},
   "source": [
    "Algoritmo Grow:\n",
    "\n",
    "Colocamos las aristas en orden creciente según sus pesos: 2,7,9\n",
    "\n",
    "Cogemos la primera arista, de peso 2 y la añadimos al conjunto   \n",
    "S={(Penibroke Campus, Bio-Med)}  \n",
    "Cogemos la menor arista que nos une el nodo que falta (peso 7) y ya tenemos el bosque minimo generador   \n",
    "S={(Penibroke Campus, Bio-Med),(Penibroke Campus, Athletic Complex)}\n",
    "\n",
    "\n",
    "\n",
    "\n"
   ]
  },
  {
   "cell_type": "markdown",
   "metadata": {},
   "source": [
    "Algoritmo Shrink\n",
    "\n",
    "Tenemos el conjunto de todas las aristas:  \n",
    "G={(Penibroke Campus, Bio-Med),(Penibroke Campus, Athletic Complex),(Bio-Med,Athletic Complex)}  \n",
    "Colocamos las aristas en orden decreciente según sus pesos: 9,7,2  \n",
    "Si quitamos la arista de peso 9, el grafo sigue estando conectado  \n",
    "G={(Penibroke Campus, Bio-Med),(Penibroke Campus, Athletic Complex)}  \n",
    "No podemos quitar mas aristas sin que el nodo quede desconectado, por lo que ya hemos llegado al conjunto final"
   ]
  },
  {
   "cell_type": "markdown",
   "metadata": {},
   "source": [
    "<span style=\"color:blue\"> Ejercicio 12:  \n",
    "Sea la matriz $\n",
    "  M=\n",
    "  \\left[ {\\begin{array}{cc}\n",
    "   1 & 0  & 0 & 5 \\\\\n",
    "   0 & 2  & 0 & 7 \\\\\n",
    "   0 & 0  & 3 & 9 \\\\\n",
    "  \\end{array} } \\right]\n",
    "$. Calcular el rango por filas y por columnas usando Python.</style> "
   ]
  },
  {
   "cell_type": "code",
   "execution_count": 2,
   "metadata": {},
   "outputs": [
    {
     "data": {
      "text/plain": [
       "3"
      ]
     },
     "execution_count": 2,
     "metadata": {},
     "output_type": "execute_result"
    }
   ],
   "source": [
    "import numpy as np\n",
    "M=np.matrix([\n",
    "    [1,0,0,5],\n",
    "    [0,2,0,7],\n",
    "    [0,0,3,9]\n",
    "])\n",
    "rangoM=np.linalg.matrix_rank(M)\n",
    "rangoM"
   ]
  },
  {
   "cell_type": "code",
   "execution_count": 3,
   "metadata": {},
   "outputs": [
    {
     "data": {
      "text/plain": [
       "3"
      ]
     },
     "execution_count": 3,
     "metadata": {},
     "output_type": "execute_result"
    }
   ],
   "source": [
    "MT=np.transpose(M)\n",
    "rangoMT=np.linalg.matrix_rank(MT)\n",
    "rangoMT"
   ]
  },
  {
   "cell_type": "markdown",
   "metadata": {
    "collapsed": true
   },
   "source": [
    "<span style=\"color:blue\"> Ejercicio 13 (opcional):  \n",
    "Crea un algoritmo que transforme una matriz cualquiera en GF(2) en una matriz escalonada.</style> "
   ]
  },
  {
   "cell_type": "code",
   "execution_count": null,
   "metadata": {
    "collapsed": true
   },
   "outputs": [],
   "source": []
  },
  {
   "cell_type": "markdown",
   "metadata": {},
   "source": [
    "<span style=\"color:blue\"> Ejercicio 14:  \n",
    "Modificar lo necesario en los algoritmos para que funcionen y calculen el problema de la casa en llamas.</style>"
   ]
  },
  {
   "cell_type": "code",
   "execution_count": 1,
   "metadata": {},
   "outputs": [],
   "source": [
    "import numpy as np\n",
    "\n",
    "def proyeccion_paralela(b, a):\n",
    "    sigma = np.dot(b,a)/np.dot(a,a) if np.dot(a,a) > 10^-20 else 0\n",
    "    return [sigma * a[i] for i in range(len(a))]\n",
    "\n",
    "def proyeccion_ortogonal(b, a):\n",
    "    return b - proyeccion_paralela(b, a)\n",
    "\n",
    "a=np.array([6.,3.])\n",
    "b=np.array([2.,4.])"
   ]
  },
  {
   "cell_type": "code",
   "execution_count": 2,
   "metadata": {},
   "outputs": [
    {
     "data": {
      "text/plain": [
       "[3.2, 1.6]"
      ]
     },
     "execution_count": 2,
     "metadata": {},
     "output_type": "execute_result"
    }
   ],
   "source": [
    "proyeccion_paralela(b,a)"
   ]
  },
  {
   "cell_type": "code",
   "execution_count": 3,
   "metadata": {},
   "outputs": [
    {
     "data": {
      "text/plain": [
       "array([-1.2,  2.4])"
      ]
     },
     "execution_count": 3,
     "metadata": {},
     "output_type": "execute_result"
    }
   ],
   "source": [
    "proyeccion_ortogonal(b,a)"
   ]
  },
  {
   "cell_type": "markdown",
   "metadata": {},
   "source": [
    "**Comentarios Modulo**\n",
    "\n"
   ]
  },
  {
   "cell_type": "code",
   "execution_count": null,
   "metadata": {},
   "outputs": [],
   "source": []
  }
 ],
 "metadata": {
  "kernelspec": {
   "display_name": "Python 2",
   "language": "python",
   "name": "python2"
  },
  "language_info": {
   "codemirror_mode": {
    "name": "ipython",
    "version": 2
   },
   "file_extension": ".py",
   "mimetype": "text/x-python",
   "name": "python",
   "nbconvert_exporter": "python",
   "pygments_lexer": "ipython2",
   "version": "2.7.14"
  }
 },
 "nbformat": 4,
 "nbformat_minor": 2
}
