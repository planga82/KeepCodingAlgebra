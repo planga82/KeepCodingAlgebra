{
 "cells": [
  {
   "cell_type": "markdown",
   "metadata": {},
   "source": [
    "# 6. Sistemas de ecuaciones"
   ]
  },
  {
   "cell_type": "markdown",
   "metadata": {},
   "source": [
    "# Introducción\n",
    "\n",
    "## Modelos lineales en economía e ingeniería\n",
    "\n",
    "A finales del verano de 1949 Wassily Leontief, profesor de Harvard, introdujo cuidadosamente la última de sus tarjetas perforadas en la computadora de la universidad, la Mark II.  \n",
    "Las tarjetas contenían información acerca de la economía de Estados Unidos, y representaban un resumen de más de 250.000 piezas de información producidas por la oficina encargada de las estadísticas laborales en Estados Unidos después de dos años de trabajo intenso.  \n",
    "Leontief había dividido la economía de Estados Unidos en 500 “sectores”, tales como la industria del carbón, la industria automotriz, las comunicaciones, etc.  \n",
    "Para cada sector, escribió una ecuación lineal que describía la forma en que dicho sector distribuía sus salidas hacia otros sectores de la economía.  \n",
    "Debido a que la Mark II, una de las computadoras más grandes de la época, no podía manejar el sistema resultante de 500 ecuaciones y 500 incógnitas, Leontief había condensado el problema en un sistema de 42 ecuaciones y 42 incógnitas.  \n",
    "La programación de la computadora Mark II para las 42 ecuaciones de Leontief requirió varios meses de esfuerzo, y él estaba ansioso por ver cuánto tiempo le tomaría a la máquina resolver el problema. La Mark II trabajó durante 56 horas hasta que finalmente produjo una solución.  \n",
    "Leontief, quien recibió el Premio Nobel de Economía en 1973, abrió la puerta a una nueva era en el modelado matemático de la economía. Sus esfuerzos desplegados en Harvard en 1949 marcaron uno de los primeros usos significativos de las computadoras para analizar lo que entonces era un modelo matemático a gran escala.  \n",
    "Desde entonces, los investigadores de muchos otros campos han empleado computadoras para analizar modelos matemáticos.  \n",
    "Debido a las masivas cantidades de datos involucrados, por lo general, los modelos son lineales, esto es, se describen mediante sistemas de ecuaciones lineales.  \n",
    "La importancia del álgebra lineal para las aplicaciones se ha elevado en proporción directa al aumento del poder de las computadoras, cada nueva generación de equipo y programas de cómputo dispara una demanda de capacidades aún mayores.  \n",
    "Por lo tanto, la ciencia de las computadoras está sólidamente ligada al álgebra lineal mediante el crecimiento explosivo de los procesamientos paralelos de datos y los cálculos a gran escala.  \n",
    "Los cientficos e ingenieros trabajan ahora en problemas mucho más complejos de lo que creían posible hace unas cuantas décadas.  \n",
    "En la actualidad, el álgebra lineal tiene para los estudiantes universitarios un mayor valor potencial en muchos campos científicos y de negocios que cualquier otra materia de matemáticas.  \n",
    "Aunque ya hemos visto algunos ejemplos, otros ejemplos del uso del álgebra lineal:\n",
    "* **Exploración petrolera.** Cuando un barco busca depósitos submarinos de petróleo, diariamente sus computadoras resuelven miles de sistemas de ecuaciones lineales por separado. La información sísmica para elaborar las ecuaciones se obtiene a partir de ondas de choque submarinas creadas mediante explosiones con pistolas de aire. Las ondas rebotan en las rocas que hay bajo la supeficie marina y se miden empleando geófonos conectados a extensos cables instalados debajo del barco.  \n",
    "* **Programación lineal.** En la actualidad, muchas decisiones administrativas importantes se toman con base en modelos de programación lineal que utilizan cientos de variables. Por ejemplo, la industria de las aerolíneas emplea programas lineales para crear los itinerarios de las tripulaciones de vuelo, monitorear las ubicaciones de los aviones, o planear los diversos programas de servicios de apoyo como mantenimiento y operaciones en terminal.\n",
    "* **Redes eléctricas.** Los ingenieros utilizan programas de cómputo de simulación para diseñar circuitos eléctricos y microchips que incluyen millones de transistores. Estos programas utilizan técnicas de álgebra lineal y sistemas de ecuaciones lineales.\n",
    "\n",
    "## ¿Qué es un sistema de ecuaciones lineales?  \n",
    "\n",
    "Dados a<sub>ij</sub>, b<sub>i</sub> escalares, un sistema de ecuaciones lineales:\n",
    "> $a_{11}\\cdot x_1+a_{12}\\cdot x_2+...+a_{1n}\\cdot x_n=b_1$  \n",
    "> $a_{21}\\cdot x_1+a_{22}\\cdot x_2+...+a_{1n}\\cdot x_n=b_2$  \n",
    "> ...  \n",
    "> $a_{m1}\\cdot x_1+a_{m2}\\cdot x_2+...+a_{mn}\\cdot x_n=b_m$  \n",
    "\n",
    "Se llama **matriz de coeficientes** a:  \n",
    "> M=$\\left( {\\begin{array}{cc}\n",
    "   a_{11} & a_{12} & ... & a_{1n}\\\\\n",
    "   a_{21} & a_{22} & ... & a_{2n}\\\\\n",
    "   ... & ... & ... & ...\\\\\n",
    "   a_{m1} & a_{m2} & ... & a_{mn}\\\\\n",
    "  \\end{array} } \\right)$ \n",
    "  \n",
    "y matriz ampliada a:  \n",
    "> M*=$\\left( {\\begin{array}{cc}\n",
    "   a_{11} & a_{12} & ... & a_{1n} & b_1\\\\\n",
    "   a_{21} & a_{22} & ... & a_{2n} & b_2\\\\\n",
    "   ... & ... & ... & ...\\\\\n",
    "   a_{m1} & a_{m2} & ... & a_{mn} & b_3\\\\\n",
    "  \\end{array} } \\right)$  \n",
    "\n",
    "* El sistema de ecuaciones será **compatible** (tiene solución) si detM=detM*\n",
    "> Compatible determinado (tiene una única solución) si detM=detM* =n  \n",
    "> Compatible indeterminado (tiene infinitas soluciones) si detM=detM* <n\n",
    "\n",
    "* El sistema de ecuaciones será **incompatible** (no tiene solución) si detM≠detM*  \n",
    "\n",
    "<span style=\"color:orange\"> Ejemplo:  \n",
    "Vamos a calcular si tiene solución el siguiente sistema de ecuaciones usando Python.  </style>  \n",
    "> <span style=\"color:orange\">x<sub>1</sub> − 2x<sub>2</sub> + x<sub>3</sub> = 0 </style>  \n",
    "> <span style=\"color:orange\">2x<sub>2</sub>−8x<sub>3</sub>= 8  </style>  \n",
    "> <span style=\"color:orange\">−4x<sub>1</sub> + 5x<sub>2</sub> + 9x<sub>3</sub> =− 9</style>"
   ]
  },
  {
   "cell_type": "code",
   "execution_count": null,
   "metadata": {},
   "outputs": [],
   "source": []
  },
  {
   "cell_type": "code",
   "execution_count": null,
   "metadata": {},
   "outputs": [],
   "source": []
  },
  {
   "cell_type": "markdown",
   "metadata": {},
   "source": [
    "<span style=\"color:orange\">Anda! No se puede....Claro! Porque el determinante sólo existe para matrices cuadradas y ésta tiene dimensión 3x4.  \n",
    "¿Cómo lo hacemos?  \n",
    "Tendremos que calcular los 4 determinantes de orden 3 para comprobar si hay alguno diferente de 0 y el rango de B es 3.  \n",
    "Eso sí, el que coincide con la matriz A no hace falta que lo calcule porque ya lo tengo calculado.</style>"
   ]
  },
  {
   "cell_type": "code",
   "execution_count": null,
   "metadata": {},
   "outputs": [],
   "source": []
  },
  {
   "cell_type": "code",
   "execution_count": null,
   "metadata": {},
   "outputs": [],
   "source": []
  },
  {
   "cell_type": "code",
   "execution_count": null,
   "metadata": {},
   "outputs": [],
   "source": []
  },
  {
   "cell_type": "markdown",
   "metadata": {},
   "source": [
    "<span style=\"color:orange\"> ¿Todo esto era necesario? NO!!!! ¿Por qué?  \n",
    "Porque A es uno de los 4 determinantes de orden 3 de B y ya sabíamos que era diferente de 0, por lo que ya teníamos uno que cumplía lo que necesitábamos.</style>   \n",
    "\n",
    "Si el determinante de la **matriz de coeficientes** es distinto de 0, nos encontramos con un SCD."
   ]
  },
  {
   "cell_type": "markdown",
   "metadata": {},
   "source": [
    "<span style=\"color:orange\"> Ejemplo:  \n",
    "Vamos a calcular si tiene solución el siguiente sistema de ecuaciones usando Python.</style>  \n",
    "> <span style=\"color:orange\">x<sub>2</sub> −4x<sub>3</sub> =8  </style>  \n",
    "> <span style=\"color:orange\">2x<sub>1</sub> −3x<sub>2</sub> + 2x<sub>3</sub> =1  </style>  \n",
    "> <span style=\"color:orange\">5x<sub>1</sub> −8x<sub>2</sub> + 7x<sub>3</sub> =1</style>"
   ]
  },
  {
   "cell_type": "code",
   "execution_count": null,
   "metadata": {},
   "outputs": [],
   "source": []
  },
  {
   "cell_type": "markdown",
   "metadata": {},
   "source": [
    "<span style=\"color:orange\"> Da 0, por lo que A no tiene rango 3. Para ver si tiene rango 2, buscamos un determinante de orden 2x2 que sea diferente de 0.</style>"
   ]
  },
  {
   "cell_type": "code",
   "execution_count": null,
   "metadata": {},
   "outputs": [],
   "source": []
  },
  {
   "cell_type": "markdown",
   "metadata": {},
   "source": [
    "<span style=\"color:orange\"> Por lo que A tiene rango 2.  \n",
    "¿Qué ocurre con B?</style>"
   ]
  },
  {
   "cell_type": "code",
   "execution_count": null,
   "metadata": {},
   "outputs": [],
   "source": []
  },
  {
   "cell_type": "code",
   "execution_count": null,
   "metadata": {},
   "outputs": [],
   "source": []
  },
  {
   "cell_type": "code",
   "execution_count": null,
   "metadata": {},
   "outputs": [],
   "source": []
  },
  {
   "cell_type": "markdown",
   "metadata": {},
   "source": [
    "<span style=\"color:orange\"> Luego el rango de B es 3.  \n",
    "Como tienen distinto rango, el sistema es incompatible, es decir, no tiene solución.</style>  "
   ]
  },
  {
   "cell_type": "markdown",
   "metadata": {},
   "source": [
    "<span style=\"color:orange\"> Ejemplo:  \n",
    "Vamos a calcular si tiene solución el siguiente sistema de ecuaciones usando Python.</style>  \n",
    "> <span style=\"color:orange\">x<sub>1</sub> +x<sub>3</sub> =2  </style>  \n",
    "> <span style=\"color:orange\">2x<sub>1</sub> +3x<sub>2</sub> + x<sub>3</sub> =3  </style>  \n",
    "> <span style=\"color:orange\">3x<sub>1</sub> +3x<sub>2</sub> + 2x<sub>3</sub> =5</style>"
   ]
  },
  {
   "cell_type": "code",
   "execution_count": null,
   "metadata": {},
   "outputs": [],
   "source": []
  },
  {
   "cell_type": "code",
   "execution_count": null,
   "metadata": {},
   "outputs": [],
   "source": []
  },
  {
   "cell_type": "markdown",
   "metadata": {},
   "source": [
    "<span style=\"color:orange\"> Luego el rango de A es 2.  \n",
    "¿Qué ocurre con B?</style>  "
   ]
  },
  {
   "cell_type": "code",
   "execution_count": null,
   "metadata": {},
   "outputs": [],
   "source": []
  },
  {
   "cell_type": "code",
   "execution_count": null,
   "metadata": {},
   "outputs": [],
   "source": []
  },
  {
   "cell_type": "code",
   "execution_count": null,
   "metadata": {},
   "outputs": [],
   "source": []
  },
  {
   "cell_type": "markdown",
   "metadata": {},
   "source": [
    "<span style=\"color:orange\"> Luego el rango de B es 2.  \n",
    "Como coinciden y es menor que el número de incógnitas, es un SCI, es decir, tiene infinitas soluciones.</style>  "
   ]
  },
  {
   "cell_type": "markdown",
   "metadata": {},
   "source": [
    "<span style=\"color:blue\"> Ejercicio 8:  \n",
    "Sabemos que hay un modo directo en Python para calcular los rangos. Calcula el número de soluciones de estos tres sistemas de ecuaciones empleándolo.</style> "
   ]
  },
  {
   "cell_type": "markdown",
   "metadata": {},
   "source": [
    "> <span style=\"color:blue\">x<sub>1</sub> − 2x<sub>2</sub> + x<sub>3</sub> = 0 </style>  \n",
    "> <span style=\"color:blue\">2x<sub>2</sub>−8x<sub>3</sub>= 8  </style>  \n",
    "> <span style=\"color:blue\">−4x<sub>1</sub> + 5x<sub>2</sub> + 9x<sub>3</sub> =− 9</style>"
   ]
  },
  {
   "cell_type": "code",
   "execution_count": null,
   "metadata": {
    "collapsed": true
   },
   "outputs": [],
   "source": []
  },
  {
   "cell_type": "markdown",
   "metadata": {},
   "source": []
  },
  {
   "cell_type": "markdown",
   "metadata": {},
   "source": [
    "> <span style=\"color:blue\">x<sub>2</sub> −4x<sub>3</sub> =8  </style>  \n",
    "> <span style=\"color:blue\">2x<sub>1</sub> −3x<sub>2</sub> + 2x<sub>3</sub> =1  </style>  \n",
    "> <span style=\"color:blue\">5x<sub>1</sub> −8x<sub>2</sub> + 7x<sub>3</sub> =1</style>"
   ]
  },
  {
   "cell_type": "code",
   "execution_count": null,
   "metadata": {
    "collapsed": true
   },
   "outputs": [],
   "source": []
  },
  {
   "cell_type": "code",
   "execution_count": null,
   "metadata": {
    "collapsed": true
   },
   "outputs": [],
   "source": []
  },
  {
   "cell_type": "markdown",
   "metadata": {},
   "source": []
  },
  {
   "cell_type": "markdown",
   "metadata": {},
   "source": [
    "> <span style=\"color:blue\">x<sub>1</sub> +x<sub>3</sub> =2  </style>  \n",
    "> <span style=\"color:blue\">2x<sub>1</sub> +3x<sub>2</sub> + x<sub>3</sub> =3  </style>  \n",
    "> <span style=\"color:blue\">3x<sub>1</sub> +3x<sub>2</sub> + 2x<sub>3</sub> =5</style>"
   ]
  },
  {
   "cell_type": "code",
   "execution_count": null,
   "metadata": {
    "collapsed": true
   },
   "outputs": [],
   "source": []
  },
  {
   "cell_type": "code",
   "execution_count": null,
   "metadata": {
    "collapsed": true
   },
   "outputs": [],
   "source": []
  },
  {
   "cell_type": "markdown",
   "metadata": {},
   "source": []
  },
  {
   "cell_type": "markdown",
   "metadata": {},
   "source": [
    "## ¿Cómo calculamos la solución en caso de que exista?  \n",
    "\n",
    "**Método de la matriz inversa**  \n",
    "\n",
    "Dada A $\\cdot$ X = B, entonces X=A<sup>-1</sup> $\\cdot$ B\n",
    "\n",
    "<span style=\"color:orange\"> Ejemplo:  \n",
    "Calculemos la solución del siguiente sistema de ecuaciones usando Python y el método de la matriz inversa.  \n",
    "</style>  \n",
    "> <span style=\"color:orange\">x<sub>1</sub> − 2x<sub>2</sub> + x<sub>3</sub> = 0 </style>  \n",
    "> <span style=\"color:orange\">2x<sub>2</sub>−8x<sub>3</sub>= 8  </style>  \n",
    "> <span style=\"color:orange\">−4x<sub>1</sub> + 5x<sub>2</sub> + 9x<sub>3</sub> =− 9</style>"
   ]
  },
  {
   "cell_type": "code",
   "execution_count": null,
   "metadata": {},
   "outputs": [],
   "source": []
  },
  {
   "cell_type": "markdown",
   "metadata": {},
   "source": [
    "<span style=\"color:orange\"> Ejemplo:  \n",
    "Calculemos la solución del siguiente sistema de ecuaciones usando Python y el método de la matriz inversa. </style>\n",
    "> <span style=\"color:orange\">x<sub>2</sub> −4x<sub>3</sub> =8  </style>  \n",
    "> <span style=\"color:orange\">2x<sub>1</sub> −3x<sub>2</sub> + 2x<sub>3</sub> =1  </style>  \n",
    "> <span style=\"color:orange\">5x<sub>1</sub> −8x<sub>2</sub> + 7x<sub>3</sub> =1</style>"
   ]
  },
  {
   "cell_type": "code",
   "execution_count": null,
   "metadata": {},
   "outputs": [],
   "source": []
  },
  {
   "cell_type": "markdown",
   "metadata": {},
   "source": [
    "<span style=\"color:orange\">Sabíamos que no tenía solución y si nos fijamos los números que devuelve son enormes para el rango en que estamos trabajando, es como si fuesen \"infinito\".</style>"
   ]
  },
  {
   "cell_type": "markdown",
   "metadata": {},
   "source": [
    "<span style=\"color:orange\"> Ejemplo:  \n",
    "Calculemos la solución del siguiente sistema de ecuaciones usando Python y el método de la matriz inversa.</style>  \n",
    "> <span style=\"color:orange\">x<sub>1</sub> +x<sub>3</sub> =2  </style>  \n",
    "> <span style=\"color:orange\">2x<sub>1</sub> +3x<sub>2</sub> + x<sub>3</sub> =3  </style>  \n",
    "> <span style=\"color:orange\">3x<sub>1</sub> +3x<sub>2</sub> + 2x<sub>3</sub> =5</style>"
   ]
  },
  {
   "cell_type": "code",
   "execution_count": null,
   "metadata": {},
   "outputs": [],
   "source": []
  },
  {
   "cell_type": "markdown",
   "metadata": {},
   "source": [
    "<span style=\"color:orange\"> En este caso me devuelve una solución válida, pero no todas las posibles.  \n",
    "¿Cómo haríamos para calcular todas las posibles?  \n",
    "El método más general es la reducción gaussiana:  \n",
    "$\n",
    "  A=\n",
    "  \\left[ {\\begin{array}{cc}\n",
    "   1 & 0 & 1 & 2\\\\\n",
    "   2 & 3 & 1 & 3\\\\\n",
    "   3 & 3 & 2 & 5\\\\\n",
    "  \\end{array} } \\right]\n",
    "$  =  $\n",
    "  \\left[ {\\begin{array}{cc}\n",
    "   1 & 0 & 1 & 2\\\\\n",
    "   0 & 3 & -1 & -1\\\\\n",
    "   0 & 3 & -1 & -1\\\\\n",
    "  \\end{array} } \\right]\n",
    "$ = $\n",
    "  \\left[ {\\begin{array}{cc}\n",
    "   1 & 0 & 1 & 2\\\\\n",
    "   0 & 3 & -1 & -1\\\\\n",
    "   0 & 0 & 0 & 0\\\\\n",
    "  \\end{array} } \\right]\n",
    "$  \n",
    "Lo que se traduce en:  </style>\n",
    "><span style=\"color:orange\"> x<sub>1</sub>+x<sub>3</sub>=2</style>  \n",
    "><span style=\"color:orange\"> 3x<sub>2</sub>-x<sub>3</sub>=-1</style>  \n",
    "\n",
    "<span style=\"color:orange\"> Como comparten el x<sub>3</sub>, x<sub>3</sub>=$\\lambda$.  \n",
    "Luego la solución queda:  \n",
    "> <span style=\"color:orange\">x<sub>1</sub> = 2-$\\lambda$</style>    \n",
    "> <span style=\"color:orange\">x<sub>2</sub> = $\\frac{-1+\\lambda}{3}$</style>    \n",
    "> <span style=\"color:orange\">x<sub>3</sub>=$\\lambda$</style>    "
   ]
  },
  {
   "cell_type": "markdown",
   "metadata": {},
   "source": [
    "**Método de Cramer**\n",
    "\n",
    "Dada A $\\cdot$ X = B, entonces:\n",
    "* x=$\\frac{A_x}{detA}$  \n",
    "* y=$\\frac{A_y}{detA}$  \n",
    "* z=$\\frac{A_z}{detA}$  \n",
    "\n",
    "<span style=\"color:orange\"> Ejemplo:  \n",
    "Calculemos la solución del siguiente sistema de ecuaciones usando Python y el método de Cramer.  \n",
    "</style>  \n",
    "> <span style=\"color:orange\">x<sub>1</sub> − 2x<sub>2</sub> + x<sub>3</sub> = 0 </style>  \n",
    "> <span style=\"color:orange\">2x<sub>2</sub>−8x<sub>3</sub>= 8  </style>  \n",
    "> <span style=\"color:orange\">−4x<sub>1</sub> + 5x<sub>2</sub> + 9x<sub>3</sub> =− 9</style>\n"
   ]
  },
  {
   "cell_type": "code",
   "execution_count": null,
   "metadata": {},
   "outputs": [],
   "source": []
  },
  {
   "cell_type": "markdown",
   "metadata": {},
   "source": [
    "<span style=\"color:orange\"> Ejemplo:  \n",
    "Calculemos la solución del siguiente sistema de ecuaciones usando Python y el método de Cramer. </style>\n",
    "> <span style=\"color:orange\">x<sub>2</sub> −4x<sub>3</sub> =8  </style>  \n",
    "> <span style=\"color:orange\">2x<sub>1</sub> −3x<sub>2</sub> + 2x<sub>3</sub> =1  </style>  \n",
    "> <span style=\"color:orange\">5x<sub>1</sub> −8x<sub>2</sub> + 7x<sub>3</sub> =1</style>"
   ]
  },
  {
   "cell_type": "code",
   "execution_count": null,
   "metadata": {},
   "outputs": [],
   "source": []
  },
  {
   "cell_type": "markdown",
   "metadata": {},
   "source": [
    "<span style=\"color:orange\"> Ejemplo:  \n",
    "Calculemos la solución del siguiente sistema de ecuaciones usando Python y el método de Cramer.</style>  \n",
    "> <span style=\"color:orange\">x<sub>1</sub> +x<sub>3</sub> =2  </style>  \n",
    "> <span style=\"color:orange\">2x<sub>1</sub> +3x<sub>2</sub> + x<sub>3</sub> =3  </style>  \n",
    "> <span style=\"color:orange\">3x<sub>1</sub> +3x<sub>2</sub> + 2x<sub>3</sub> =5</style>"
   ]
  },
  {
   "cell_type": "code",
   "execution_count": null,
   "metadata": {},
   "outputs": [],
   "source": []
  },
  {
   "cell_type": "markdown",
   "metadata": {},
   "source": [
    "En Python, hay una manera directa de resolverlo.\n",
    "\n",
    "<span style=\"color:orange\"> Ejemplo:  \n",
    "</style>  \n",
    "> <span style=\"color:orange\">x<sub>1</sub> − 2x<sub>2</sub> + x<sub>3</sub> = 0 </style>  \n",
    "> <span style=\"color:orange\">2x<sub>2</sub>−8x<sub>3</sub>= 8  </style>  \n",
    "> <span style=\"color:orange\">−4x<sub>1</sub> + 5x<sub>2</sub> + 9x<sub>3</sub> =− 9</style>"
   ]
  },
  {
   "cell_type": "code",
   "execution_count": null,
   "metadata": {},
   "outputs": [],
   "source": []
  },
  {
   "cell_type": "markdown",
   "metadata": {},
   "source": [
    "<span style=\"color:orange\"> Ejemplo:  \n",
    "Calculemos la solución del siguiente sistema de ecuaciones usando NumPy.  </style>   \n",
    "> <span style=\"color:orange\">x<sub>2</sub> −4x<sub>3</sub> =8  </style>  \n",
    "> <span style=\"color:orange\">2x<sub>1</sub> −3x<sub>2</sub> + 2x<sub>3</sub> =1  </style>  \n",
    "> <span style=\"color:orange\">5x<sub>1</sub> −8x<sub>2</sub> + 7x<sub>3</sub> =1</style>"
   ]
  },
  {
   "cell_type": "code",
   "execution_count": null,
   "metadata": {},
   "outputs": [],
   "source": []
  },
  {
   "cell_type": "markdown",
   "metadata": {},
   "source": [
    "<span style=\"color:orange\"> Como podemos ver, no vale porque devuelve solución cuando no la hay.</style>    \n",
    "\n",
    "<span style=\"color:orange\"> Ejemplo:  \n",
    "Calculemos la solución del siguiente sistema de ecuaciones usando Numpy.</style>  \n",
    "> <span style=\"color:orange\">x<sub>1</sub> +x<sub>3</sub> =2  </style>  \n",
    "> <span style=\"color:orange\">2x<sub>1</sub> +3x<sub>2</sub> + x<sub>3</sub> =3  </style>  \n",
    "> <span style=\"color:orange\">3x<sub>1</sub> +3x<sub>2</sub> + 2x<sub>3</sub> =5</style>"
   ]
  },
  {
   "cell_type": "code",
   "execution_count": null,
   "metadata": {},
   "outputs": [],
   "source": []
  },
  {
   "cell_type": "markdown",
   "metadata": {
    "collapsed": true
   },
   "source": [
    "<span style=\"color:orange\"> Como podemos ver, no vale porque devuelve una solución cuando sabemos que hay infinitas.  \n",
    "Hay un método especial para esto en Python:</style>"
   ]
  },
  {
   "cell_type": "code",
   "execution_count": null,
   "metadata": {},
   "outputs": [],
   "source": []
  }
 ],
 "metadata": {
  "kernelspec": {
   "display_name": "Python 3",
   "language": "python",
   "name": "python3"
  },
  "language_info": {
   "codemirror_mode": {
    "name": "ipython",
    "version": 3
   },
   "file_extension": ".py",
   "mimetype": "text/x-python",
   "name": "python",
   "nbconvert_exporter": "python",
   "pygments_lexer": "ipython3",
   "version": "3.6.3"
  }
 },
 "nbformat": 4,
 "nbformat_minor": 2
}
