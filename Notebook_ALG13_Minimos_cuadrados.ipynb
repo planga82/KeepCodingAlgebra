{
 "cells": [
  {
   "cell_type": "markdown",
   "metadata": {},
   "source": [
    "# 13. Método de los mínimos cuadrados"
   ]
  },
  {
   "cell_type": "markdown",
   "metadata": {},
   "source": [
    "El **método de los mínimos cuadrados** nos permite resolver de forma aproximada sistemas de ecuaciones.  \n",
    "\n",
    "Supongamos que tratamos de resolver un sistema de la forma Ax = b.  \n",
    "\n",
    "Identificando la matriz A con la matriz de una determinada aplicación lineal que la define, en una base dada, podemos entender que el sistema tiene solución siempre y cuando b ∈ Im(A). O dicho de otro modo, la columna correspondiente al segundo miembro debe ser linealmente dependiente de las columnas de la matriz A, que en esencia es lo que afirma el Teorema de Rouché-Frobenius.  \n",
    "\n",
    "Supongamos que no existe solución para este sistema. En este caso, puede ser interesante estudiar para qué vector o vectores x', Ax' ≈ b, esto es, tratamos de buscar una solución aproximada del sistema.  \n",
    "\n",
    "Una forma de interpretar esta aproximación es la siguiente:  \n",
    "Si Ax' ≈ b, entonces podemos intentar encontrar x' tal que kAx' − bk sea lo menor posible.  \n",
    "Es decir, tratamos de resolver el problema min<sub>x</sub>$\\|$Ax − b $\\|$  \n",
    "\n",
    "Si el sistema tiene solución, entonces el mínimo del problema anterior es cero, y por tanto Ax = b; pero si no hay solución, tiene sentido buscar el vector x que haga menor esa norma, y por tanto que más se parece a una solución.  \n",
    "\n",
    "Por otra parte, dado cualquier vector x, es evidente que Ax ∈ Im(A), luego el problema anterior se puede escribir como:  \n",
    "min<sub>y∈Im(A)</sub>$\\|$y − b $\\|$b  \n",
    "\n",
    "Al final, usando teoría de proyecciones ortogonales y algún otro concepto, se llega a la conclusión de que se trata de resolver el sistema\n",
    "A<sup>T</sup>Ax'=A<sup>T</sup>b\n",
    "\n",
    "<span style=\"color:orange\"> Ejemplo:  \n",
    "Resolver de forma aproximada el sistema</style>  \n",
    "> <span style=\"color:orange\"> x1 + x2 + x3 = 1</style>    \n",
    "> <span style=\"color:orange\"> x1 + x2 − x3 = 1</style>  \n",
    "> <span style=\"color:orange\"> x3 = 1</style>  "
   ]
  },
  {
   "cell_type": "code",
   "execution_count": null,
   "metadata": {},
   "outputs": [],
   "source": []
  },
  {
   "cell_type": "code",
   "execution_count": null,
   "metadata": {},
   "outputs": [],
   "source": []
  },
  {
   "cell_type": "markdown",
   "metadata": {},
   "source": [
    "<span style=\"color:orange\"> Luego es un sistema incompatible, por lo que no tiene solución.  \n",
    "Queremos calcular AT*A*x'=AT*B  , que lo vamos a definir como: A2*x'=B2.</style>    \n"
   ]
  },
  {
   "cell_type": "code",
   "execution_count": null,
   "metadata": {},
   "outputs": [],
   "source": []
  },
  {
   "cell_type": "code",
   "execution_count": null,
   "metadata": {},
   "outputs": [],
   "source": []
  },
  {
   "cell_type": "markdown",
   "metadata": {},
   "source": [
    "<span style=\"color:orange\">$ \\left[ {\\begin{array}{cc}\n",
    "   2 & 2 & 0 \\\\\n",
    "   2 & 2 & 0 \\\\\n",
    "   0 & 0 & 3 \\\\\n",
    "  \\end{array} } \\right]\n",
    "* \\left[ {\\begin{array}{cc}\n",
    "   x_1 \\\\\n",
    "   x_2 \\\\\n",
    "   x_3 \\\\\n",
    "  \\end{array} } \\right] = \\left[ {\\begin{array}{cc}\n",
    "   2 \\\\\n",
    "   2 \\\\\n",
    "   1 \\\\\n",
    "  \\end{array} } \\right]$</style>    \n",
    "\n",
    "<span style=\"color:orange\">x<sub>1</sub>+x<sub>2</sub>=1  \n",
    "3x<sub>3</sub>=1  </style>  \n",
    "  \n",
    "<span style=\"color:orange\">x<sub>2</sub>=1 -x<sub>1</sub>  \n",
    "x<sub>3</sub>=$\\frac{1}{3}$</style>  \n",
    "\n",
    "<span style=\"color:orange\">Solución: (a,1-a,$\\frac{1}{3}$)</style>    "
   ]
  },
  {
   "cell_type": "markdown",
   "metadata": {
    "collapsed": true
   },
   "source": [
    "<span style=\"color:orange\"> Ejemplo:  \n",
    "Encontrar la recta que mejor aproxima a los puntos (1, 1), (2, 3), (3, 5) y (4, 6).</style>  \n",
    "> <span style=\"color:orange\">a+b=1</style>   \n",
    "> <span style=\"color:orange\">2a+b=3</style>   \n",
    "> <span style=\"color:orange\">3a+b=5</style>   \n",
    "> <span style=\"color:orange\">4a+b=6</style> \n",
    "\n",
    "<span style=\"color:orange\">Ax=b.  \n",
    "$A=\\left[ {\\begin{array}{cc}\n",
    "   1 & 1 \\\\\n",
    "   2 & 1\\\\\n",
    "   3 & 1\\\\\n",
    "   4 & 1\\\\\n",
    "  \\end{array} } \\right]$ y $b=\\left[ {\\begin{array}{cc}\n",
    "   1  \\\\\n",
    "   3 \\\\\n",
    "   5 \\\\\n",
    "   6 \\\\\n",
    "  \\end{array} } \\right]$</style>"
   ]
  },
  {
   "cell_type": "code",
   "execution_count": null,
   "metadata": {},
   "outputs": [],
   "source": []
  },
  {
   "cell_type": "code",
   "execution_count": null,
   "metadata": {},
   "outputs": [],
   "source": []
  },
  {
   "cell_type": "markdown",
   "metadata": {},
   "source": [
    "<span style=\"color:orange\"> Luego es un sistema incompatible, por lo que no tiene solución.  \n",
    "Queremos calcular AT*A*x'=AT*B  , que lo vamos a definir como: A2*x'=B2.</style>   "
   ]
  },
  {
   "cell_type": "code",
   "execution_count": null,
   "metadata": {},
   "outputs": [],
   "source": []
  },
  {
   "cell_type": "code",
   "execution_count": null,
   "metadata": {},
   "outputs": [],
   "source": []
  },
  {
   "cell_type": "markdown",
   "metadata": {},
   "source": [
    "<span style=\"color:orange\">$A2=\\left[ {\\begin{array}{cc}\n",
    "   30 & 10 \\\\\n",
    "   10 & 40\\\\\n",
    "  \\end{array} } \\right]$ y $B2=\\left[ {\\begin{array}{cc}\n",
    "   46 \\\\\n",
    "   15 \\\\\n",
    "  \\end{array} } \\right]$  </style>  \n",
    "  \n",
    "  > <span style=\"color:orange\">30a+10b=46. </style>    \n",
    "  > <span style=\"color:orange\">10a+40b=15</style> "
   ]
  },
  {
   "cell_type": "code",
   "execution_count": null,
   "metadata": {},
   "outputs": [],
   "source": []
  },
  {
   "cell_type": "code",
   "execution_count": null,
   "metadata": {},
   "outputs": [],
   "source": []
  },
  {
   "cell_type": "markdown",
   "metadata": {},
   "source": [
    "<span style=\"color:orange\">Como es un SCD, la solución es muy sencilla. </style>  "
   ]
  },
  {
   "cell_type": "code",
   "execution_count": null,
   "metadata": {},
   "outputs": [],
   "source": []
  },
  {
   "cell_type": "markdown",
   "metadata": {},
   "source": [
    "<span style=\"color:orange\">Por tanto, la recta es y=1.7x-0.5 </style> "
   ]
  }
 ],
 "metadata": {
  "kernelspec": {
   "display_name": "Python 3",
   "language": "python",
   "name": "python3"
  },
  "language_info": {
   "codemirror_mode": {
    "name": "ipython",
    "version": 3
   },
   "file_extension": ".py",
   "mimetype": "text/x-python",
   "name": "python",
   "nbconvert_exporter": "python",
   "pygments_lexer": "ipython3",
   "version": "3.6.3"
  }
 },
 "nbformat": 4,
 "nbformat_minor": 2
}
