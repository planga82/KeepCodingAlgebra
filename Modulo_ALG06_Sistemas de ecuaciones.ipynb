{
 "cells": [
  {
   "cell_type": "markdown",
   "metadata": {},
   "source": [
    "# 6. Sistemas de ecuaciones"
   ]
  },
  {
   "cell_type": "markdown",
   "metadata": {},
   "source": [
    "# Introducción\n",
    "\n",
    "## Modelos lineales en economía e ingeniería\n",
    "\n",
    "A finales del verano de 1949 Wassily Leontief, profesor de Harvard, introdujo cuidadosamente la última de sus tarjetas perforadas en la computadora de la universidad, la Mark II.  \n",
    "Las tarjetas contenían información acerca de la economía de Estados Unidos, y representaban un resumen de más de 250.000 piezas de información producidas por la oficina encargada de las estadísticas laborales en Estados Unidos después de dos años de trabajo intenso.  \n",
    "Leontief había dividido la economía de Estados Unidos en 500 “sectores”, tales como la industria del carbón, la industria automotriz, las comunicaciones, etc.  \n",
    "Para cada sector, escribió una ecuación lineal que describía la forma en que dicho sector distribuía sus salidas hacia otros sectores de la economía.  \n",
    "Debido a que la Mark II, una de las computadoras más grandes de la época, no podía manejar el sistema resultante de 500 ecuaciones y 500 incógnitas, Leontief había condensado el problema en un sistema de 42 ecuaciones y 42 incógnitas.  \n",
    "La programación de la computadora Mark II para las 42 ecuaciones de Leontief requirió varios meses de esfuerzo, y él estaba ansioso por ver cuánto tiempo le tomaría a la máquina resolver el problema. La Mark II trabajó durante 56 horas hasta que finalmente produjo una solución.  \n",
    "Leontief, quien recibió el Premio Nobel de Economía en 1973, abrió la puerta a una nueva era en el modelado matemático de la economía. Sus esfuerzos desplegados en Harvard en 1949 marcaron uno de los primeros usos significativos de las computadoras para analizar lo que entonces era un modelo matemático a gran escala.  \n",
    "Desde entonces, los investigadores de muchos otros campos han empleado computadoras para analizar modelos matemáticos.  \n",
    "Debido a las masivas cantidades de datos involucrados, por lo general, los modelos son lineales, esto es, se describen mediante sistemas de ecuaciones lineales.  \n",
    "La importancia del álgebra lineal para las aplicaciones se ha elevado en proporción directa al aumento del poder de las computadoras, cada nueva generación de equipo y programas de cómputo dispara una demanda de capacidades aún mayores.  \n",
    "Por lo tanto, la ciencia de las computadoras está sólidamente ligada al álgebra lineal mediante el crecimiento explosivo de los procesamientos paralelos de datos y los cálculos a gran escala.  \n",
    "Los cientficos e ingenieros trabajan ahora en problemas mucho más complejos de lo que creían posible hace unas cuantas décadas.  \n",
    "En la actualidad, el álgebra lineal tiene para los estudiantes universitarios un mayor valor potencial en muchos campos científicos y de negocios que cualquier otra materia de matemáticas.  \n",
    "Aunque ya hemos visto algunos ejemplos, otros ejemplos del uso del álgebra lineal:\n",
    "* **Exploración petrolera.** Cuando un barco busca depósitos submarinos de petróleo, diariamente sus computadoras resuelven miles de sistemas de ecuaciones lineales por separado. La información sísmica para elaborar las ecuaciones se obtiene a partir de ondas de choque submarinas creadas mediante explosiones con pistolas de aire. Las ondas rebotan en las rocas que hay bajo la supeficie marina y se miden empleando geófonos conectados a extensos cables instalados debajo del barco.  \n",
    "* **Programación lineal.** En la actualidad, muchas decisiones administrativas importantes se toman con base en modelos de programación lineal que utilizan cientos de variables. Por ejemplo, la industria de las aerolíneas emplea programas lineales para crear los itinerarios de las tripulaciones de vuelo, monitorear las ubicaciones de los aviones, o planear los diversos programas de servicios de apoyo como mantenimiento y operaciones en terminal.\n",
    "* **Redes eléctricas.** Los ingenieros utilizan programas de cómputo de simulación para diseñar circuitos eléctricos y microchips que incluyen millones de transistores. Estos programas utilizan técnicas de álgebra lineal y sistemas de ecuaciones lineales.\n",
    "\n",
    "## ¿Qué es un sistema de ecuaciones lineales?  \n",
    "\n",
    "Dados a<sub>ij</sub>, b<sub>i</sub> escalares, un sistema de ecuaciones lineales:\n",
    "> $a_{11}\\cdot x_1+a_{12}\\cdot x_2+...+a_{1n}\\cdot x_n=b_1$  \n",
    "> $a_{21}\\cdot x_1+a_{22}\\cdot x_2+...+a_{1n}\\cdot x_n=b_2$  \n",
    "> ...  \n",
    "> $a_{m1}\\cdot x_1+a_{m2}\\cdot x_2+...+a_{mn}\\cdot x_n=b_m$  \n",
    "\n",
    "Se llama **matriz de coeficientes** a:  \n",
    "> M=$\\left( {\\begin{array}{cc}\n",
    "   a_{11} & a_{12} & ... & a_{1n}\\\\\n",
    "   a_{21} & a_{22} & ... & a_{2n}\\\\\n",
    "   ... & ... & ... & ...\\\\\n",
    "   a_{m1} & a_{m2} & ... & a_{mn}\\\\\n",
    "  \\end{array} } \\right)$ \n",
    "  \n",
    "y matriz ampliada a:  \n",
    "> M*=$\\left( {\\begin{array}{cc}\n",
    "   a_{11} & a_{12} & ... & a_{1n} & b_1\\\\\n",
    "   a_{21} & a_{22} & ... & a_{2n} & b_2\\\\\n",
    "   ... & ... & ... & ...\\\\\n",
    "   a_{m1} & a_{m2} & ... & a_{mn} & b_3\\\\\n",
    "  \\end{array} } \\right)$  \n",
    "\n",
    "* El sistema de ecuaciones será **compatible** (tiene solución) si detM=detM*\n",
    "> Compatible determinado (tiene una única solución) si detM=detM*=n  \n",
    "> Compatible indeterminado (tiene infinitas soluciones) si detM=detM*<n\n",
    "\n",
    "* El sistema de ecuaciones será **incompatible** (no tiene solución) si detM≠detM*  \n",
    "\n",
    "<span style=\"color:orange\"> Ejemplo:  \n",
    "Vamos a calcular si tiene solución el siguiente sistema de ecuaciones usando Python.  \n",
    "> x1 − 2x2 + x3 = 0 \n",
    "> 2x2−8x3= 8  \n",
    "> −4x1 + 5x2 + 9x3 =− 9</style>"
   ]
  },
  {
   "cell_type": "code",
   "execution_count": null,
   "metadata": {
    "collapsed": true
   },
   "outputs": [],
   "source": []
  },
  {
   "cell_type": "markdown",
   "metadata": {},
   "source": [
    "<span style=\"color:orange\"> Ejemplo:  \n",
    "Vamos a calcular si tiene solución el siguiente sistema de ecuaciones usando Python.  \n",
    "> x2 −4x3 =8\n",
    "> 2x1 −3x2 + 2x3 =1 \n",
    "> 5x1 −8x2 + 7x3 =1</style>"
   ]
  },
  {
   "cell_type": "code",
   "execution_count": null,
   "metadata": {
    "collapsed": true
   },
   "outputs": [],
   "source": []
  },
  {
   "cell_type": "markdown",
   "metadata": {},
   "source": [
    "## ¿Cómo calculamos la solución en caso de que exista?  \n",
    "\n",
    "Dada A $\\cdot$ X = B, entonces X=A<sup>-1</sup> $\\cdot$ B\n",
    "\n",
    "<span style=\"color:orange\"> Ejemplo:  \n",
    "Calculemos la solución del siguiente sistema de ecuaciones usando Python y el método de la matriz inversa.  \n",
    "> x1 − 2x2 + x3 = 0 \n",
    "> 2x2−8x3= 8  \n",
    "> −4x1 + 5x2 + 9x3 =− 9</style>"
   ]
  },
  {
   "cell_type": "code",
   "execution_count": null,
   "metadata": {
    "collapsed": true
   },
   "outputs": [],
   "source": []
  },
  {
   "cell_type": "markdown",
   "metadata": {},
   "source": [
    "<span style=\"color:orange\"> Ejemplo:  \n",
    "Calculemos la solución del siguiente sistema de ecuaciones usando Python y el método de la matriz inversa. \n",
    "> x2 −4x3 =8\n",
    "> 2x1 −3x2 + 2x3 =1 \n",
    "> 5x1 −8x2 + 7x3 =1</style>"
   ]
  },
  {
   "cell_type": "code",
   "execution_count": null,
   "metadata": {
    "collapsed": true
   },
   "outputs": [],
   "source": []
  },
  {
   "cell_type": "markdown",
   "metadata": {},
   "source": [
    "**Método de Cramer**\n",
    "\n",
    "Dada A $\\cdot$ X = B, entonces:\n",
    "* x=$\\frac{A_x}{detA}$  \n",
    "* y=$\\frac{A_y}{detA}$  \n",
    "* z=$\\frac{A_z}{detA}$  \n",
    "\n",
    "<span style=\"color:orange\"> Ejemplo:  \n",
    "Calculemos la solución del siguiente sistema de ecuaciones usando Python y el método de Cramer.  \n",
    "> x1 − 2x2 + x3 = 0 \n",
    "> 2x2−8x3= 8  \n",
    "> −4x1 + 5x2 + 9x3 =− 9</style>\n"
   ]
  },
  {
   "cell_type": "code",
   "execution_count": null,
   "metadata": {
    "collapsed": true
   },
   "outputs": [],
   "source": []
  },
  {
   "cell_type": "markdown",
   "metadata": {},
   "source": [
    "<span style=\"color:orange\"> Ejemplo:  \n",
    "Calculemos la solución del siguiente sistema de ecuaciones usando Python y el método de Cramer. \n",
    "> x2 −4x3 =8\n",
    "> 2x1 −3x2 + 2x3 =1 \n",
    "> 5x1 −8x2 + 7x3 =1</style>"
   ]
  },
  {
   "cell_type": "code",
   "execution_count": null,
   "metadata": {
    "collapsed": true
   },
   "outputs": [],
   "source": []
  },
  {
   "cell_type": "markdown",
   "metadata": {},
   "source": [
    "En Python, hay una manera directa de resolverlo.\n",
    "\n",
    "<span style=\"color:orange\"> Ejemplo:  \n",
    "Calculemos la solución del siguiente sistema de ecuaciones usando NumPy.  \n",
    "> x1 − 2x2 + x3 = 0 \n",
    "> 2x2−8x3= 8  \n",
    "> −4x1 + 5x2 + 9x3 =− 9</style>"
   ]
  },
  {
   "cell_type": "code",
   "execution_count": 3,
   "metadata": {},
   "outputs": [
    {
     "data": {
      "text/plain": [
       "matrix([[ -9.00719925e+15],\n",
       "        [ -7.20575940e+15],\n",
       "        [ -1.80143985e+15]])"
      ]
     },
     "execution_count": 3,
     "metadata": {},
     "output_type": "execute_result"
    }
   ],
   "source": []
  },
  {
   "cell_type": "markdown",
   "metadata": {},
   "source": [
    "<span style=\"color:orange\"> Ejemplo:  \n",
    "Calculemos la solución del siguiente sistema de ecuaciones usando NumPy.  \n",
    "> x2 −4x3 =8\n",
    "> 2x1 −3x2 + 2x3 =1 \n",
    "> 5x1 −8x2 + 7x3 =1</style>"
   ]
  },
  {
   "cell_type": "code",
   "execution_count": null,
   "metadata": {
    "collapsed": true
   },
   "outputs": [],
   "source": []
  }
 ],
 "metadata": {
  "kernelspec": {
   "display_name": "Python 3",
   "language": "python",
   "name": "python3"
  },
  "language_info": {
   "codemirror_mode": {
    "name": "ipython",
    "version": 3
   },
   "file_extension": ".py",
   "mimetype": "text/x-python",
   "name": "python",
   "nbconvert_exporter": "python",
   "pygments_lexer": "ipython3",
   "version": "3.6.3"
  }
 },
 "nbformat": 4,
 "nbformat_minor": 2
}
