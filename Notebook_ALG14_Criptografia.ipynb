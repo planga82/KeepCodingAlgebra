{
 "cells": [
  {
   "cell_type": "markdown",
   "metadata": {},
   "source": [
    "# 14. Criptografia"
   ]
  },
  {
   "cell_type": "markdown",
   "metadata": {},
   "source": [
    "A=1   \n",
    "B=2   \n",
    "C=3   \n",
    "D=4   \n",
    "E=5   \n",
    "F=6   \n",
    "G=7   \n",
    "H=8   \n",
    "I=9   \n",
    "J=10   \n",
    "K=11   \n",
    "L=12   \n",
    "M=13   \n",
    "N=14   \n",
    "Ñ=15   \n",
    "O=16   \n",
    "P=17   \n",
    "Q=18   \n",
    "R=19   \n",
    "S=20   \n",
    "T=21   \n",
    "U=22   \n",
    "V=23   \n",
    "W=24   \n",
    "X=25   \n",
    "Y=26   \n",
    "Z=27   \n",
    "espacio=28   "
   ]
  },
  {
   "cell_type": "markdown",
   "metadata": {
    "collapsed": true
   },
   "source": [
    "'ALGEBRA LINEAL CON PYTHON'  \n",
    "1 12 7 5 2 19 1 28 12 9 14 5 1 12 18 3 16 14 28 17 26 21 8 16 14  \n",
    "Agrupar la cifras en grupos de tres:  \n",
    "(1,12,7) (5,2,19) (1,28,12) (9,14,5) (1,12,18) (3,16,14) (28,17,26) (21,8,16) (14,0,0)  \n",
    "\n",
    "Le vamos a aplicar la siguiente transformación:  \n",
    "$A=\n",
    "  \\left[ {\\begin{array}{cc}\n",
    "   2 & 5 & 3\\\\\n",
    "   1 & 3 & 2\\\\\n",
    "   3 & 6 & 4\\\\\n",
    "  \\end{array} } \\right]$"
   ]
  },
  {
   "cell_type": "code",
   "execution_count": null,
   "metadata": {
    "collapsed": true
   },
   "outputs": [],
   "source": []
  },
  {
   "cell_type": "markdown",
   "metadata": {},
   "source": [
    "Mensaje enviado:  \n",
    "83,51,103,77,49,103,178,109,219,103,61,131,116,73,147,128,79,161,219,131,290,130,77,175,28,14,42  \n",
    "Si queremos descifrarlo:"
   ]
  },
  {
   "cell_type": "code",
   "execution_count": null,
   "metadata": {
    "collapsed": true
   },
   "outputs": [],
   "source": []
  }
 ],
 "metadata": {
  "kernelspec": {
   "display_name": "Python 3",
   "language": "python",
   "name": "python3"
  },
  "language_info": {
   "codemirror_mode": {
    "name": "ipython",
    "version": 3
   },
   "file_extension": ".py",
   "mimetype": "text/x-python",
   "name": "python",
   "nbconvert_exporter": "python",
   "pygments_lexer": "ipython3",
   "version": "3.6.3"
  }
 },
 "nbformat": 4,
 "nbformat_minor": 2
}
