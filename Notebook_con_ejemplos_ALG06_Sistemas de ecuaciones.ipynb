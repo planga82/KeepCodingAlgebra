{
 "cells": [
  {
   "cell_type": "markdown",
   "metadata": {},
   "source": [
    "# 6. Sistemas de ecuaciones"
   ]
  },
  {
   "cell_type": "markdown",
   "metadata": {},
   "source": [
    "# Introducción\n",
    "\n",
    "## Modelos lineales en economía e ingeniería\n",
    "\n",
    "A finales del verano de 1949 Wassily Leontief, profesor de Harvard, introdujo cuidadosamente la última de sus tarjetas perforadas en la computadora de la universidad, la Mark II.  \n",
    "Las tarjetas contenían información acerca de la economía de Estados Unidos, y representaban un resumen de más de 250.000 piezas de información producidas por la oficina encargada de las estadísticas laborales en Estados Unidos después de dos años de trabajo intenso.  \n",
    "Leontief había dividido la economía de Estados Unidos en 500 “sectores”, tales como la industria del carbón, la industria automotriz, las comunicaciones, etc.  \n",
    "Para cada sector, escribió una ecuación lineal que describía la forma en que dicho sector distribuía sus salidas hacia otros sectores de la economía.  \n",
    "Debido a que la Mark II, una de las computadoras más grandes de la época, no podía manejar el sistema resultante de 500 ecuaciones y 500 incógnitas, Leontief había condensado el problema en un sistema de 42 ecuaciones y 42 incógnitas.  \n",
    "La programación de la computadora Mark II para las 42 ecuaciones de Leontief requirió varios meses de esfuerzo, y él estaba ansioso por ver cuánto tiempo le tomaría a la máquina resolver el problema. La Mark II trabajó durante 56 horas hasta que finalmente produjo una solución.  \n",
    "Leontief, quien recibió el Premio Nobel de Economía en 1973, abrió la puerta a una nueva era en el modelado matemático de la economía. Sus esfuerzos desplegados en Harvard en 1949 marcaron uno de los primeros usos significativos de las computadoras para analizar lo que entonces era un modelo matemático a gran escala.  \n",
    "Desde entonces, los investigadores de muchos otros campos han empleado computadoras para analizar modelos matemáticos.  \n",
    "Debido a las masivas cantidades de datos involucrados, por lo general, los modelos son lineales, esto es, se describen mediante sistemas de ecuaciones lineales.  \n",
    "La importancia del álgebra lineal para las aplicaciones se ha elevado en proporción directa al aumento del poder de las computadoras, cada nueva generación de equipo y programas de cómputo dispara una demanda de capacidades aún mayores.  \n",
    "Por lo tanto, la ciencia de las computadoras está sólidamente ligada al álgebra lineal mediante el crecimiento explosivo de los procesamientos paralelos de datos y los cálculos a gran escala.  \n",
    "Los cientficos e ingenieros trabajan ahora en problemas mucho más complejos de lo que creían posible hace unas cuantas décadas.  \n",
    "En la actualidad, el álgebra lineal tiene para los estudiantes universitarios un mayor valor potencial en muchos campos científicos y de negocios que cualquier otra materia de matemáticas.  \n",
    "Aunque ya hemos visto algunos ejemplos, otros ejemplos del uso del álgebra lineal:\n",
    "* **Exploración petrolera.** Cuando un barco busca depósitos submarinos de petróleo, diariamente sus computadoras resuelven miles de sistemas de ecuaciones lineales por separado. La información sísmica para elaborar las ecuaciones se obtiene a partir de ondas de choque submarinas creadas mediante explosiones con pistolas de aire. Las ondas rebotan en las rocas que hay bajo la supeficie marina y se miden empleando geófonos conectados a extensos cables instalados debajo del barco.  \n",
    "* **Programación lineal.** En la actualidad, muchas decisiones administrativas importantes se toman con base en modelos de programación lineal que utilizan cientos de variables. Por ejemplo, la industria de las aerolíneas emplea programas lineales para crear los itinerarios de las tripulaciones de vuelo, monitorear las ubicaciones de los aviones, o planear los diversos programas de servicios de apoyo como mantenimiento y operaciones en terminal.\n",
    "* **Redes eléctricas.** Los ingenieros utilizan programas de cómputo de simulación para diseñar circuitos eléctricos y microchips que incluyen millones de transistores. Estos programas utilizan técnicas de álgebra lineal y sistemas de ecuaciones lineales.\n",
    "\n",
    "## ¿Qué es un sistema de ecuaciones lineales?  \n",
    "\n",
    "Dados a<sub>ij</sub>, b<sub>i</sub> escalares, un sistema de ecuaciones lineales:\n",
    "> $a_{11}\\cdot x_1+a_{12}\\cdot x_2+...+a_{1n}\\cdot x_n=b_1$  \n",
    "> $a_{21}\\cdot x_1+a_{22}\\cdot x_2+...+a_{1n}\\cdot x_n=b_2$  \n",
    "> ...  \n",
    "> $a_{m1}\\cdot x_1+a_{m2}\\cdot x_2+...+a_{mn}\\cdot x_n=b_m$  \n",
    "\n",
    "Se llama **matriz de coeficientes** a:  \n",
    "> M=$\\left( {\\begin{array}{cc}\n",
    "   a_{11} & a_{12} & ... & a_{1n}\\\\\n",
    "   a_{21} & a_{22} & ... & a_{2n}\\\\\n",
    "   ... & ... & ... & ...\\\\\n",
    "   a_{m1} & a_{m2} & ... & a_{mn}\\\\\n",
    "  \\end{array} } \\right)$ \n",
    "  \n",
    "y matriz ampliada a:  \n",
    "> M*=$\\left( {\\begin{array}{cc}\n",
    "   a_{11} & a_{12} & ... & a_{1n} & b_1\\\\\n",
    "   a_{21} & a_{22} & ... & a_{2n} & b_2\\\\\n",
    "   ... & ... & ... & ...\\\\\n",
    "   a_{m1} & a_{m2} & ... & a_{mn} & b_3\\\\\n",
    "  \\end{array} } \\right)$  \n",
    "\n",
    "* El sistema de ecuaciones será **compatible** (tiene solución) si detM=detM*\n",
    "> Compatible determinado (tiene una única solución) si detM=detM* =n  \n",
    "> Compatible indeterminado (tiene infinitas soluciones) si detM=detM* <n\n",
    "\n",
    "* El sistema de ecuaciones será **incompatible** (no tiene solución) si detM≠detM*  \n",
    "\n",
    "<span style=\"color:orange\"> Ejemplo:  \n",
    "Vamos a calcular si tiene solución el siguiente sistema de ecuaciones usando Python.  </style>  \n",
    "> <span style=\"color:orange\">x<sub>1</sub> − 2x<sub>2</sub> + x<sub>3</sub> = 0 </style>  \n",
    "> <span style=\"color:orange\">2x<sub>2</sub>−8x<sub>3</sub>= 8  </style>  \n",
    "> <span style=\"color:orange\">−4x<sub>1</sub> + 5x<sub>2</sub> + 9x<sub>3</sub> =− 9</style>"
   ]
  },
  {
   "cell_type": "code",
   "execution_count": 44,
   "metadata": {},
   "outputs": [
    {
     "data": {
      "text/plain": [
       "1.9999999999999998"
      ]
     },
     "execution_count": 44,
     "metadata": {},
     "output_type": "execute_result"
    }
   ],
   "source": [
    "import numpy as np\n",
    "A=([\n",
    "    [1,-2,1],\n",
    "    [0,2,-8],\n",
    "    [-4,5,9]\n",
    "])\n",
    "detA=np.linalg.det(A)\n",
    "detA"
   ]
  },
  {
   "cell_type": "code",
   "execution_count": 45,
   "metadata": {},
   "outputs": [
    {
     "ename": "LinAlgError",
     "evalue": "Last 2 dimensions of the array must be square",
     "output_type": "error",
     "traceback": [
      "\u001b[0;31m---------------------------------------------------------------------------\u001b[0m",
      "\u001b[0;31mLinAlgError\u001b[0m                               Traceback (most recent call last)",
      "\u001b[0;32m<ipython-input-45-f6f005cd80a7>\u001b[0m in \u001b[0;36m<module>\u001b[0;34m()\u001b[0m\n\u001b[1;32m      5\u001b[0m     \u001b[0;34m[\u001b[0m\u001b[0;34m-\u001b[0m\u001b[0;36m4\u001b[0m\u001b[0;34m,\u001b[0m\u001b[0;36m5\u001b[0m\u001b[0;34m,\u001b[0m\u001b[0;36m9\u001b[0m\u001b[0;34m,\u001b[0m\u001b[0;34m-\u001b[0m\u001b[0;36m9\u001b[0m\u001b[0;34m]\u001b[0m\u001b[0;34m\u001b[0m\u001b[0m\n\u001b[1;32m      6\u001b[0m ])\n\u001b[0;32m----> 7\u001b[0;31m \u001b[0mdetB\u001b[0m\u001b[0;34m=\u001b[0m\u001b[0mnp\u001b[0m\u001b[0;34m.\u001b[0m\u001b[0mlinalg\u001b[0m\u001b[0;34m.\u001b[0m\u001b[0mdet\u001b[0m\u001b[0;34m(\u001b[0m\u001b[0mB\u001b[0m\u001b[0;34m)\u001b[0m\u001b[0;34m\u001b[0m\u001b[0m\n\u001b[0m\u001b[1;32m      8\u001b[0m \u001b[0mdetB\u001b[0m\u001b[0;34m\u001b[0m\u001b[0m\n",
      "\u001b[0;32m~/Formaciones/anaconda3/lib/python3.6/site-packages/numpy/linalg/linalg.py\u001b[0m in \u001b[0;36mdet\u001b[0;34m(a)\u001b[0m\n\u001b[1;32m   1799\u001b[0m     \u001b[0ma\u001b[0m \u001b[0;34m=\u001b[0m \u001b[0masarray\u001b[0m\u001b[0;34m(\u001b[0m\u001b[0ma\u001b[0m\u001b[0;34m)\u001b[0m\u001b[0;34m\u001b[0m\u001b[0m\n\u001b[1;32m   1800\u001b[0m     \u001b[0m_assertRankAtLeast2\u001b[0m\u001b[0;34m(\u001b[0m\u001b[0ma\u001b[0m\u001b[0;34m)\u001b[0m\u001b[0;34m\u001b[0m\u001b[0m\n\u001b[0;32m-> 1801\u001b[0;31m     \u001b[0m_assertNdSquareness\u001b[0m\u001b[0;34m(\u001b[0m\u001b[0ma\u001b[0m\u001b[0;34m)\u001b[0m\u001b[0;34m\u001b[0m\u001b[0m\n\u001b[0m\u001b[1;32m   1802\u001b[0m     \u001b[0mt\u001b[0m\u001b[0;34m,\u001b[0m \u001b[0mresult_t\u001b[0m \u001b[0;34m=\u001b[0m \u001b[0m_commonType\u001b[0m\u001b[0;34m(\u001b[0m\u001b[0ma\u001b[0m\u001b[0;34m)\u001b[0m\u001b[0;34m\u001b[0m\u001b[0m\n\u001b[1;32m   1803\u001b[0m     \u001b[0msignature\u001b[0m \u001b[0;34m=\u001b[0m \u001b[0;34m'D->D'\u001b[0m \u001b[0;32mif\u001b[0m \u001b[0misComplexType\u001b[0m\u001b[0;34m(\u001b[0m\u001b[0mt\u001b[0m\u001b[0;34m)\u001b[0m \u001b[0;32melse\u001b[0m \u001b[0;34m'd->d'\u001b[0m\u001b[0;34m\u001b[0m\u001b[0m\n",
      "\u001b[0;32m~/Formaciones/anaconda3/lib/python3.6/site-packages/numpy/linalg/linalg.py\u001b[0m in \u001b[0;36m_assertNdSquareness\u001b[0;34m(*arrays)\u001b[0m\n\u001b[1;32m    210\u001b[0m     \u001b[0;32mfor\u001b[0m \u001b[0ma\u001b[0m \u001b[0;32min\u001b[0m \u001b[0marrays\u001b[0m\u001b[0;34m:\u001b[0m\u001b[0;34m\u001b[0m\u001b[0m\n\u001b[1;32m    211\u001b[0m         \u001b[0;32mif\u001b[0m \u001b[0mmax\u001b[0m\u001b[0;34m(\u001b[0m\u001b[0ma\u001b[0m\u001b[0;34m.\u001b[0m\u001b[0mshape\u001b[0m\u001b[0;34m[\u001b[0m\u001b[0;34m-\u001b[0m\u001b[0;36m2\u001b[0m\u001b[0;34m:\u001b[0m\u001b[0;34m]\u001b[0m\u001b[0;34m)\u001b[0m \u001b[0;34m!=\u001b[0m \u001b[0mmin\u001b[0m\u001b[0;34m(\u001b[0m\u001b[0ma\u001b[0m\u001b[0;34m.\u001b[0m\u001b[0mshape\u001b[0m\u001b[0;34m[\u001b[0m\u001b[0;34m-\u001b[0m\u001b[0;36m2\u001b[0m\u001b[0;34m:\u001b[0m\u001b[0;34m]\u001b[0m\u001b[0;34m)\u001b[0m\u001b[0;34m:\u001b[0m\u001b[0;34m\u001b[0m\u001b[0m\n\u001b[0;32m--> 212\u001b[0;31m             \u001b[0;32mraise\u001b[0m \u001b[0mLinAlgError\u001b[0m\u001b[0;34m(\u001b[0m\u001b[0;34m'Last 2 dimensions of the array must be square'\u001b[0m\u001b[0;34m)\u001b[0m\u001b[0;34m\u001b[0m\u001b[0m\n\u001b[0m\u001b[1;32m    213\u001b[0m \u001b[0;34m\u001b[0m\u001b[0m\n\u001b[1;32m    214\u001b[0m \u001b[0;32mdef\u001b[0m \u001b[0m_assertFinite\u001b[0m\u001b[0;34m(\u001b[0m\u001b[0;34m*\u001b[0m\u001b[0marrays\u001b[0m\u001b[0;34m)\u001b[0m\u001b[0;34m:\u001b[0m\u001b[0;34m\u001b[0m\u001b[0m\n",
      "\u001b[0;31mLinAlgError\u001b[0m: Last 2 dimensions of the array must be square"
     ]
    }
   ],
   "source": [
    "import numpy as np\n",
    "B=([\n",
    "    [1,-2,1,0],\n",
    "    [0,2,-8,8],\n",
    "    [-4,5,9,-9]\n",
    "])\n",
    "detB=np.linalg.det(B)\n",
    "detB"
   ]
  },
  {
   "cell_type": "markdown",
   "metadata": {},
   "source": [
    "<span style=\"color:orange\">Anda! No se puede....Claro! Porque el determinante sólo existe para matrices cuadradas y ésta tiene dimensión 3x4.  \n",
    "¿Cómo lo hacemos?  \n",
    "Tendremos que calcular los 4 determinantes de orden 3 para comprobar si hay alguno diferente de 0 y el rango de B es 3.  \n",
    "Eso sí, el que coincide con la matriz A no hace falta que lo calcule porque ya lo tengo calculado.</style>"
   ]
  },
  {
   "cell_type": "code",
   "execution_count": 46,
   "metadata": {},
   "outputs": [
    {
     "data": {
      "text/plain": [
       "58.000000000000036"
      ]
     },
     "execution_count": 46,
     "metadata": {},
     "output_type": "execute_result"
    }
   ],
   "source": [
    "import numpy as np\n",
    "B=([\n",
    "    [-2,1,0],\n",
    "    [2,-8,8],\n",
    "    [5,9,-9]\n",
    "])\n",
    "detB=np.linalg.det(B)\n",
    "detB"
   ]
  },
  {
   "cell_type": "code",
   "execution_count": 47,
   "metadata": {},
   "outputs": [
    {
     "data": {
      "text/plain": [
       "-31.999999999999986"
      ]
     },
     "execution_count": 47,
     "metadata": {},
     "output_type": "execute_result"
    }
   ],
   "source": [
    "import numpy as np\n",
    "B=([\n",
    "    [1,1,0],\n",
    "    [0,-8,8],\n",
    "    [-4,9,-9]\n",
    "])\n",
    "detB=np.linalg.det(B)\n",
    "detB"
   ]
  },
  {
   "cell_type": "code",
   "execution_count": 48,
   "metadata": {},
   "outputs": [
    {
     "data": {
      "text/plain": [
       "6.0"
      ]
     },
     "execution_count": 48,
     "metadata": {},
     "output_type": "execute_result"
    }
   ],
   "source": [
    "import numpy as np\n",
    "B=([\n",
    "    [1,-2,0],\n",
    "    [0,2,8],\n",
    "    [-4,5,-9]\n",
    "])\n",
    "detB=np.linalg.det(B)\n",
    "detB"
   ]
  },
  {
   "cell_type": "markdown",
   "metadata": {},
   "source": [
    "<span style=\"color:orange\"> ¿Todo esto era necesario? NO!!!! ¿Por qué?  \n",
    "Porque A es uno de los 4 determinantes de orden 3 de B y ya sabíamos que era diferente de 0, por lo que ya teníamos uno que cumplía lo que necesitábamos.</style>   \n",
    "\n",
    "Si el determinante de la **matriz de coeficientes** es distinto de 0, nos encontramos con un SCD."
   ]
  },
  {
   "cell_type": "markdown",
   "metadata": {},
   "source": [
    "<span style=\"color:orange\"> Ejemplo:  \n",
    "Vamos a calcular si tiene solución el siguiente sistema de ecuaciones usando Python.</style>  \n",
    "> <span style=\"color:orange\">x<sub>2</sub> −4x<sub>3</sub> =8  </style>  \n",
    "> <span style=\"color:orange\">2x<sub>1</sub> −3x<sub>2</sub> + 2x<sub>3</sub> =1  </style>  \n",
    "> <span style=\"color:orange\">5x<sub>1</sub> −8x<sub>2</sub> + 7x<sub>3</sub> =1</style>"
   ]
  },
  {
   "cell_type": "code",
   "execution_count": 49,
   "metadata": {},
   "outputs": [
    {
     "data": {
      "text/plain": [
       "0.0"
      ]
     },
     "execution_count": 49,
     "metadata": {},
     "output_type": "execute_result"
    }
   ],
   "source": [
    "import numpy as np\n",
    "A=([\n",
    "    [0,1,-4],\n",
    "    [2,-3,2],\n",
    "    [5,-8,7]\n",
    "])\n",
    "detA=np.linalg.det(A)\n",
    "round(detA)"
   ]
  },
  {
   "cell_type": "markdown",
   "metadata": {},
   "source": [
    "<span style=\"color:orange\"> Da 0, por lo que A no tiene rango 3. Para ver si tiene rango 2, buscamos un determinante de orden 2x2 que sea diferente de 0.</style>"
   ]
  },
  {
   "cell_type": "code",
   "execution_count": 50,
   "metadata": {},
   "outputs": [
    {
     "data": {
      "text/plain": [
       "-2.0"
      ]
     },
     "execution_count": 50,
     "metadata": {},
     "output_type": "execute_result"
    }
   ],
   "source": [
    "import numpy as np\n",
    "A=([\n",
    "    [0,1],\n",
    "    [2,-3]\n",
    "])\n",
    "detA=np.linalg.det(A)\n",
    "round(detA)"
   ]
  },
  {
   "cell_type": "markdown",
   "metadata": {},
   "source": [
    "<span style=\"color:orange\"> Por lo que A tiene rango 2.  \n",
    "¿Qué ocurre con B?</style>"
   ]
  },
  {
   "cell_type": "code",
   "execution_count": 51,
   "metadata": {},
   "outputs": [
    {
     "data": {
      "text/plain": [
       "6.0"
      ]
     },
     "execution_count": 51,
     "metadata": {},
     "output_type": "execute_result"
    }
   ],
   "source": [
    "import numpy as np\n",
    "B=([\n",
    "    [1,-4,8],\n",
    "    [-3,2,1],\n",
    "    [-8,7,1]\n",
    "])\n",
    "detA=np.linalg.det(B)\n",
    "round(detB)"
   ]
  },
  {
   "cell_type": "code",
   "execution_count": 52,
   "metadata": {},
   "outputs": [
    {
     "data": {
      "text/plain": [
       "6.0"
      ]
     },
     "execution_count": 52,
     "metadata": {},
     "output_type": "execute_result"
    }
   ],
   "source": [
    "import numpy as np\n",
    "B=([\n",
    "    [0,-4,8],\n",
    "    [2,2,1],\n",
    "    [5,7,1]\n",
    "])\n",
    "detA=np.linalg.det(B)\n",
    "round(detB)"
   ]
  },
  {
   "cell_type": "code",
   "execution_count": 53,
   "metadata": {},
   "outputs": [
    {
     "data": {
      "text/plain": [
       "6.0"
      ]
     },
     "execution_count": 53,
     "metadata": {},
     "output_type": "execute_result"
    }
   ],
   "source": [
    "import numpy as np\n",
    "B=([\n",
    "    [0,1,8],\n",
    "    [2,-3,1],\n",
    "    [5,-8,1]\n",
    "])\n",
    "detA=np.linalg.det(B)\n",
    "round(detB)"
   ]
  },
  {
   "cell_type": "markdown",
   "metadata": {},
   "source": [
    "<span style=\"color:orange\"> Luego el rango de B es 3.  \n",
    "Como tienen distinto rango, el sistema es incompatible, es decir, no tiene solución.</style>  "
   ]
  },
  {
   "cell_type": "markdown",
   "metadata": {},
   "source": [
    "<span style=\"color:orange\"> Ejemplo:  \n",
    "Vamos a calcular si tiene solución el siguiente sistema de ecuaciones usando Python.</style>  \n",
    "> <span style=\"color:orange\">x<sub>1</sub> +x<sub>3</sub> =2  </style>  \n",
    "> <span style=\"color:orange\">2x<sub>1</sub> +3x<sub>2</sub> + x<sub>3</sub> =3  </style>  \n",
    "> <span style=\"color:orange\">3x<sub>1</sub> +3x<sub>2</sub> + 2x<sub>3</sub> =5</style>"
   ]
  },
  {
   "cell_type": "code",
   "execution_count": 54,
   "metadata": {},
   "outputs": [
    {
     "data": {
      "text/plain": [
       "-0.0"
      ]
     },
     "execution_count": 54,
     "metadata": {},
     "output_type": "execute_result"
    }
   ],
   "source": [
    "import numpy as np\n",
    "A=([\n",
    "    [1,0,1],\n",
    "    [2,3,1],\n",
    "    [3,3,2]\n",
    "])\n",
    "detA=np.linalg.det(A)\n",
    "round(detA)"
   ]
  },
  {
   "cell_type": "code",
   "execution_count": 55,
   "metadata": {},
   "outputs": [
    {
     "data": {
      "text/plain": [
       "3.0"
      ]
     },
     "execution_count": 55,
     "metadata": {},
     "output_type": "execute_result"
    }
   ],
   "source": [
    "import numpy as np\n",
    "A=([\n",
    "   [1,0],\n",
    "   [2,3]\n",
    "])\n",
    "detA=np.linalg.det(A)\n",
    "round(detA)"
   ]
  },
  {
   "cell_type": "markdown",
   "metadata": {},
   "source": [
    "<span style=\"color:orange\"> Luego el rango de A es 2.  \n",
    "¿Qué ocurre con B?</style>  "
   ]
  },
  {
   "cell_type": "code",
   "execution_count": 56,
   "metadata": {},
   "outputs": [
    {
     "data": {
      "text/plain": [
       "0.0"
      ]
     },
     "execution_count": 56,
     "metadata": {},
     "output_type": "execute_result"
    }
   ],
   "source": [
    "import numpy as np\n",
    "B=([\n",
    "    [0,1,2],\n",
    "    [3,1,3],\n",
    "    [3,2,5]\n",
    "])\n",
    "detB=np.linalg.det(B)\n",
    "round(detB)"
   ]
  },
  {
   "cell_type": "code",
   "execution_count": 57,
   "metadata": {},
   "outputs": [
    {
     "data": {
      "text/plain": [
       "0.0"
      ]
     },
     "execution_count": 57,
     "metadata": {},
     "output_type": "execute_result"
    }
   ],
   "source": [
    "import numpy as np\n",
    "B=([\n",
    "    [1,1,2],\n",
    "    [2,1,3],\n",
    "    [3,2,5]\n",
    "])\n",
    "detB=np.linalg.det(B)\n",
    "round(detB)"
   ]
  },
  {
   "cell_type": "code",
   "execution_count": 58,
   "metadata": {},
   "outputs": [
    {
     "data": {
      "text/plain": [
       "-0.0"
      ]
     },
     "execution_count": 58,
     "metadata": {},
     "output_type": "execute_result"
    }
   ],
   "source": [
    "import numpy as np\n",
    "B=([\n",
    "    [1,0,2],\n",
    "    [2,3,3],\n",
    "    [3,3,5]\n",
    "])\n",
    "detB=np.linalg.det(B)\n",
    "round(detB)"
   ]
  },
  {
   "cell_type": "markdown",
   "metadata": {},
   "source": [
    "<span style=\"color:orange\"> Luego el rango de B es 2.  \n",
    "Como coinciden y es menor que el número de incógnitas, es un SCI, es decir, tiene infinitas soluciones.</style>  "
   ]
  },
  {
   "cell_type": "markdown",
   "metadata": {},
   "source": [
    "<span style=\"color:blue\"> Ejercicio 8:  \n",
    "Sabemos que hay un modo directo en Python para calcular los rangos. Calcula el número de soluciones de estos tres sistemas de ecuaciones empleándolo.</style> "
   ]
  },
  {
   "cell_type": "markdown",
   "metadata": {},
   "source": [
    "> <span style=\"color:blue\">x<sub>1</sub> − 2x<sub>2</sub> + x<sub>3</sub> = 0 </style>  \n",
    "> <span style=\"color:blue\">2x<sub>2</sub>−8x<sub>3</sub>= 8  </style>  \n",
    "> <span style=\"color:blue\">−4x<sub>1</sub> + 5x<sub>2</sub> + 9x<sub>3</sub> =− 9</style>"
   ]
  },
  {
   "cell_type": "code",
   "execution_count": null,
   "metadata": {},
   "outputs": [],
   "source": []
  },
  {
   "cell_type": "markdown",
   "metadata": {},
   "source": []
  },
  {
   "cell_type": "markdown",
   "metadata": {},
   "source": [
    "> <span style=\"color:blue\">x<sub>2</sub> −4x<sub>3</sub> =8  </style>  \n",
    "> <span style=\"color:blue\">2x<sub>1</sub> −3x<sub>2</sub> + 2x<sub>3</sub> =1  </style>  \n",
    "> <span style=\"color:blue\">5x<sub>1</sub> −8x<sub>2</sub> + 7x<sub>3</sub> =1</style>"
   ]
  },
  {
   "cell_type": "code",
   "execution_count": null,
   "metadata": {},
   "outputs": [],
   "source": []
  },
  {
   "cell_type": "code",
   "execution_count": null,
   "metadata": {},
   "outputs": [],
   "source": []
  },
  {
   "cell_type": "markdown",
   "metadata": {},
   "source": []
  },
  {
   "cell_type": "markdown",
   "metadata": {},
   "source": [
    "> <span style=\"color:blue\">x<sub>1</sub> +x<sub>3</sub> =2  </style>  \n",
    "> <span style=\"color:blue\">2x<sub>1</sub> +3x<sub>2</sub> + x<sub>3</sub> =3  </style>  \n",
    "> <span style=\"color:blue\">3x<sub>1</sub> +3x<sub>2</sub> + 2x<sub>3</sub> =5</style>"
   ]
  },
  {
   "cell_type": "code",
   "execution_count": null,
   "metadata": {},
   "outputs": [],
   "source": []
  },
  {
   "cell_type": "code",
   "execution_count": null,
   "metadata": {},
   "outputs": [],
   "source": []
  },
  {
   "cell_type": "markdown",
   "metadata": {},
   "source": []
  },
  {
   "cell_type": "markdown",
   "metadata": {},
   "source": [
    "## ¿Cómo calculamos la solución en caso de que exista?  \n",
    "\n",
    "**Método de la matriz inversa**  \n",
    "\n",
    "Dada A $\\cdot$ X = B, entonces X=A<sup>-1</sup> $\\cdot$ B\n",
    "\n",
    "<span style=\"color:orange\"> Ejemplo:  \n",
    "Calculemos la solución del siguiente sistema de ecuaciones usando Python y el método de la matriz inversa.  \n",
    "</style>  \n",
    "> <span style=\"color:orange\">x<sub>1</sub> − 2x<sub>2</sub> + x<sub>3</sub> = 0 </style>  \n",
    "> <span style=\"color:orange\">2x<sub>2</sub>−8x<sub>3</sub>= 8  </style>  \n",
    "> <span style=\"color:orange\">−4x<sub>1</sub> + 5x<sub>2</sub> + 9x<sub>3</sub> =− 9</style>"
   ]
  },
  {
   "cell_type": "code",
   "execution_count": 64,
   "metadata": {},
   "outputs": [
    {
     "data": {
      "text/plain": [
       "matrix([[ 29.],\n",
       "        [ 16.],\n",
       "        [  3.]])"
      ]
     },
     "execution_count": 64,
     "metadata": {},
     "output_type": "execute_result"
    }
   ],
   "source": [
    "import numpy as np\n",
    "A=np.matrix([\n",
    "    [1,-2,1],\n",
    "    [0,2,-8],\n",
    "    [-4,5,9]\n",
    "   ])\n",
    "B=([\n",
    "    [0],[8],[-9]\n",
    "])\n",
    "inv_A=np.linalg.inv(A)\n",
    "inv_A*B"
   ]
  },
  {
   "cell_type": "markdown",
   "metadata": {},
   "source": [
    "<span style=\"color:orange\"> Ejemplo:  \n",
    "Calculemos la solución del siguiente sistema de ecuaciones usando Python y el método de la matriz inversa. </style>\n",
    "> <span style=\"color:orange\">x<sub>2</sub> −4x<sub>3</sub> =8  </style>  \n",
    "> <span style=\"color:orange\">2x<sub>1</sub> −3x<sub>2</sub> + 2x<sub>3</sub> =1  </style>  \n",
    "> <span style=\"color:orange\">5x<sub>1</sub> −8x<sub>2</sub> + 7x<sub>3</sub> =1</style>"
   ]
  },
  {
   "cell_type": "code",
   "execution_count": 65,
   "metadata": {},
   "outputs": [
    {
     "data": {
      "text/plain": [
       "matrix([[ -9.00719925e+15],\n",
       "        [ -7.20575940e+15],\n",
       "        [ -1.80143985e+15]])"
      ]
     },
     "execution_count": 65,
     "metadata": {},
     "output_type": "execute_result"
    }
   ],
   "source": [
    "import numpy as np\n",
    "A=np.matrix([\n",
    "    [0,1,-4],\n",
    "    [2,-3,2],\n",
    "    [5,-8,7]\n",
    "   ])\n",
    "B=([\n",
    "    [8],[1],[1]\n",
    "])\n",
    "inv_A=np.linalg.inv(A)\n",
    "inv_A*B"
   ]
  },
  {
   "cell_type": "markdown",
   "metadata": {},
   "source": [
    "<span style=\"color:orange\">Sabíamos que no tenía solución y si nos fijamos los números que devuelve son enormes para el rango en que estamos trabajando, es como si fuesen \"infinito\".</style>"
   ]
  },
  {
   "cell_type": "markdown",
   "metadata": {},
   "source": [
    "<span style=\"color:orange\"> Ejemplo:  \n",
    "Calculemos la solución del siguiente sistema de ecuaciones usando Python y el método de la matriz inversa.</style>  \n",
    "> <span style=\"color:orange\">x<sub>1</sub> +x<sub>3</sub> =2  </style>  \n",
    "> <span style=\"color:orange\">2x<sub>1</sub> +3x<sub>2</sub> + x<sub>3</sub> =3  </style>  \n",
    "> <span style=\"color:orange\">3x<sub>1</sub> +3x<sub>2</sub> + 2x<sub>3</sub> =5</style>"
   ]
  },
  {
   "cell_type": "code",
   "execution_count": 66,
   "metadata": {},
   "outputs": [
    {
     "data": {
      "text/plain": [
       "matrix([[ 0. ],\n",
       "        [-0.5],\n",
       "        [ 0. ]])"
      ]
     },
     "execution_count": 66,
     "metadata": {},
     "output_type": "execute_result"
    }
   ],
   "source": [
    "import numpy as np\n",
    "A=np.matrix([\n",
    "    [1,0,1],\n",
    "    [2,3,1],\n",
    "    [3,3,2]\n",
    "   ])\n",
    "B=([\n",
    "    [2],[3],[5]\n",
    "])\n",
    "inv_A=np.linalg.inv(A)\n",
    "inv_A*B"
   ]
  },
  {
   "cell_type": "markdown",
   "metadata": {},
   "source": [
    "<span style=\"color:orange\"> En este caso me devuelve una solución válida, pero no todas las posibles.  \n",
    "¿Cómo haríamos para calcular todas las posibles?  \n",
    "El método más general es la reducción gaussiana:  \n",
    "$\n",
    "  A=\n",
    "  \\left[ {\\begin{array}{cc}\n",
    "   1 & 0 & 1 & 2\\\\\n",
    "   2 & 3 & 1 & 3\\\\\n",
    "   3 & 3 & 2 & 5\\\\\n",
    "  \\end{array} } \\right]\n",
    "$  =  $\n",
    "  \\left[ {\\begin{array}{cc}\n",
    "   1 & 0 & 1 & 2\\\\\n",
    "   0 & 3 & -1 & -1\\\\\n",
    "   0 & 3 & -1 & -1\\\\\n",
    "  \\end{array} } \\right]\n",
    "$ = $\n",
    "  \\left[ {\\begin{array}{cc}\n",
    "   1 & 0 & 1 & 2\\\\\n",
    "   0 & 3 & -1 & -1\\\\\n",
    "   0 & 0 & 0 & 0\\\\\n",
    "  \\end{array} } \\right]\n",
    "$  \n",
    "Lo que se traduce en:  </style>\n",
    "><span style=\"color:orange\"> x<sub>1</sub>+x<sub>3</sub>=2</style>  \n",
    "><span style=\"color:orange\"> 3x<sub>2</sub>-x<sub>3</sub>=-1</style>  \n",
    "\n",
    "<span style=\"color:orange\"> Como comparten el x<sub>3</sub>, x<sub>3</sub>=$\\lambda$.  \n",
    "Luego la solución queda:  \n",
    "> <span style=\"color:orange\">x<sub>1</sub> = 2-$\\lambda$</style>    \n",
    "> <span style=\"color:orange\">x<sub>2</sub> = $\\frac{-1+\\lambda}{3}$</style>    \n",
    "> <span style=\"color:orange\">x<sub>3</sub>=$\\lambda$</style>    "
   ]
  },
  {
   "cell_type": "markdown",
   "metadata": {},
   "source": [
    "**Método de Cramer**\n",
    "\n",
    "Dada A $\\cdot$ X = B, entonces:\n",
    "* x=$\\frac{A_x}{detA}$  \n",
    "* y=$\\frac{A_y}{detA}$  \n",
    "* z=$\\frac{A_z}{detA}$  \n",
    "\n",
    "<span style=\"color:orange\"> Ejemplo:  \n",
    "Calculemos la solución del siguiente sistema de ecuaciones usando Python y el método de Cramer.  \n",
    "</style>  \n",
    "> <span style=\"color:orange\">x<sub>1</sub> − 2x<sub>2</sub> + x<sub>3</sub> = 0 </style>  \n",
    "> <span style=\"color:orange\">2x<sub>2</sub>−8x<sub>3</sub>= 8  </style>  \n",
    "> <span style=\"color:orange\">−4x<sub>1</sub> + 5x<sub>2</sub> + 9x<sub>3</sub> =− 9</style>\n"
   ]
  },
  {
   "cell_type": "code",
   "execution_count": 67,
   "metadata": {},
   "outputs": [
    {
     "data": {
      "text/plain": [
       "[29.0, 16.0, 3.0]"
      ]
     },
     "execution_count": 67,
     "metadata": {},
     "output_type": "execute_result"
    }
   ],
   "source": [
    "import numpy as np\n",
    "A=np.matrix([\n",
    "    [1,-2,1],\n",
    "    [0,2,-8],\n",
    "    [-4,5,9]\n",
    "   ])\n",
    "AX=([\n",
    "    [0,-2,1],\n",
    "    [8,2,-8],\n",
    "    [-9,5,9]\n",
    "])\n",
    "AY=([\n",
    "    [1,0,1],\n",
    "    [0,8,-8],\n",
    "    [-4,-9,9]\n",
    "])\n",
    "AZ=([\n",
    "    [1,-2,0],\n",
    "    [0,2,8],\n",
    "    [-4,5,-9]\n",
    "])\n",
    "x=np.linalg.det(AX)/np.linalg.det(A)\n",
    "y=np.linalg.det(AY)/np.linalg.det(A)\n",
    "z=np.linalg.det(AZ)/np.linalg.det(A)\n",
    "X=([round(x),round(y),round(z)])\n",
    "X"
   ]
  },
  {
   "cell_type": "markdown",
   "metadata": {},
   "source": [
    "<span style=\"color:orange\"> Ejemplo:  \n",
    "Calculemos la solución del siguiente sistema de ecuaciones usando Python y el método de Cramer. </style>\n",
    "> <span style=\"color:orange\">x<sub>2</sub> −4x<sub>3</sub> =8  </style>  \n",
    "> <span style=\"color:orange\">2x<sub>1</sub> −3x<sub>2</sub> + 2x<sub>3</sub> =1  </style>  \n",
    "> <span style=\"color:orange\">5x<sub>1</sub> −8x<sub>2</sub> + 7x<sub>3</sub> =1</style>"
   ]
  },
  {
   "cell_type": "code",
   "execution_count": 68,
   "metadata": {},
   "outputs": [
    {
     "data": {
      "text/plain": [
       "[-9007199254740938.0, -7205759403792747.0, -1801439850948190.0]"
      ]
     },
     "execution_count": 68,
     "metadata": {},
     "output_type": "execute_result"
    }
   ],
   "source": [
    "import numpy as np\n",
    "A=np.matrix([\n",
    "    [0,1,-4],\n",
    "    [2,-3,2],\n",
    "    [5,-8,7]\n",
    "   ])\n",
    "AX=([\n",
    "    [8,1,-4],\n",
    "    [1,-3,2],\n",
    "    [1,-8,7]\n",
    "])\n",
    "AY=([\n",
    "    [0,8,-4],\n",
    "    [2,1,2],\n",
    "    [5,1,7]\n",
    "])\n",
    "AZ=([\n",
    "    [0,1,8],\n",
    "    [2,-3,1],\n",
    "    [5,-8,1]\n",
    "])\n",
    "x=np.linalg.det(AX)/np.linalg.det(A)\n",
    "y=np.linalg.det(AY)/np.linalg.det(A)\n",
    "z=np.linalg.det(AZ)/np.linalg.det(A)\n",
    "X=([round(x),round(y),round(z)])\n",
    "X"
   ]
  },
  {
   "cell_type": "markdown",
   "metadata": {},
   "source": [
    "<span style=\"color:orange\"> Ejemplo:  \n",
    "Calculemos la solución del siguiente sistema de ecuaciones usando Python y el método de Cramer.</style>  \n",
    "> <span style=\"color:orange\">x<sub>1</sub> +x<sub>3</sub> =2  </style>  \n",
    "> <span style=\"color:orange\">2x<sub>1</sub> +3x<sub>2</sub> + x<sub>3</sub> =3  </style>  \n",
    "> <span style=\"color:orange\">3x<sub>1</sub> +3x<sub>2</sub> + 2x<sub>3</sub> =5</style>"
   ]
  },
  {
   "cell_type": "code",
   "execution_count": 69,
   "metadata": {},
   "outputs": [
    {
     "data": {
      "text/plain": [
       "[-5.0, 0.0, 3.0]"
      ]
     },
     "execution_count": 69,
     "metadata": {},
     "output_type": "execute_result"
    }
   ],
   "source": [
    "import numpy as np\n",
    "A=np.matrix([\n",
    "    [1,0,1],\n",
    "    [2,3,1],\n",
    "    [3,3,2]\n",
    "   ])\n",
    "AX=([\n",
    "    [2,0,1],\n",
    "    [3,3,1],\n",
    "    [5,3,2]\n",
    "])\n",
    "AY=([\n",
    "    [1,2,1],\n",
    "    [2,3,1],\n",
    "    [3,5,2]\n",
    "])\n",
    "AZ=([\n",
    "    [1,0,2],\n",
    "    [2,3,3],\n",
    "    [3,3,5]\n",
    "])\n",
    "x=np.linalg.det(AX)/np.linalg.det(A)\n",
    "y=np.linalg.det(AY)/np.linalg.det(A)\n",
    "z=np.linalg.det(AZ)/np.linalg.det(A)\n",
    "X=([round(x),round(y),round(z)])\n",
    "X"
   ]
  },
  {
   "cell_type": "markdown",
   "metadata": {},
   "source": [
    "En Python, hay una manera directa de resolverlo.\n",
    "\n",
    "<span style=\"color:orange\"> Ejemplo:  \n",
    "</style>  \n",
    "> <span style=\"color:orange\">x<sub>1</sub> − 2x<sub>2</sub> + x<sub>3</sub> = 0 </style>  \n",
    "> <span style=\"color:orange\">2x<sub>2</sub>−8x<sub>3</sub>= 8  </style>  \n",
    "> <span style=\"color:orange\">−4x<sub>1</sub> + 5x<sub>2</sub> + 9x<sub>3</sub> =− 9</style>"
   ]
  },
  {
   "cell_type": "code",
   "execution_count": 70,
   "metadata": {},
   "outputs": [
    {
     "data": {
      "text/plain": [
       "matrix([[ 29.],\n",
       "        [ 16.],\n",
       "        [  3.]])"
      ]
     },
     "execution_count": 70,
     "metadata": {},
     "output_type": "execute_result"
    }
   ],
   "source": [
    "import numpy as np\n",
    "\n",
    "A = np.matrix(\n",
    "    [[1,-2,1],\n",
    "    [0,2,-8],\n",
    "    [-4,5,9]]\n",
    ")\n",
    "\n",
    "B = np.matrix(\n",
    "    [[0],\n",
    "     [8],\n",
    "     [-9]]\n",
    ")\n",
    "\n",
    "X = np.linalg.solve(A, B)\n",
    "X"
   ]
  },
  {
   "cell_type": "markdown",
   "metadata": {},
   "source": [
    "<span style=\"color:orange\"> Ejemplo:  \n",
    "Calculemos la solución del siguiente sistema de ecuaciones usando NumPy.  </style>   \n",
    "> <span style=\"color:orange\">x<sub>2</sub> −4x<sub>3</sub> =8  </style>  \n",
    "> <span style=\"color:orange\">2x<sub>1</sub> −3x<sub>2</sub> + 2x<sub>3</sub> =1  </style>  \n",
    "> <span style=\"color:orange\">5x<sub>1</sub> −8x<sub>2</sub> + 7x<sub>3</sub> =1</style>"
   ]
  },
  {
   "cell_type": "code",
   "execution_count": 71,
   "metadata": {},
   "outputs": [
    {
     "data": {
      "text/plain": [
       "matrix([[ -9.00719925e+15],\n",
       "        [ -7.20575940e+15],\n",
       "        [ -1.80143985e+15]])"
      ]
     },
     "execution_count": 71,
     "metadata": {},
     "output_type": "execute_result"
    }
   ],
   "source": [
    "import numpy as np\n",
    "\n",
    "A = np.matrix([\n",
    "    [0,1,-4],\n",
    "    [2,-3,2],\n",
    "    [5,-8,7]\n",
    "])\n",
    "\n",
    "B = np.matrix(\n",
    "    [[8],\n",
    "     [1],\n",
    "     [1]]\n",
    ")\n",
    "\n",
    "X = np.linalg.solve(A, B)\n",
    "X"
   ]
  },
  {
   "cell_type": "markdown",
   "metadata": {},
   "source": [
    "<span style=\"color:orange\"> Como podemos ver, no vale porque devuelve solución cuando no la hay.</style>    \n",
    "\n",
    "<span style=\"color:orange\"> Ejemplo:  \n",
    "Calculemos la solución del siguiente sistema de ecuaciones usando Numpy.</style>  \n",
    "> <span style=\"color:orange\">x<sub>1</sub> +x<sub>3</sub> =2  </style>  \n",
    "> <span style=\"color:orange\">2x<sub>1</sub> +3x<sub>2</sub> + x<sub>3</sub> =3  </style>  \n",
    "> <span style=\"color:orange\">3x<sub>1</sub> +3x<sub>2</sub> + 2x<sub>3</sub> =5</style>"
   ]
  },
  {
   "cell_type": "code",
   "execution_count": 72,
   "metadata": {},
   "outputs": [
    {
     "data": {
      "text/plain": [
       "matrix([[-0.5],\n",
       "        [ 0.5],\n",
       "        [ 2.5]])"
      ]
     },
     "execution_count": 72,
     "metadata": {},
     "output_type": "execute_result"
    }
   ],
   "source": [
    "import numpy as np\n",
    "\n",
    "A = np.matrix([\n",
    "    [1,0,1],\n",
    "    [2,3,1],\n",
    "    [3,3,2]\n",
    "])\n",
    "\n",
    "B = np.matrix(\n",
    "    [[2],\n",
    "     [3],\n",
    "     [5]]\n",
    ")\n",
    "\n",
    "X = np.linalg.solve(A, B)\n",
    "X"
   ]
  },
  {
   "cell_type": "markdown",
   "metadata": {
    "collapsed": true
   },
   "source": [
    "<span style=\"color:orange\"> Como podemos ver, no vale porque devuelve una solución cuando sabemos que hay infinitas.  \n",
    "Hay un método especial para esto en Python:</style>"
   ]
  },
  {
   "cell_type": "code",
   "execution_count": 3,
   "metadata": {},
   "outputs": [
    {
     "data": {
      "text/plain": [
       "{y: z/3 - 1/3, x: -z + 2}"
      ]
     },
     "execution_count": 3,
     "metadata": {},
     "output_type": "execute_result"
    }
   ],
   "source": [
    "from sympy import Matrix, solve_linear_system\n",
    "from sympy.abc import x,y,z\n",
    "A=Matrix([\n",
    "    [1,0,1,2],\n",
    "    [2,3,1,3],\n",
    "    [3,3,2,5]\n",
    "])\n",
    "solve_linear_system(A,x,y,z)"
   ]
  }
 ],
 "metadata": {
  "kernelspec": {
   "display_name": "Python 2",
   "language": "python",
   "name": "python2"
  },
  "language_info": {
   "codemirror_mode": {
    "name": "ipython",
    "version": 2
   },
   "file_extension": ".py",
   "mimetype": "text/x-python",
   "name": "python",
   "nbconvert_exporter": "python",
   "pygments_lexer": "ipython2",
   "version": "2.7.14"
  }
 },
 "nbformat": 4,
 "nbformat_minor": 2
}
