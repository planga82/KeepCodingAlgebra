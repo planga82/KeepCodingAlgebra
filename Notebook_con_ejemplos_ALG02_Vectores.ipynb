{
 "cells": [
  {
   "cell_type": "markdown",
   "metadata": {},
   "source": [
    "# 2. Vectores"
   ]
  },
  {
   "cell_type": "markdown",
   "metadata": {},
   "source": [
    "# ¿Qué es un vector?\n",
    "\n",
    "![No se puede mostrar](Images/250px-Vector_01.svg.png)\n",
    "\n",
    "Un **vector** es una serie de elementos ordenados.  \n",
    "* Recordemos que no significa ordenados numéricamente, sino ordenados en función de un índice de orden.    \n",
    "* Se escriben entre corchetes (si queremos que sean listas, entre paréntesis).  \n",
    "* El vector \"más famoso\" es el *cuaternión*, un 4-vector sobre $\\mathbb{R}$\n",
    "\n",
    "###### Definición  \n",
    "Para un espacio $\\mathbb{F}$ y un entero positivo *n*, un vector con n entradas, cada una de ellas pertenecientes a $\\mathbb{F}$, es llamado **n-vector sobre $\\mathbb{F}$**.  \n",
    "El conjunto de todos los n-vectores sobre $\\mathbb{F}$ se denomina $\\mathbb{F}$<sup>n</sup> .  \n",
    "  \n",
    "<span style=\"color:orange\"> Ejemplo: El conjunto de todos los 4-vectores se denota $\\mathbb{R}$<sup>4</sup> </style>\n",
    "\n",
    "# Los vectores son funciones\n",
    "\n",
    "![No se puede mostrar](Images/0757.png)\n",
    "\n",
    "Sí, así como lo cuento. Hemos dicho que los elementos de un vector están ordenados, ¿en función de qué? De la posición que ocupan.   \n",
    "En términos generales, ése es su orden y, a la vez, el modo de definir la función que da lugar al vector.  \n",
    "Antes de que nos de un infarto...  \n",
    "\n",
    "<span style=\"color:orange\"> Ejemplo: Imaginemos que tenemos el vector v1=(1,2,5) que sabemos pertenece a $\\mathbb{R}$<sup>3</sup>. </style>     \n",
    "\n",
    "<span style=\"color:orange\">Tendríamos la función:  </style>   \n",
    "><span style=\"color:orange\"> *f*: $\\mathbb{F}$<sup>3</sup> $\\longrightarrow$ $\\mathbb{R}$<sup>3</sup>   \n",
    "> 0 $\\longrightarrow$ 1  \n",
    "> 1 $\\longrightarrow$ 2  \n",
    "> 2 $\\longrightarrow$ 5   </style> \n",
    "  \n",
    "<span style=\"color:orange\">¿Cómo lo haríamos en Python? La respuesta es con diccionarios.</style> \n",
    "\n"
   ]
  },
  {
   "cell_type": "code",
   "execution_count": 22,
   "metadata": {},
   "outputs": [
    {
     "data": {
      "text/plain": [
       "{0: 1, 1: 5, 2: 7}"
      ]
     },
     "execution_count": 22,
     "metadata": {},
     "output_type": "execute_result"
    }
   ],
   "source": [
    "{0:1, 1:5, 2:7}"
   ]
  },
  {
   "cell_type": "markdown",
   "metadata": {
    "collapsed": true
   },
   "source": [
    "Por otro lado tenemos $\\mathbb{F}$<sup>d</sup> que es el conjunto de funciones de {0,1,2,...,d-1} a $\\mathbb{F}$.\n",
    "\n",
    "Antes de nada, conozcamos el **campo de Galois**, GF(n), que es un cuerpo definido sobre un conjunto finito de elementos.  \n",
    "\n",
    "<span style=\"color:orange\">Ejemplo: GF(2) tiene dos elementos: 0 y 1.</style>  \n",
    "  \n",
    "<span style=\"color:orange\">Ejemplo: GF(2)<sup>5</sup> es el conjuntos de las secuencias de 5 dígitos: [0,0,0,0,0], [0,0,0,0,1], ...</style>   \n",
    "  \n",
    "¿Cómo representamos un vector de palabras sobre $\\mathbb{R}$?  \n",
    "  \n",
    "*The word-bag model of documents.*  \n",
    "  \n",
    "Este caso práctico es la base de los algoritmos de búsqueda de información en un conjunto de documentos.  \n",
    "\n",
    "Hay que comentar que, normalmente, cuando tenemos un documento único, la mayoría de las palabras no se representarán, ya que aparecen 0 veces y por convención, omitimos estos pares clave-valor.\n",
    "  \n",
    "Vamos a considerar un modelo muy simple.   \n",
    "En nuestro modelo los documentos van a ser simplemente conjuntos de palabras, ignorando aspectos como la gramática. Es decir, tenemos el conjunto de todas las palabras en español,  $\\mathbb{PALABRAS}$  \n",
    "\n",
    "\n",
    "Definimos una función f cuyo dominio son todas las palabras y su imagen es el conjunto de números reales definida como el número de veces que aparece una palabra en el set de documentos.  </style> \n",
    "\n",
    "*f*: $\\mathbb{PALABRAS}$ $\\longrightarrow$ $\\mathbb{R}$  \n",
    "\n",
    "Podríamos decir que el conjunto de todas las funciones definidas de esta forma conformarán $\\mathbb{R}$<sup>$\\mathbb{PALABRAS}$</sup> \n",
    "\n",
    "<span style=\"color:orange\">Ejemplo: Vamos a construir la función/diccionario para la frase 'La única forma de hacer un gran trabajo es amar lo que haces' (*Steve Jobs*)</style> \n",
    "\n",
    "\n"
   ]
  },
  {
   "cell_type": "code",
   "execution_count": 23,
   "metadata": {},
   "outputs": [
    {
     "data": {
      "text/plain": [
       "{'La': 1,\n",
       " 'amar': 1,\n",
       " 'de': 1,\n",
       " 'es': 1,\n",
       " 'forma': 1,\n",
       " 'gran': 1,\n",
       " 'hacer': 1,\n",
       " 'haces': 1,\n",
       " 'lo': 1,\n",
       " 'que': 1,\n",
       " 'trabajo': 1,\n",
       " 'un': 1,\n",
       " 'única': 1}"
      ]
     },
     "execution_count": 23,
     "metadata": {},
     "output_type": "execute_result"
    }
   ],
   "source": [
    "{'La': 1, 'única': 1, 'forma': 1, 'de': 1, 'hacer': 1, 'un': 1, 'gran': 1, 'trabajo': 1, 'es': 1, 'amar': 1, 'lo': 1, 'que': 1, 'haces': 1}"
   ]
  },
  {
   "cell_type": "markdown",
   "metadata": {},
   "source": [
    "# ¿Qué podemos representar con un vector?\n",
    "\n",
    "* *Documentos*  \n",
    "  Para recuperación de información\n",
    "    \n",
    "* *Cadenas binarias*   \n",
    "<span style=\"color:orange\">Ejemplo: La clave secreta de un criptosistema 1011101011 puede ser representada como un vector en GF(2): [1,0,1,1,1,0,1,0,1,1]</style>  \n",
    "  \n",
    "* *Una colección de atributos*\n",
    "  * Registros de votos en el Congreso  \n",
    "  <span style=\"color:orange\">Ejemplo: Cada miembro del Congreso tiene asociado un +1 si vota a favor, -1 si vota en contra, 0 si se abstiene.</style>   \n",
    "  * Registros de consumidores  \n",
    "  <span style=\"color:orange\">Ejemplo: Olimar tiene 30 años, un nivel de educación de 16 y unos ingresos de 40000€.    Olimar={'edad': 30, 'nivel de educación': 16, 'ingresos': 40000}</style>     \n",
    "* * Distribución de la población mundial  \n",
    "  <span style=\"color:orange\">Ejemplo: {'China': 1341670000, 'India': 1192570000, 'EEUU': 308745538, 'España':46560000}</style>    \n",
    "* *Distribuciones de probabilidad*  \n",
    "<span style=\"color:orange\">Ejemplo: La probabilidad de un dado: {1: 1/6, 2:1/6, 3:1/6, 4:1/6, 5:1/6, 6:1/6}</style>   \n",
    "* *Imágenes*  \n",
    "Representadas en modo cuadrícula en el plano, se les puede dar coordenadas de posición y un valor asociado que sea el color de esa celda\n",
    "\n",
    "* *Puntos*  \n",
    "<span style=\"color:orange\">Ejemplo: Vamos a representar la lista L con los puntos [2,2],[3,2],[1.75,1], [2,1],[2.25,1],[2.5,1],[2.75,1],[3,1],[3.25,1]</style>   "
   ]
  },
  {
   "cell_type": "code",
   "execution_count": 4,
   "metadata": {},
   "outputs": [],
   "source": [
    "from plotting import plot\n",
    "L=[[2,2],[3,2],[1.75,1], [2,1],[2.25,1],[2.5,1],[2.75,1],[3,1],[3.25,1]]\n",
    "plot(L)"
   ]
  },
  {
   "cell_type": "markdown",
   "metadata": {
    "collapsed": true
   },
   "source": [
    "# Suma de vectores\n",
    "\n",
    "![No se puede mostrar](Images/vector0-2.png)\n",
    "El **vector suma** está definido por:  \n",
    "> [u<sub>1</sub>,u<sub>2</sub>,...,u<sub>n</sub>] + [v<sub>1</sub>,v<sub>2</sub>,...,u<sub>n</sub>] = [u<sub>1</sub>+v<sub>1</sub>,u<sub>2</sub>+v<sub>2</sub>,...,u<sub>n</sub>+u<sub>n</sub>]  \n",
    "\n",
    "<span style=\"color:orange\">Ejemplo: Vamos a definir el procedimiento para sumar dos vectores de dos componentes</style>"
   ]
  },
  {
   "cell_type": "code",
   "execution_count": 25,
   "metadata": {
    "collapsed": true
   },
   "outputs": [],
   "source": [
    "def add(v,w):\n",
    "    return [v[0]+w[0],v[1]+w[1]]"
   ]
  },
  {
   "cell_type": "markdown",
   "metadata": {},
   "source": [
    "<span style=\"color:orange\">Ejemplo: Vamos a aplicar este procedimiento a nuestra lista L, añadiéndole el vector [3,2] a cada uno de los vectores </style>"
   ]
  },
  {
   "cell_type": "code",
   "execution_count": 26,
   "metadata": {},
   "outputs": [
    {
     "data": {
      "text/plain": [
       "[[5, 4],\n",
       " [6, 4],\n",
       " [4.75, 3],\n",
       " [5, 3],\n",
       " [5.25, 3],\n",
       " [5.5, 3],\n",
       " [5.75, 3],\n",
       " [6, 3],\n",
       " [6.25, 3]]"
      ]
     },
     "execution_count": 26,
     "metadata": {},
     "output_type": "execute_result"
    }
   ],
   "source": [
    "[add(v,[3,2]) for v in L]"
   ]
  },
  {
   "cell_type": "markdown",
   "metadata": {},
   "source": [
    "Para cualesquiera vectores **u**, **v**, **w**, se tiene:\n",
    "* *Propiedad asociativa*: (**u**+**v**)+**w**=**u**+(**v**+**w**)\n",
    "* *Propiedad conmutativa*: **u**+**v**=**v**+**u**"
   ]
  },
  {
   "cell_type": "markdown",
   "metadata": {},
   "source": [
    "<span style=\"color:orange\">Ejemplo: Vamos a definir el procedimiento para sumar dos vectores de longitud determinada pero desconocida a priori</style>"
   ]
  },
  {
   "cell_type": "code",
   "execution_count": 27,
   "metadata": {
    "collapsed": true
   },
   "outputs": [],
   "source": [
    "def addn(v,w):\n",
    "    return[v[i]+w[i] for i in range(len(v))]"
   ]
  },
  {
   "cell_type": "markdown",
   "metadata": {},
   "source": [
    "# Multiplicación de un vector por un escalar\n",
    "\n",
    "![No se puede mostrar](Images/producto_de_vectores_por_escalares.jpg)\n",
    "\n",
    "Dado un número $\\alpha$ y un vector **v**:\n",
    "> $\\alpha$[v<sub>1</sub>,v<sub>2</sub>,...,v<sub>n</sub>] = [$\\alpha$v<sub>1</sub>,$\\alpha$v<sub>2</sub>,...,$\\alpha$v<sub>n</sub>] \n",
    "\n",
    "<span style=\"color:orange\">Ejemplo: ¿Cómo haríais en Python para multiplicar 2 por el vector (1,2,3)?</style>"
   ]
  },
  {
   "cell_type": "code",
   "execution_count": 28,
   "metadata": {},
   "outputs": [
    {
     "data": {
      "text/plain": [
       "[1, 2, 3, 1, 2, 3]"
      ]
     },
     "execution_count": 28,
     "metadata": {},
     "output_type": "execute_result"
    }
   ],
   "source": [
    "2*[1,2,3]"
   ]
  },
  {
   "cell_type": "markdown",
   "metadata": {},
   "source": [
    "<span style=\"color:orange\">Ejemplo: Ahora de verdad, vamos a definir un procedimiento en Python para multiplicar un escalar *alpha* por un vector de longitud determinada.</style>"
   ]
  },
  {
   "cell_type": "code",
   "execution_count": 1,
   "metadata": {},
   "outputs": [],
   "source": [
    "def mult_vector_escalar(alpha,v):\n",
    "    return [alpha*v[i] for i in range(len(v))]"
   ]
  },
  {
   "cell_type": "markdown",
   "metadata": {},
   "source": [
    "<span style=\"color:orange\">Ejemplo: Probémoslo para multiplicar 2 por el vector (1,2,3)</style>"
   ]
  },
  {
   "cell_type": "code",
   "execution_count": 2,
   "metadata": {},
   "outputs": [
    {
     "data": {
      "text/plain": [
       "[2, 4, 6]"
      ]
     },
     "execution_count": 2,
     "metadata": {},
     "output_type": "execute_result"
    }
   ],
   "source": [
    "mult_vector_escalar(2,[1,2,3])"
   ]
  },
  {
   "cell_type": "markdown",
   "metadata": {},
   "source": [
    "Dado un vector **v** y dos números cualesquiera $\\alpha$,$\\beta$$\\in$$\\mathbb{R}$, se tiene:\n",
    "* *Propiedad asociativa*: $\\alpha$($\\beta$**v**)=($\\alpha$$\\beta$)**v**  \n",
    "\n",
    "<span style=\"color:orange\">Ejemplo: Vamos a graficar los puntos obtenidos de multiplicar el vector **v** [1,2] por todos los escalares del conjunto {0,0.1,0.2,...,1.0}</style>"
   ]
  },
  {
   "cell_type": "code",
   "execution_count": 5,
   "metadata": {},
   "outputs": [],
   "source": [
    "v=[1,2]\n",
    "plot([mult_vector_escalar(i/10,v) for i in range(11)])"
   ]
  },
  {
   "cell_type": "markdown",
   "metadata": {},
   "source": [
    "<span style=\"color:orange\">Ejemplo: ¿Y si lo multiplicásemos por todos los del conjunto {0,0.01,0.02,...,1.00}?</style>"
   ]
  },
  {
   "cell_type": "code",
   "execution_count": 6,
   "metadata": {},
   "outputs": [],
   "source": [
    "v=[1,2]\n",
    "plot([mult_vector_escalar(i/100,v) for i in range(101)])"
   ]
  },
  {
   "cell_type": "markdown",
   "metadata": {},
   "source": [
    "Por lo que podemos concluir, que la recta que pasa por el origen y por el vector **v** es la formada por:\n",
    "> { $\\alpha$**v** : $\\alpha$$\\in$$\\mathbb{R}$ }"
   ]
  },
  {
   "cell_type": "markdown",
   "metadata": {},
   "source": [
    "# Suma y producto escalar combinados\n",
    "\n",
    "<span style=\"color:blue\">Ejercicio 1:  \n",
    "Usando los procedimientos add y mult_vector_escalar definidos anteriormente, calcular:   \n",
    "{$\\alpha$[1,2]+[3,4] : $\\alpha$$\\in$$\\mathbb{R}$, 0$\\leq$$\\alpha$$\\leq$1, con una precision de dos decimales (para la multiplicación)}</style>\n"
   ]
  },
  {
   "cell_type": "code",
   "execution_count": null,
   "metadata": {},
   "outputs": [],
   "source": []
  },
  {
   "cell_type": "markdown",
   "metadata": {},
   "source": [
    "Dados los vectores **u**,**v** y $\\alpha$$\\in$$\\mathbb{R}$, se tiene:\n",
    "> $\\alpha$(**u**+**v**)=$\\alpha$**u**+ $\\alpha$**v**"
   ]
  },
  {
   "cell_type": "markdown",
   "metadata": {},
   "source": [
    "###### Combinación lineal\n",
    "\n",
    "Dados tres vectores **u**, **v** , **w**, dados $\\alpha$,$\\beta$$\\in$$\\mathbb{R}$, se dice que **w** es **combinación lineal** de **u** y **v** si **w** = $\\alpha$**u** + $\\beta$**v**\n",
    "\n",
    "<span style=\"color:orange\">Ejemplo: Un ejemplo algo especial, Crossfade (Fusión de imágenes)</style>\n",
    "\n",
    "![No se puede mostrar](Images/Crossfade.png)"
   ]
  },
  {
   "cell_type": "markdown",
   "metadata": {},
   "source": [
    "# Vectores en GF(2)  \n",
    "\n",
    "![No se puede mostrar](Images/Sistema-binario.jpg)\n",
    "\n",
    "Hasta ahora hemos estudiado sólo vectores sobre $\\mathbb{R}$. En este apartado vamos a trabajar con vectores sobre GF(2):\n",
    "* Sus únicos elementos son el 0 y el 1\n",
    "* 1+1 = 0\n",
    "* 1+1 = 1-1\n",
    "\n",
    "###### El secreto perfecto\n",
    "\n",
    "Representa la encriptación de la adicción de un n-vector a un n-vector de GF(2)  \n",
    "\n",
    "![No se puede mostrar](Images/detalles-characters.png)\n",
    "\n",
    "<span style=\"color:orange\">Ejemplo: Mortadelo y Filemón usan como clave el siguiente vector:</style>  \n",
    "> <span style=\"color:orange\">**k**=[0,1,0,0,1,0,1,0,1,0]</style>  \n",
    "\n",
    "<span style=\"color:orange\">Mortadelo quiere enviarle a Filemón el siguiente mensaje:</style>  \n",
    "> <span style=\"color:orange\">**p**=[0,0,0,1,1,1,0,1,0,1]</style>  \n",
    "\n",
    "<span style=\"color:orange\">Mortadelo encripta su mensaje añadiendo k:</style>  \n",
    "> <span style=\"color:orange\">**c**=**p**+**k**=[0,0,0,1,1,1,0,1,0,1]+[0,1,0,0,1,0,1,0,1,0]=[0,1,0,1,0,1,1,1,1,1]</style>  \n",
    "\n",
    "<span style=\"color:orange\">Cuando Filemón recibe el mensaje, lo desencripta añadiendo **k** a lo que ha recibido</style>  \n",
    "> <span style=\"color:orange\">**p**=**c**+**k**=[0,1,0,1,0,1,1,1,1,1]+[0,1,0,0,1,0,1,0,1,0]=[0,0,0,1,1,1,0,1,0,1]</style>    \n",
    "\n",
    "<span style=\"color:orange\">que es el mensaje original</style>    \n",
    "  \n",
    " <span style=\"color:blue\">Ejercicio 2:  \n",
    " ¿Cómo lo harías en Python? (Definiendo un procedimiento)</style>  "
   ]
  },
  {
   "cell_type": "code",
   "execution_count": null,
   "metadata": {},
   "outputs": [],
   "source": []
  },
  {
   "cell_type": "markdown",
   "metadata": {},
   "source": [
    "###### Compartiendo secretos: Todo o nada\n",
    "\n",
    "![No se puede mostrar](Images/1337613260_0.jpg)\n",
    "\n",
    "\n",
    "<span style=\"color:orange\">Ejemplo: El examen de evaluación.  \n",
    "Mi nombre es Carpanta, y soy profesor en un colegio. Para el examen de evaluación estaré de vacaciones.  \n",
    "He representado las respuestas como un n-vector **v** sobre GF(2).  \n",
    "Quiero proporcionárselo a mis dos asistentes, Zipi y Zape (A y B) para que puedan administrar el examen aunque yo no esté.  \n",
    "Sin mebargo, no confío del todo en ellos.  \n",
    "Por ejemplo, un estudiante puede sobornar a uno de ellos para que le entregue las respuestas del exmen con antelación, por lo que no quiero proporcionarle simplemente las respuestas a cada asistente.  \n",
    "Por tanto, voy a tomar precauciones: voy a proporcionar piezas a cada uno de ellos de forma que puedan reconstruir la totalidad de las respuestas, pero que por separado no sean capaces de obtener información alguna.  \n",
    "Así es cómo lo hago:</style>   \n",
    "* <span style=\"color:orange\"> Elijo aleatoriamente un vector **v<sub>A</sub>**</style>  \n",
    "* <span style=\"color:orange\"> Luego calculo el vector **v<sub>B</sub>**=**v**-**v<sub>A</sub>**</style> \n",
    "* <span style=\"color:orange\"> Finalmente le doy a Zipi **v<sub>A</sub>** y a Zape **v<sub>B</sub>** y me voy de vacaciones.</style>  \n",
    "<span style=\"color:orange\"> ¿Qué consigo con esto?</style>  \n",
    "* <span style=\"color:orange\"> ¿Qué puede saber Zipi sin Zape?  \n",
    "Ella ha recibido un vector aleatorio, así que poco puede saber.</style>  \n",
    "* <span style=\"color:orange\"> ¿Y Zape?  \n",
    "Él ha recibido el resultado de **v** menos un vector aleatorio, así que tampoco puede saber nada.</style>  \n",
    "\n",
    "<span style=\"color:orange\">Así que cuando llega el momento del examen, Zipi y Zape juntan las piezas y obtienen las respuestas del examen haciendo **v<sub>A</sub>**+**v<sub>B</sub>**.  \n",
    "Sólo hay una excepción: si los dos son corruptos y se ponen de acuerdo, podrían vender las preguntas del examen antes de tiempo!!!!</style>  \n",
    "\n",
    "Ejemplo muy sencillo pero muy útil, no créeis?  \n",
    "De hecho, el **RSA Distributed Credential Protection** está basado en esta idea: Cada contraseña se divide en dos partes y cada parte se guarda en un servidor diferente.\n",
    "\n",
    "![No se puede mostrar](Images/RSA.jpg)\n",
    "\n",
    "<span style=\"color:orange\">Ejemplo: El juego Lights Out.</style> \n",
    "\n",
    "![No se puede mostrar](Images/tiger-lights-out-1995_vwtt.jpg)\n",
    "\n",
    "<span style=\"color:orange\">Lights Out es un juego de Puzzles que consiste en intentar apagar todas las luces del tablero de 5x5.  \n",
    "Las instrucciones son sencillas: Dando con el ratón en cada luz cambia de estado y todas las que están alrededor.  \n",
    "Inicialmente alguns luces están encendidas y otras apagadas. </style>    \n",
    "\n",
    "<span style=\"color:orange\">El problema que queremos resolver es: Dada una configuración inicial de luces, encuentre una secuencia de pulsaciones de botón que apague todas las luces o informe que no existe ninguna.</style>  \n",
    "\n",
    "<span style=\"color:orange\">¿Qué tienen que ver los vectores con este juego?  \n",
    "El estado del rompecabezas puede representarse mediante un vector sobre GF(2) con una entrada para cada una de las posiciones de la cuadrícula: (0,0), (0,1),...,(4,3),(4,4).  \n",
    "Y vamos a denotar con un 1 cuando la luz esté encendida y con un 0 cuando la luz esté apagada.  </style>\n",
    "\n",
    "<span style=\"color:orange\">Veamos un ejemplo:  </style>\n",
    "\n",
    "  \n",
    "|   |   |   |   |   |  \n",
    "| -- | -- | -- |  \n",
    "| x | x |   | x |   |   \n",
    "|   | x |   |   |   |\n",
    "|   |   | x |   | x |\n",
    "| x |   | x |   |   |\n",
    "|   | x | x |   | x |\n",
    "\n",
    "<span style=\"color:orange\">El estado del puzzle de la figura es:</style>\n",
    "><span style=\"color:orange\"> **s**={(0,0): 1, (0,1): 1, (0,2): 0, (0,3): 1, (0,4): 0,  \n",
    "(1,0): 0, (1,1): 1, (1,2): 0, (1,3): 0, (1,4): 0,  \n",
    "(2,0): 0, (2,1): 0, (2,2): 1, (2,3): 0, (2,4): 1,  \n",
    "(3,0): 1, (3,1): 0, (3,2): 1, (3,3): 0, (3,4): 0,  \n",
    "(4,0): 0, (4,1): 1, (4,2): 1, (4,3): 0, (4,4): 0}</style>  \n",
    "\n",
    "<span style=\"color:orange\">Un movimiento consiste en presionar un botón, lo que cambia el estado del rompecabezas.  \n",
    "Por ejemplo, al presionar el botón superior izquierdo (0,0), se modifica la luz en (0,0), en (0,1) y en (1,0). Por lo tanto este cambio puede ser representado por el **vector botón**: </style> \n",
    "> <span style=\"color:orange\">**v<sub>0,0</sub>**={(0,0): 1, (0,1): 1, (1,0): 1}</style>\n",
    "\n",
    "<span style=\"color:orange\">El nuevo estado de nuestro puzzle vendrá representado por **s**+**v<sub>0,0</sub>**. ¿Por qué?</style>\n",
    "* <span style=\"color:orange\"> Para cada entrada (i,j) en la que el vector botón sea 0 se quedará igual.</style>  \n",
    "* <span style=\"color:orange\"> Para cada entrada (i,j) en la que el vector botón sea 1 cambiará con las propiedades de GF(2).</style>    \n",
    "\n",
    "<span style=\"color:orange\"> Si hacemos **s**+**v<sub>0,0</sub>**={(0,0): 0, (0,1): 0, (0,2): 0, (0,3): 1, (0,4): 0,  \n",
    "(1,0): 1, (1,1): 1, (1,2): 0, (1,3): 0, (1,4): 0,  \n",
    "(2,0): 0, (2,1): 0, (2,2): 1, (2,3): 0, (2,4): 1,  \n",
    "(3,0): 1, (3,1): 0, (3,2): 1, (3,3): 0, (3,4): 0,  \n",
    "(4,0): 0, (4,1): 1, (4,2): 1, (4,3): 0, (4,4): 0}</style>  \n",
    "\n",
    "<span style=\"color:orange\">Lo que traducido a imagen es:  </style>\n",
    "\n",
    "  \n",
    "|   |   |   |   |   |  \n",
    "| -- | -- | -- |  \n",
    "|   |   |   | x |   |   \n",
    "| x | x |   |   |   |\n",
    "|   |   | x |   | x |\n",
    "| x |   | x |   |   |\n",
    "|   | x | x |   | x |\n",
    "\n",
    "<span style=\"color:orange\"> Si presionásemos el botón (1,1), modificaría las entradas (1,1), (0,1), (1,0), (2,1),(1,2). Por lo tanto este cambio puede ser representado por el **vector botón**: </style>   \n",
    "> <span style=\"color:orange\">**v<sub>0,0</sub>**={(1,1): 1, (0,1): 1, (1,0): 1, (2,1): 1, (1,2):1}</style>  \n",
    "\n",
    "<span style=\"color:orange\"> El resultado vendría dado por **s**+**v<sub>0,0</sub>**+**v<sub>2,2</sub>**={(0,0): 0, (0,1): 1, (0,2): 0, (0,3): 1, (0,4): 0,  \n",
    "(1,0): 0, (1,1): 0, (1,2): 1, (1,3): 0, (1,4): 0,  \n",
    "(2,0): 0, (2,1): 1, (2,2): 1, (2,3): 0, (2,4): 1,  \n",
    "(3,0): 1, (3,1): 0, (3,2): 1, (3,3): 0, (3,4): 0,  \n",
    "(4,0): 0, (4,1): 1, (4,2): 1, (4,3): 0, (4,4): 0}</style>    \n",
    "\n",
    "<span style=\"color:orange\">Lo que traducido a imagen es:  </style>\n",
    "\n",
    "  \n",
    "|   |   |   |   |   |  \n",
    "| -- | -- | -- |  \n",
    "| x |   | x | x |   |   \n",
    "| x |   |   |   |   |\n",
    "|   |   | x |   | x |\n",
    "| x |   | x |   |   |\n",
    "|   | x | x |   | x |\n",
    "\n",
    "\n",
    "<span style=\"color:orange\">Resumiendo:  </style>\n",
    "><span style=\"color:orange\">nuevo_estado = antiguo_estado + vector_boton  </style>   \n",
    "\n",
    "<span style=\"color:orange\">Veámoslo de un modo más sencillo con el tablero de 3x3.  \n",
    "Partimos del siguiente tablero: </style> \n",
    "\n",
    "|   |   |   |           \n",
    "| -- | -- | -- |       \n",
    "| x |   |   |        \n",
    "|   | x |   |         \n",
    "|   |   | x |        \n",
    "\n",
    "<span style=\"color:orange\">Al aplicarle el vector botón: </style>  \n",
    "\n",
    "|   |   |   |\n",
    "| -- | -- | -- |          \n",
    "| x | x |   |        \n",
    "| x |   |   |  \n",
    "|   |   |   |   |\n",
    "\n",
    "<span style=\"color:orange\">Nos daría como resultado:  </style>\n",
    "   \n",
    "|   |   |   |\n",
    "| -- | -- | -- |\n",
    "|   | x |   |\n",
    "| x | x |   |\n",
    "|   |   | x |   |\n",
    "\n",
    "<span style=\"color:orange\">Le aplicamos ahora el vector botón: </style>  \n",
    "\n",
    "|   |   |   |\n",
    "| -- | -- | -- |          \n",
    "|   | x |   |        \n",
    "| x | x | x |  \n",
    "|   | x |   |   |\n",
    "\n",
    "<span style=\"color:orange\">Nos daría como resultado:  </style>\n",
    "   \n",
    "|   |   |   |\n",
    "| -- | -- | -- |\n",
    "|   |   |   |\n",
    "|   |   | x |\n",
    "|   | x | x |   |\n",
    "\n",
    "<span style=\"color:orange\">Por último, aplicamos el vector botón: </style>  \n",
    "\n",
    "|   |   |   |\n",
    "| -- | -- | -- |\n",
    "|   |   |   |\n",
    "|   |   | x |\n",
    "|   | x | x |   |\n",
    "\n",
    "<span style=\"color:orange\">Nos daría como resultado:  </style>\n",
    "   \n",
    "|   |   |   |\n",
    "| -- | -- | -- |\n",
    "|   |   |   |   |\n",
    "|   |   |   |   |\n",
    "|   |   |   |   |\n",
    "\n",
    "<span style=\"color:orange\">Si intentamos generar el algoritmo con la secuencia de vectores botones para llegar a la solución tendremos que tener en cuenta:  </style>  \n",
    "*<span style=\"color:orange\">Por la propiedad conmuntativa de la suma, no debería importar el orden en que lo aplicase.</style>  \n",
    "*<span style=\"color:orange\">Si un vector botón lo aplicamos dos veces, se cancela</style>  \n",
    "\n",
    "<span style=\"color:orange\">Para resolverlo podríamos aplicar la fuerza bruta: probar cada posible conjunto de vectores en L.  \n",
    "El número de posibilidades es 2<sup>|L|</sup>, donde |L| es la cardinalidad de L.  \n",
    "Por ejemplo, en el juego del *Lights Out* |L|=25, por lo que tenemos 2<sup>25</sup> posibilidades, que son 33.554.432 posibilidades.  \n",
    "Sin embargo, hay un modo más sencillo de calcular la solución, que es con la eliminación Gaussiana, que veremos más adelante, y que sirve para éste y otros muchos casos.</style>    \n",
    "\n",
    "\n",
    "# Producto escalar\n",
    "\n",
    "![No se puede mostrar](Images/300px-Dot_Product.svg.png)\n",
    "\n",
    "El **producto escalar** entre **u** y **v** se define como:\n",
    "> **u** $\\cdot$ **v** = $\\sum_{i \\in D}$ **u**[i]$\\cdot$**v**[i] = u<sub>1</sub> $\\cdot$ v<sub>1</sub> + u<sub>2</sub> $\\cdot$ v<sub>2</sub> + ... + u<sub>n</sub> $\\cdot$ v<sub>n</sub>  \n",
    "\n",
    "Como podemos ver la salida es un escalar, no un vector. \n",
    "\n",
    "<span style=\"color:orange\">Ejemplo: [1,2,3,4,5]*[10,20,30,40,50]= 1$\\cdot$10+2$\\cdot$20+3$\\cdot$30+4$\\cdot$40+5$\\cdot$50=550   </style>  \n",
    "\n",
    "\n",
    "<span style=\"color:orange\">Ejemplo: Vamos a escribir un procedimiento en Python que calcule el producto vectorial dados dos vectores de igual longitud, desconocida pero determinada.  </style>  "
   ]
  },
  {
   "cell_type": "code",
   "execution_count": 1,
   "metadata": {
    "collapsed": true
   },
   "outputs": [],
   "source": [
    "def producto_escalar(u,v):\n",
    "    return sum(u[i]*v[i] for i in range(len(u)))"
   ]
  },
  {
   "cell_type": "markdown",
   "metadata": {},
   "source": [
    "<span style=\"color:orange\">Comprobémoslo en el ejemplo anterior </style>  "
   ]
  },
  {
   "cell_type": "code",
   "execution_count": 2,
   "metadata": {},
   "outputs": [
    {
     "data": {
      "text/plain": [
       "550"
      ]
     },
     "execution_count": 2,
     "metadata": {},
     "output_type": "execute_result"
    }
   ],
   "source": [
    "producto_escalar([1,2,3,4,5],[10,20,30,40,50])"
   ]
  },
  {
   "cell_type": "markdown",
   "metadata": {},
   "source": [
    "<span style=\"color:blue\">Ejercicio 3: coste total o beneficio. </style>\n",
    "\n",
    "![No se puede mostrar](Images/bigstock-Beer-Glass-And-Hops-593384301.jpg)\n",
    "\n",
    "<span style=\"color:blue\">Supongamos que D es el conjunto de algunos ingredientes de la cerveza: </style>\n",
    "> <span style=\"color:blue\">D={lúpulo, malta, agua, levadura}</style>  \n",
    "\n",
    "<span style=\"color:blue\">Por otro lado tenemos el vector coste:</style>  \n",
    "> <span style=\"color:blue\">coste={lúpulo: 2,5€, malta: 1.5€, agua: 0.006€, levadura: 0,45€}</style>  \n",
    "\n",
    "<span style=\"color:blue\">Por último tenemos el vector cantidad con lo necesario para hacer una cerveza:</style>  \n",
    "> <span style=\"color:blue\">cantidad={lúpulo: 6u, malta: 14u, agua: 7u, levadura: 11u}</style>  \n",
    "\n",
    "<span style=\"color:blue\">¿Cuánto cuesta hacer una cerveza?</style> "
   ]
  },
  {
   "cell_type": "code",
   "execution_count": null,
   "metadata": {},
   "outputs": [],
   "source": []
  },
  {
   "cell_type": "markdown",
   "metadata": {
    "collapsed": true
   },
   "source": [
    "<span style=\"color:orange\">Ejemplo: Un sensor consta de los siguientes componentes de hardware:</style>\n",
    "\n",
    "![No se puede mostrar](Images/61daaixXUEL._SY355_.jpg)\n",
    "* <span style=\"color:orange\">CPU</style>\n",
    "* <span style=\"color:orange\">Radio</style>\n",
    "* <span style=\"color:orange\">Sensor de temperatura</style>\n",
    "* <span style=\"color:orange\">Memoria</style> \n",
    "\n",
    "<span style=\"color:orange\">Un sensor funciona con baterías y se coloca a distancia, por lo que nos preocupamos por el uso de energía que consume.  \n",
    "Supongamos que conocemos el consumo de energía para cada componente de hardware.  \n",
    "Lo representaremos como un D-vector con D = {radio,sensor, memoria, CPU}.  </style>\n",
    "> <span style=\"color:orange\">**consumo** = Vec(D, {memoria : 0.06W,radio : 0.06W,sensor : 0.004W, CPU : 0.0025W})</style>  \n",
    "\n",
    "<span style=\"color:orange\">Para obtener estos datos, lo tuvimos funcionando durante un período de prueba durante el cual sabemos cuánto tiempo estuvo trabajando cada componente.  \n",
    "Lo representamos como otro vector D:  </style>\n",
    "> <span style=\"color:orange\">**duracion** = Vec(D, {memoria : 1.0s,radio : 0.2s,sensor : 0.5s, CPU : 1.0s})</style> \n",
    "\n",
    "<span style=\"color:orange\">Calculamos ahora el total de la energía consumida en Julios: </style> \n",
    "> <span style=\"color:orange\">**total_energia** = **consumo**$\\cdot$**duracion**\n",
    "</style>"
   ]
  },
  {
   "cell_type": "code",
   "execution_count": 3,
   "metadata": {},
   "outputs": [
    {
     "data": {
      "text/plain": [
       "0.0765"
      ]
     },
     "execution_count": 3,
     "metadata": {},
     "output_type": "execute_result"
    }
   ],
   "source": [
    "producto_escalar([0.06,0.06,0.004,0.0025],[1,0.2,0.5,1])"
   ]
  },
  {
   "cell_type": "markdown",
   "metadata": {},
   "source": [
    "<span style=\"color:orange\">Hemos medido la energía total consumida por el sensor en un período.  \n",
    "¿Cuál va a ser nuestro siguiente objetivo?  \n",
    "Calcular la tasa de consumo de energía de cada componente de hardware.  \n",
    "Nos encontramos con un desafío y es que no se puede simplemente encender la memoria sin encender la CPU.  \n",
    "**Idea:**  </style>\n",
    "* <span style=\"color:orange\">Ejecuto varias pruebas en el sensor en el que mediremos el consumo total de energía.</style>\n",
    "* <span style=\"color:orange\">En cada período de prueba, conocemos la duración de cada componente de hardware.  \n",
    "Por ejemplo,  \n",
    "duracion1 = {radio: 0.2s, sensor: 0.5s, memoria: 1.0s, CPU: 1.0s}  \n",
    "duracion2 = {radio: 0s, sensor: 0.1s, memoria: 0.2s, CPU: 0.5s}  \n",
    "duracion3 = {radio: 0.4s, sensor: 0s, memoria: 0.2s, CPU: 1.0s}</style>   \n",
    "* <span style=\"color:orange\">En cada período de prueba, conocemos la energía total consumida:</style>  \n",
    "> <span style=\"color:orange\">β1 = 1J, β2 = 0.75J, β3 = 0.6J</style>\n",
    "* <span style=\"color:orange\">Uso los datos para calcular la tasa de consumo de enegía de cada componente de hardware.</style>\n",
    "\n",
    "Antes de ponernos manos a la obra, vamos a definir la **ecuación lineal**.  \n",
    "Una ecuación lineal es una ecuación de la forma:  \n",
    "> **a** $\\cdot$ **x** = $\\beta$  \n",
    "\n",
    "donde **a** es un vector, $\\beta$ es un escalar y **x** es un vector de variables.  \n",
    "\n",
    "<span style=\"color:orange\"> Volvemos a nuestro sensor.  \n",
    "Tenemos ecuaciones lineales de la forma:</style>  \n",
    "> <span style=\"color:orange\"> **duracion<sub>i</sub>** $\\cdot$ **consumo** = **$\\beta$**<sub>i</sub> </style>  \n",
    "\n",
    "<span style=\"color:orange\"> donde el vector **consumo** es un vector de variables.  \n",
    "**Preguntas:**  </style> \n",
    "* <span style=\"color:orange\">¿Podemos encontrar valores para las entradas de la tasa de consumo de energía de modo que las ecuaciones se mantengan?</style>\n",
    "* <span style=\"color:orange\">Si lo hacemos, ¿esto garantiza que hemos calculado correctamente el consumo actual para cada componente?</style>\n",
    "* <span style=\"color:orange\"> ¿Existe un algoritmo para resolver un sistema de ecuaciones lineales?</style>\n",
    "> <span style=\"color:orange\">a<sub>1</sub> · x = β<sub>1</sub></style>  \n",
    "> <span style=\"color:orange\">a<sub>2</sub> · x = β<sub>2</sub></style>  \n",
    "> <span style=\"color:orange\">...</style>  \n",
    "> <span style=\"color:orange\">a<sub>n</sub> · x = β<sub>n</sub></style>  \n",
    "* <span style=\"color:orange\">¿Cómo podemos saber si solo hay una solución?</style>\n",
    "* <span style=\"color:orange\">¿Qué pasa si nuestros datos son un poco inexactos?</style>\n",
    "\n",
    "<span style=\"color:orange\">Estas preguntas sustentan gran parte de los contenidos que veremos en temas posteriores (matrices).</style>  \n",
    "  \n",
    "  \n",
    "** Medición de similitud**  \n",
    "Podemos usar el producto escalar para medir la similitud entre vectores.  \n",
    "<span style=\"color:orange\"> Ejemplo: Comparar votos.  </style>\n",
    "\n",
    "![No se puede mostrar](Images/votacion.jpg)  \n",
    "\n",
    "<span style=\"color:orange\">Vamos a representar la votación de cada senador como un vector:</style>\n",
    "> <span style=\"color:orange\"> [+1, +1, 0, -1]  </style>\n",
    "\n",
    "<span style=\"color:orange\"> donde +1 = A favor, 0 = Se abstiene, -1 = En contra  \n",
    "Imaginemos que tenemos dos senadores y sus votaciones son:</style>\n",
    "> <span style=\"color:orange\"> senador1 = [+1, +1, 0, -1]  </style>  \n",
    "> <span style=\"color:orange\"> senador2= [-1, -1, -1, +1]  </style>\n",
    "\n",
    "<span style=\"color:orange\"> Como sucede en la vida real, el resultado de la sesión será positivo si los dos senadores están de acuerdo y negativo si no lo están.  \n",
    "en este caso, ¿qué pensáis? ¿están de acuerdo o no?  \n",
    "Si observamos los vectores vemos que no están de acuerdo en nada, pero claro, no siempre tendremos vectores tan sencillitos.  \n",
    "¿Cómo lo podemos ver de un modo más genérico?  \n",
    "Usando el producto escalar.</style>"
   ]
  },
  {
   "cell_type": "code",
   "execution_count": 4,
   "metadata": {},
   "outputs": [
    {
     "data": {
      "text/plain": [
       "-3"
      ]
     },
     "execution_count": 4,
     "metadata": {},
     "output_type": "execute_result"
    }
   ],
   "source": [
    "producto_escalar([+1, +1, 0, -1],[-1, -1, -1, +1])"
   ]
  },
  {
   "cell_type": "markdown",
   "metadata": {},
   "source": [
    "<span style=\"color:orange\"> Como podemos ver sale un número \"tremendamente\" negativo (ya que tenemos 4 votaciones), lo que significa que no están de acuerdo prácticamente en nada.</style> \n",
    "\n",
    "# Producto escalar en GF(2)\n",
    "\n",
    "<span style=\"color:orange\"> Ejemplo: Sistema de autenticación simple.</style>   \n",
    "\n",
    "![No se puede mostrar](Images/password.jpg)\n",
    "\n",
    "* <span style=\"color:orange\"> La forma habitual de iniciar sesión en una computadora con una contraseña está sujeta a la piratería por escuchas.</style>   \n",
    "* <span style=\"color:orange\">Alternativa: sistema de desafío-respuesta.</style>   \n",
    "* <span style=\"color:orange\">El ordenador hace una pregunta sobre la contraseña.</style>   \n",
    "* <span style=\"color:orange\">El humano envía la respuesta.</style>   \n",
    "* <span style=\"color:orange\">Repito varias veces antes de que el ser humano se considere autenticado.</style>   \n",
    "* <span style=\"color:orange\">Es un sistema potencialmente seguro contra un espía, ya que probablemente la próxima vez involucre\n",
    "preguntas diferentes.</style>  \n",
    "\n",
    "<span style=\"color:orange\">Vamos a montar un sistema de desafío-respuesta simple basado en el producto de puntos de vectores sobre GF (2):</style>  \n",
    "* <span style=\"color:orange\"> La contraseña va a ser un n-vector **x**.</style>   \n",
    "* <span style=\"color:orange\"> El ordenador envía n-vector aleatorio **a**.</style>   \n",
    "* <span style=\"color:orange\"> El humano devuelve **a** · **x**.</style>   \n",
    "\n",
    "<span style=\"color:orange\">Supongamos que la password es **x**=10101.  \n",
    "El ordenador envía al humano la secuencia 11011.  \n",
    "¿Qué debería introducir como respuesta la persona?</style> "
   ]
  },
  {
   "cell_type": "code",
   "execution_count": 5,
   "metadata": {},
   "outputs": [
    {
     "data": {
      "text/plain": [
       "0"
      ]
     },
     "execution_count": 5,
     "metadata": {},
     "output_type": "execute_result"
    }
   ],
   "source": [
    "producto_escalar([1,0,1,0,1],[1,1,0,1,1])%2"
   ]
  },
  {
   "cell_type": "markdown",
   "metadata": {},
   "source": [
    "<span style=\"color:orange\">Luego la persona debería introducir 0 como respuesta.  </style> \n",
    "\n",
    "<span style=\"color:orange\">¿Este sistema es infranqueable?  \n",
    "Ojalá...  </style> \n",
    "  \n",
    "<span style=\"color:orange\">Vamos a hacer de hackers por un momento.  </style> \n",
    "\n",
    "![No se puede mostrar](Images/a8f80614-1c43-4270-a51f-01d609e8d66e.jpg)\n",
    "\n",
    "\n",
    "<span style=\"color:orange\">Observamos una secuencia de vectores de desafío a<sub>1</sub>, a<sub>2</sub>,..., a<sub>n</sub> y las correspondientes respuestas $\\beta$<sub>1</sub>, $\\beta$<sub>2</sub>,...$\\beta$<sub>n</sub>  \n",
    "¿Podemos encontrar la contraseña?  \n",
    "Sabemos que se deben cumplir las ecuaciones lineales:  </style>    \n",
    "><span style=\"color:orange\"> a<sub>1</sub> $\\cdot$ x = $\\beta$<sub>1</sub>  </style>   \n",
    "><span style=\"color:orange\"> a<sub>2</sub> $\\cdot$ x = $\\beta$<sub>2</sub>  </style>    \n",
    "> ...   \n",
    "><span style=\"color:orange\"> a<sub>n</sub> $\\cdot$ x = $\\beta$<sub>n</sub>  </style>  \n",
    "\n",
    "<span style=\"color:orange\"> Preguntas:</style>   \n",
    "* <span style=\"color:orange\">¿Cuántas soluciones hay?</style> \n",
    "* <span style=\"color:orange\">¿Cómo calcularlas?</style> \n",
    "\n",
    "<span style=\"color:orange\">Las respuestas vendrán más tarde.  </style>  \n",
    "  \n",
    "<span style=\"color:orange\">¿Se os ocurre otro modo de hackearlo?  \n",
    "</style> \n",
    "\n",
    "Recordemos lo primero las **propiedades algebraicas del producto escalar**:  \n",
    "* **Propiedad conmutativa**: **u** · **v** = **v** · **u**  \n",
    "* **Homogeneidad**: (α u) · v = α (u · v)  \n",
    "* **Propiedad distributiva**: (v<sub>1</sub> + v<sub>2</sub>) · **x** = v<sub>1</sub> · **x** + v<sub>2</sub> · **x**  \n",
    "\n",
    "<span style=\"color:orange\"> En nuestro ejemplo:  \n",
    "El ordenador nos envía el desafío 01011 y averiguamos que la respuesta es 1 (bien porque acertamos o bien porque fallamos).  \n",
    "El ordenador nos envía otro desafío: 11110, cuya respuesta es 0.  \n",
    "(01011 + 11110) · x = 01011 · x + 11110 · x  \n",
    "= 1 + 0  \n",
    "= 1  \n",
    "Para el desafío 01011 + 11110=10101, podemos extraer la respuesta correcta.  \n",
    "Expresado de un modo más general: Si un vector satsface las ecuaciones:</style>\n",
    "> <span style=\"color:orange\">a<sub>1</sub> · x = β<sub>1</sub></style>  \n",
    "> <span style=\"color:orange\">a<sub>2</sub> · x = β<sub>2</sub></style>  \n",
    "> <span style=\"color:orange\">...</style>  \n",
    "> <span style=\"color:orange\">a<sub>n</sub> · x = β<sub>n</sub></style>  \n",
    "\n",
    "<span style=\"color:orange\">¿cuántas más ecuaciones satisface este mismo vector?  \n",
    "La respuesta la veremos más adelante.  </style>"
   ]
  }
 ],
 "metadata": {
  "kernelspec": {
   "display_name": "Python 2",
   "language": "python",
   "name": "python2"
  },
  "language_info": {
   "codemirror_mode": {
    "name": "ipython",
    "version": 2
   },
   "file_extension": ".py",
   "mimetype": "text/x-python",
   "name": "python",
   "nbconvert_exporter": "python",
   "pygments_lexer": "ipython2",
   "version": "2.7.14"
  }
 },
 "nbformat": 4,
 "nbformat_minor": 2
}
