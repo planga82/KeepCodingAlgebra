{
 "cells": [
  {
   "cell_type": "markdown",
   "metadata": {},
   "source": [
    "# 1. Preliminares "
   ]
  },
  {
   "cell_type": "markdown",
   "metadata": {},
   "source": [
    " ## Divaguemos...\n",
    "\n",
    "Como decía un profesor mío de la universidad cuyo nombre dejaré en el anonimato:\n",
    "* \"*Las matemáticas no son un deporte para espectadores*\". \n",
    "\n",
    "* \"*Hay que acercarse a ellas con papel y lápiz*\".\n",
    "\n",
    "* \"*Las matemáticas son una ciencia cuyo aprendizaje requiere esfuerzo y práctica y cuya recompensa se alcanza por la elegancia con la que permite resolver problemas propios y de otras Ciencias*\".\n",
    "\n",
    "¡Cuánta razón tenía! Sin las matemáticas no seríamos \"nadie\" en el mundo del **Big Data Analytics**.\n",
    "\n",
    "Pero hay algo en lo que tendrá que perdonarme... No sólo aprendemos a día de hoy con papel y boli, aunque he de reconocer que a mí me sigue gustando muchas veces el método \"de siempre\".\n",
    "\n",
    "En esta ocasión aprenderemos **Álgebra** con **Python**. Biennnnn!!!! \n",
    "\n",
    "Salvemos algún árbol de paso.\n",
    "\n",
    "![No se puede mostrar](Images/Save-your-planet-label.png)\n",
    "\n",
    "\n",
    "\n",
    "\n",
    "\n",
    "## ¿Qué es el Álgebra lineal?\n",
    "\n",
    "El **Álgebra Lineal** es una rama de las matemáticas que estudia conceptos tales como vectores, matrices, tensores, sistemas de ecuaciones lineales y, en su enfoque más formal, espacios vetoriales y sus transformaciones lineales.\n",
    "\n",
    "\n",
    "\n",
    "\n",
    "\n",
    "## ¿Por qué debemos estudiar Álgebra?\n",
    "\n",
    "Una buena comprensión del **Álgebra lineal** es esencial para entender y trabajar con muchos algoritmos de **Machine Learning** y, especialmente, para los algoritmos de **Deep Learning**.\n",
    "\n",
    "Muchos piensan que lo importante es sólo la Estadística, pero el **Álgebra Lineal** está a la par como una de las herramientas más usadas en **Big Data Analytics**.\n",
    "\n",
    "Por tanto, si queremos volvernos auténticos expertos en el ámbito del análisis es importante reforzar los conceptos que forman parte de sus cimientos.\n",
    "\n",
    "![No se puede mostrar](Images/smiley-faces-emojis.jpg)\n",
    "\n",
    "\n",
    "\n",
    "\n",
    "\n",
    "## ¿Moriremos en el intento?\n",
    "\n",
    "La respuesta es... que intentaremos que no. Simplemente es una extensión de lo que aprendimos en nuestra época pre-universitaria hacia un mayor número de dimensiones. \n",
    "\n",
    "Dicho de un modo más fromal, en lugar de trabajar con incógnitas a nivel de escalares comenzamos a trabajar con matrices y vectores.\n"
   ]
  },
  {
   "cell_type": "markdown",
   "metadata": {
    "collapsed": true
   },
   "source": [
    "## Números\n",
    "\n",
    "Python puede utilizarse como calculadora\n",
    "\n",
    "* *Suma*  \n",
    "<span style=\"color:orange\"> Ejemplo: Vamos a sumar 2+3</style>"
   ]
  },
  {
   "cell_type": "code",
   "execution_count": null,
   "metadata": {},
   "outputs": [],
   "source": []
  },
  {
   "cell_type": "markdown",
   "metadata": {},
   "source": [
    "* *Resta*  \n",
    "<span style=\"color:orange\"> Ejemplo: Vamos a restar 2-3</style>"
   ]
  },
  {
   "cell_type": "code",
   "execution_count": null,
   "metadata": {},
   "outputs": [],
   "source": []
  },
  {
   "cell_type": "markdown",
   "metadata": {},
   "source": [
    "* *Multiplicación*  \n",
    "<span style=\"color:orange\"> Ejemplo: Vamos a multiplicar 2*3</style>"
   ]
  },
  {
   "cell_type": "code",
   "execution_count": null,
   "metadata": {},
   "outputs": [],
   "source": []
  },
  {
   "cell_type": "markdown",
   "metadata": {},
   "source": [
    "* *División*  \n",
    "<span style=\"color:orange\"> Ejemplo: Vamos a dividir 7 entre 2</style>"
   ]
  },
  {
   "cell_type": "code",
   "execution_count": null,
   "metadata": {},
   "outputs": [],
   "source": []
  },
  {
   "cell_type": "markdown",
   "metadata": {},
   "source": [
    "* *Parte entera de una división*  \n",
    "<span style=\"color:orange\"> Ejemplo: Vamos a sacar el cociente de la división de 7 entre 2</style>"
   ]
  },
  {
   "cell_type": "code",
   "execution_count": null,
   "metadata": {},
   "outputs": [],
   "source": []
  },
  {
   "cell_type": "markdown",
   "metadata": {},
   "source": [
    "* *Resto de una división*  \n",
    "<span style=\"color:orange\"> Ejemplo: Vamos a obtener el resto de la división de 7 entre 2</style>"
   ]
  },
  {
   "cell_type": "code",
   "execution_count": null,
   "metadata": {},
   "outputs": [],
   "source": []
  },
  {
   "cell_type": "markdown",
   "metadata": {},
   "source": [
    "* *Potencia*  \n",
    "<span style=\"color:orange\"> Ejemplo: Vamos a elevar 2 a la 3</style>"
   ]
  },
  {
   "cell_type": "code",
   "execution_count": null,
   "metadata": {},
   "outputs": [],
   "source": []
  },
  {
   "cell_type": "markdown",
   "metadata": {},
   "source": [
    "* *Redondear un número*  \n",
    "<span style=\"color:orange\"> Ejemplo: Vamos a redondear 4.14656</style>"
   ]
  },
  {
   "cell_type": "raw",
   "metadata": {},
   "source": []
  },
  {
   "cell_type": "markdown",
   "metadata": {},
   "source": [
    "*  <span style=\"color:orange\"> Ejemplo: Ahora vamos a redondearlo con dos decimales</style>"
   ]
  },
  {
   "cell_type": "code",
   "execution_count": null,
   "metadata": {},
   "outputs": [],
   "source": []
  },
  {
   "cell_type": "markdown",
   "metadata": {},
   "source": [
    "* *Truncar*  \n",
    "<span style=\"color:orange\"> Ejemplo: Vamos a truncar este mismo número</style>"
   ]
  },
  {
   "cell_type": "code",
   "execution_count": null,
   "metadata": {},
   "outputs": [],
   "source": []
  },
  {
   "cell_type": "markdown",
   "metadata": {},
   "source": [
    "* *Redondear al número superior*  \n",
    "<span style=\"color:orange\"> Ejemplo: Vamos redondear al número superior nuestro número</style>"
   ]
  },
  {
   "cell_type": "code",
   "execution_count": null,
   "metadata": {},
   "outputs": [],
   "source": []
  },
  {
   "cell_type": "markdown",
   "metadata": {},
   "source": [
    "## Strings (Cadenas)\n",
    "\n",
    "Sí, en Álgebra usamos letras y como tal, podemos usar \"palabras\"\n",
    "\n",
    "<span style=\"color:orange\"> Ejemplo: Vamos a escribir 'El Álgebra nos encanta'</style>"
   ]
  },
  {
   "cell_type": "code",
   "execution_count": null,
   "metadata": {},
   "outputs": [],
   "source": []
  },
  {
   "cell_type": "markdown",
   "metadata": {},
   "source": [
    "También podemos usar dobles comillas, que es muy útil cuando tenemos comillas simples en el texto.\n",
    "\n",
    "<span style=\"color:orange\"> Ejemplo: Vamos a escribir \"Los 0's nos dan quebraderos de cabeza. ¿Por qué no se ponen de acuerdo de una vez con qué son o qué no son?\"</style>"
   ]
  },
  {
   "cell_type": "code",
   "execution_count": null,
   "metadata": {},
   "outputs": [],
   "source": []
  },
  {
   "cell_type": "markdown",
   "metadata": {},
   "source": [
    "Por si alguno se lo pregunta, ¿que pasaría si intentase escribirlo con comillas simples?"
   ]
  },
  {
   "cell_type": "code",
   "execution_count": null,
   "metadata": {},
   "outputs": [],
   "source": []
  },
  {
   "cell_type": "markdown",
   "metadata": {},
   "source": [
    "## Instrucciones de comparación de valores (Booleanos)\n",
    "\n",
    "Booleanos: True / False  \n",
    "    \n",
    "* *Igualdad*  \n",
    "\n",
    "<span style=\"color:orange\"> Ejemplo: Vamos a comparar 7 y 3</style>"
   ]
  },
  {
   "cell_type": "code",
   "execution_count": null,
   "metadata": {},
   "outputs": [],
   "source": []
  },
  {
   "cell_type": "markdown",
   "metadata": {},
   "source": [
    "Lo podría hacer con strings también\n",
    "\n",
    "<span style=\"color:orange\"> Ejemplo: Vamos a comparar el string Keepcoding con él mismo</style>"
   ]
  },
  {
   "cell_type": "code",
   "execution_count": null,
   "metadata": {},
   "outputs": [],
   "source": []
  },
  {
   "cell_type": "markdown",
   "metadata": {},
   "source": [
    "* *Mayor que*   \n",
    "    >\n",
    "* *Menor*   \n",
    "    <\n",
    "* *Mayor o igual que*  \n",
    "    '>'=\n",
    "* *Menor o igual que*   \n",
    "    <=\n",
    "* *Desigualdad*  \n",
    "    !=\n",
    "    \n",
    "## AND, OR y NOT\n",
    "\n",
    "<span style=\"color:orange\"> Ejemplo: True and False</style>"
   ]
  },
  {
   "cell_type": "code",
   "execution_count": null,
   "metadata": {},
   "outputs": [],
   "source": []
  },
  {
   "cell_type": "markdown",
   "metadata": {},
   "source": [
    "<span style=\"color:orange\"> Ejemplo: True and (7==3)</style>"
   ]
  },
  {
   "cell_type": "code",
   "execution_count": null,
   "metadata": {},
   "outputs": [],
   "source": []
  },
  {
   "cell_type": "markdown",
   "metadata": {},
   "source": [
    "<span style=\"color:orange\"> Ejemplo: True or False</style>"
   ]
  },
  {
   "cell_type": "code",
   "execution_count": null,
   "metadata": {},
   "outputs": [],
   "source": []
  },
  {
   "cell_type": "markdown",
   "metadata": {},
   "source": [
    "<span style=\"color:orange\"> Ejemplo: True and not (7==3)</style>"
   ]
  },
  {
   "cell_type": "code",
   "execution_count": null,
   "metadata": {},
   "outputs": [],
   "source": []
  },
  {
   "cell_type": "markdown",
   "metadata": {},
   "source": [
    "## Condicionales\n",
    "\n",
    "expresion **if** condicion **else** expresion \n",
    "\n",
    "<span style=\"color:orange\"> Ejemplo: El valor absoluto de 3</style>"
   ]
  },
  {
   "cell_type": "code",
   "execution_count": null,
   "metadata": {},
   "outputs": [],
   "source": []
  },
  {
   "cell_type": "markdown",
   "metadata": {},
   "source": [
    "<span style=\"color:orange\"> Ejemplo: El valor absoluto de -3</style>"
   ]
  },
  {
   "cell_type": "code",
   "execution_count": null,
   "metadata": {},
   "outputs": [],
   "source": []
  },
  {
   "cell_type": "markdown",
   "metadata": {},
   "source": [
    "## Conjuntos\n",
    "\n",
    "Un **conjunto** es una colección desordenada de objetos, que aparecen al menos una vez.\n",
    "\n",
    "¿Esto qué quiere decir? Que si en el conjunto aparecen más de una vez, Python nos lo devolverá como un único objeto.\n",
    "\n",
    "Los escribimos entre llaves.\n",
    "\n",
    "<span style=\"color:orange\"> Ejemplo: Escribamos el conjunto 2,1,3</style>\n"
   ]
  },
  {
   "cell_type": "code",
   "execution_count": null,
   "metadata": {},
   "outputs": [],
   "source": []
  },
  {
   "cell_type": "markdown",
   "metadata": {},
   "source": [
    "<span style=\"color:orange\"> Ejemplo: Escribamos el conjunto 1+2, 3, 'a'</style>"
   ]
  },
  {
   "cell_type": "code",
   "execution_count": null,
   "metadata": {},
   "outputs": [],
   "source": []
  },
  {
   "cell_type": "markdown",
   "metadata": {},
   "source": [
    "<span style=\"color:orange\"> Definamos el conjunto S como todos los enteros del -3 al 3 y obtengamos el conjunto de todos los que son mayores o iguales a 0</style>"
   ]
  },
  {
   "cell_type": "code",
   "execution_count": null,
   "metadata": {},
   "outputs": [],
   "source": []
  },
  {
   "cell_type": "markdown",
   "metadata": {},
   "source": [
    "La **cardinalidad** del conjunto S, expresada en Matemáticas como |S|, indica el número de elementos del conjunto S.\n",
    "\n",
    "<span style=\"color:orange\"> Ejemplo: Veamos la cardinalidad del conjunto a,b,c,a,a</style>"
   ]
  },
  {
   "cell_type": "code",
   "execution_count": null,
   "metadata": {},
   "outputs": [],
   "source": []
  },
  {
   "cell_type": "markdown",
   "metadata": {},
   "source": [
    "Podemos sumar los elementos de un conjunto, siempre y cuando sean valores.\n",
    "\n",
    "<span style=\"color:orange\"> Ejemplo: Sumemos el conjunto {2,4,6} y 5</style>"
   ]
  },
  {
   "cell_type": "code",
   "execution_count": null,
   "metadata": {},
   "outputs": [],
   "source": []
  },
  {
   "cell_type": "markdown",
   "metadata": {},
   "source": [
    "**$\\in$** indica que un objeto pertenece a un conjunto\n",
    "\n",
    "<span style=\"color:orange\"> Ejemplo: Dado el conjunto S={1,2,3}, comprobemos si los elementos 2 y 7 pertenecen a él</style>"
   ]
  },
  {
   "cell_type": "code",
   "execution_count": null,
   "metadata": {},
   "outputs": [],
   "source": []
  },
  {
   "cell_type": "code",
   "execution_count": null,
   "metadata": {},
   "outputs": [],
   "source": []
  },
  {
   "cell_type": "code",
   "execution_count": null,
   "metadata": {},
   "outputs": [],
   "source": []
  },
  {
   "cell_type": "markdown",
   "metadata": {},
   "source": [
    "La **unión** de dos conjuntos A y B es un nuevo conjunto que contiene los elementos que pertenecen a A y/o a B.\n",
    "\n",
    "<span style=\"color:orange\"> Ejemplo: Dados A={1,2,3} y B={3,4}, calcula AUB.</style>"
   ]
  },
  {
   "cell_type": "code",
   "execution_count": null,
   "metadata": {},
   "outputs": [],
   "source": []
  },
  {
   "cell_type": "markdown",
   "metadata": {},
   "source": [
    "La **intersección** de dos conjuntos A y B es un nuevo conjunto que contiene los elementos que pertenecen a A y a B\n",
    "\n",
    "<span style=\"color:orange\"> Ejemplo: Dados A={1,2,3} y B={3,4}, calcula A$\\cap$B.</style>"
   ]
  },
  {
   "cell_type": "code",
   "execution_count": null,
   "metadata": {},
   "outputs": [],
   "source": []
  },
  {
   "cell_type": "markdown",
   "metadata": {},
   "source": [
    "Los conjuntos son **mutables**  \n",
    "\n",
    "<span style=\"color:orange\"> Ejemplo: Dado A={1,2,3}, vamos a añadirle el elemento 4</style>"
   ]
  },
  {
   "cell_type": "code",
   "execution_count": null,
   "metadata": {},
   "outputs": [],
   "source": []
  },
  {
   "cell_type": "markdown",
   "metadata": {},
   "source": [
    "<span style=\"color:orange\"> Ejemplo: Ahora eliminamos el elemento 3</style>"
   ]
  },
  {
   "cell_type": "code",
   "execution_count": null,
   "metadata": {},
   "outputs": [],
   "source": []
  },
  {
   "cell_type": "markdown",
   "metadata": {},
   "source": [
    "<span style=\"color:orange\"> Ejemplo: Ahora vamos a añadirle el conjunto {5,6,7,8}</style>"
   ]
  },
  {
   "cell_type": "code",
   "execution_count": null,
   "metadata": {},
   "outputs": [],
   "source": []
  },
  {
   "cell_type": "markdown",
   "metadata": {},
   "source": [
    "Podemos quedarnos sólo con la intersección de nuestro conjunto con otro dado.\n",
    "\n",
    "<span style=\"color:orange\"> Ejemplo: Quedemos con la intersección de A con {7,8,9}</style>"
   ]
  },
  {
   "cell_type": "code",
   "execution_count": null,
   "metadata": {},
   "outputs": [],
   "source": []
  },
  {
   "cell_type": "markdown",
   "metadata": {},
   "source": [
    "**Conjuntos a partir de conjuntos**\n",
    "\n",
    "Podemos crear nuevos conjuntos a partir de conjuntos ya definidos.\n",
    "\n",
    "<span style=\"color:orange\"> Ejemplo: Dado el conjunto A={1,2,3}, queremos crear el conjunto B como el resultado de multiplicar cada elemento de A por 3.</style>"
   ]
  },
  {
   "cell_type": "code",
   "execution_count": null,
   "metadata": {},
   "outputs": [],
   "source": []
  },
  {
   "cell_type": "markdown",
   "metadata": {},
   "source": [
    "## Listas\n",
    "\n",
    "A diferencia de los conjuntos, en las **listas** el orden es importante y se permiten elementos repetidos.\n",
    "\n",
    "Se expresa con corchetes.\n",
    "\n",
    "<span style=\"color:orange\"> Ejemplo: Escribamos la lista 1,1+1,3,2</style>"
   ]
  },
  {
   "cell_type": "code",
   "execution_count": null,
   "metadata": {},
   "outputs": [],
   "source": []
  },
  {
   "cell_type": "markdown",
   "metadata": {},
   "source": [
    "Una lista puede contener distintos tipos de elementos.\n",
    "\n",
    "<span style=\"color:orange\"> Ejemplo: Escribamos la lista [1,1+1,4-1],{2*2,5,6},'yo'</style>"
   ]
  },
  {
   "cell_type": "code",
   "execution_count": null,
   "metadata": {},
   "outputs": [],
   "source": []
  },
  {
   "cell_type": "markdown",
   "metadata": {},
   "source": [
    "La **cardinalidad** de una lista se calcula igual que en los conjuntos.\n",
    "\n",
    "<span style=\"color:orange\"> Ejemplo: Calculemos la cardinalidad de la lista anterior</style>"
   ]
  },
  {
   "cell_type": "code",
   "execution_count": null,
   "metadata": {},
   "outputs": [],
   "source": []
  },
  {
   "cell_type": "markdown",
   "metadata": {},
   "source": [
    "Vamos a ver qué podemos hacer con las listas.\n",
    "\n",
    "<span style=\"color:orange\"> Ejemplo: Vamos a crear la lista TBBT con los elementos Sheldon, Leonard, Penny, Raj, Howard</style>"
   ]
  },
  {
   "cell_type": "code",
   "execution_count": null,
   "metadata": {},
   "outputs": [],
   "source": []
  },
  {
   "cell_type": "markdown",
   "metadata": {},
   "source": [
    "<span style=\"color:orange\"> Ejemplo: Vamos a añadir a la lista a Bernadette</style>"
   ]
  },
  {
   "cell_type": "code",
   "execution_count": null,
   "metadata": {},
   "outputs": [],
   "source": []
  },
  {
   "cell_type": "markdown",
   "metadata": {},
   "source": [
    "<span style=\"color:orange\"> Ejemplo: Queremos conocer quién está en la posición 1 de la lista TBBT</style>"
   ]
  },
  {
   "cell_type": "code",
   "execution_count": null,
   "metadata": {},
   "outputs": [],
   "source": []
  },
  {
   "cell_type": "markdown",
   "metadata": {},
   "source": [
    "¿Cómo? ¡Cuidado! Empezamos la lista en la posición 0\n",
    "\n",
    "<span style=\"color:orange\"> Ejemplo: Queremos conocer quién está en la posición 0 de la lista TBBT</style>"
   ]
  },
  {
   "cell_type": "code",
   "execution_count": null,
   "metadata": {},
   "outputs": [],
   "source": []
  },
  {
   "cell_type": "markdown",
   "metadata": {},
   "source": [
    "<span style=\"color:orange\"> Ejemplo: Queremos conocer en qué posición está Raj</style>"
   ]
  },
  {
   "cell_type": "code",
   "execution_count": null,
   "metadata": {},
   "outputs": [],
   "source": []
  },
  {
   "cell_type": "markdown",
   "metadata": {},
   "source": [
    "Podemos cambiar cualquier elemento de la lista simplemente declarándolo.\n",
    "\n",
    "<span style=\"color:orange\"> Ejemplo: Vamos a cambiar a Raj que está en la posición 3 por Amy</style>"
   ]
  },
  {
   "cell_type": "code",
   "execution_count": null,
   "metadata": {},
   "outputs": [],
   "source": []
  },
  {
   "cell_type": "markdown",
   "metadata": {},
   "source": [
    "<span style=\"color:orange\"> Ejemplo: Queremos volver a añadir a Raj justo después de Amy</style>"
   ]
  },
  {
   "cell_type": "code",
   "execution_count": null,
   "metadata": {},
   "outputs": [],
   "source": []
  },
  {
   "cell_type": "markdown",
   "metadata": {},
   "source": [
    "<span style=\"color:orange\"> Ejemplo: Queremos eliminar a Raj. ¡¡Pobre!!</style>"
   ]
  },
  {
   "cell_type": "code",
   "execution_count": null,
   "metadata": {},
   "outputs": [],
   "source": []
  },
  {
   "cell_type": "markdown",
   "metadata": {},
   "source": [
    "<span style=\"color:orange\"> Ejemplo: Por si alguno se ha despistado, vamos a comprobar si Raj está en la lista.</style>"
   ]
  },
  {
   "cell_type": "code",
   "execution_count": null,
   "metadata": {},
   "outputs": [],
   "source": []
  },
  {
   "cell_type": "markdown",
   "metadata": {},
   "source": [
    "<span style=\"color:orange\"> Ejemplo: Ordenemos nuestra lista</style>"
   ]
  },
  {
   "cell_type": "code",
   "execution_count": null,
   "metadata": {},
   "outputs": [],
   "source": []
  },
  {
   "cell_type": "markdown",
   "metadata": {},
   "source": [
    "<span style=\"color:orange\"> Ejemplo: si quisiésemos ordenarla en modo descendente.</style>"
   ]
  },
  {
   "cell_type": "code",
   "execution_count": null,
   "metadata": {},
   "outputs": [],
   "source": []
  },
  {
   "cell_type": "markdown",
   "metadata": {},
   "source": [
    "## Tuplas\n",
    "\n",
    "Las **tuplas** son un tipo de lista un poco especial, no mutable, es decir, no se puede modificar lo que tienen.  \n",
    "Se podría decir que son iguales que las listas pero no podemos alterar su contenido.  \n",
    "Se declaran con paréntesis.  \n",
    "\n",
    "<span style=\"color:orange\"> Ejemplo: Vamos a crear la tupla TBBT con los elementos Sheldon, Leonard, Penny, Raj, Howard</style>"
   ]
  },
  {
   "cell_type": "code",
   "execution_count": null,
   "metadata": {},
   "outputs": [],
   "source": []
  },
  {
   "cell_type": "markdown",
   "metadata": {},
   "source": [
    "<span style=\"color:orange\"> Ejemplo: Queremos conocer quién está en la posición 1 de la tupla TBBT</style>"
   ]
  },
  {
   "cell_type": "code",
   "execution_count": null,
   "metadata": {},
   "outputs": [],
   "source": []
  },
  {
   "cell_type": "markdown",
   "metadata": {},
   "source": [
    "## Diccionarios\n",
    "\n",
    "Los **diccionarios** son una estructura que almacena los elementos a los que se les da un nombre o clave (key).  \n",
    "De esta forma, en vez de acceder al elemento por medio del índice que ocupa, se accede a él por el nombre que tiene.  \n",
    "Podemos definir un diccionario como un conjunto de parejas clave-valor, donde la clave es el nombre que se le da a un valor.  \n",
    "Los valores de un diccionario pueden tener cualquier forma: números, strings, listas,..\n",
    "\n",
    "<span style=\"color:orange\"> Ejemplo: Veamos un diccionario sencillo, que consiste en los pronombre personales en singular en español y en inglés</style>"
   ]
  },
  {
   "cell_type": "code",
   "execution_count": null,
   "metadata": {},
   "outputs": [],
   "source": []
  },
  {
   "cell_type": "markdown",
   "metadata": {},
   "source": [
    "<span style=\"color:orange\"> Ejemplo: Queremos obtener lo que tiene guardado el diccionario pronombres para \"yo\"</style>"
   ]
  },
  {
   "cell_type": "code",
   "execution_count": null,
   "metadata": {},
   "outputs": [],
   "source": []
  },
  {
   "cell_type": "markdown",
   "metadata": {},
   "source": [
    "Para añadir nuevas parejas clave-valor sólo tenemos que indicarlo.\n",
    "\n",
    "<span style=\"color:orange\"> Ejemplo: Añadamos a nuestro diccionario 'ella' con su traducción 'She'</style>"
   ]
  },
  {
   "cell_type": "code",
   "execution_count": null,
   "metadata": {},
   "outputs": [],
   "source": []
  },
  {
   "cell_type": "markdown",
   "metadata": {},
   "source": [
    "Para recorrer un diccionario, veámoslo con un ejemplo.\n",
    "\n",
    "<span style=\"color:orange\"> Ejemplo: Vamos a recorrer nuestro diccionario pronombres</style>"
   ]
  },
  {
   "cell_type": "code",
   "execution_count": null,
   "metadata": {},
   "outputs": [],
   "source": []
  },
  {
   "cell_type": "markdown",
   "metadata": {},
   "source": [
    "## Objetos matemáticos en Álgebra Lineal\n",
    "\n",
    "* *Escalares*  \n",
    "    Un escalar es un solo número, en contraposición al resto de objetos que suelen ser una colección de múltiples números\n",
    "    \n",
    "    <span style=\"color:orange\"> Ejemplo: Vamos a mostrar el escalar 1 </style>\n"
   ]
  },
  {
   "cell_type": "code",
   "execution_count": null,
   "metadata": {},
   "outputs": [],
   "source": []
  },
  {
   "cell_type": "markdown",
   "metadata": {},
   "source": [
    "* *Vectores*  \n",
    "    Un vector es una serie de elementos ordenados.  \n",
    "    ¡Cuidado! No significa ordenados numéricamente, sino en función de un índice de orden.  \n",
    "    \n",
    "<span style=\"color:orange\"> Ejemplo: Vamos a mostrar el vector v1 (2,5,6) como lista en Python </style>  \n",
    "\n"
   ]
  },
  {
   "cell_type": "code",
   "execution_count": null,
   "metadata": {},
   "outputs": [],
   "source": []
  },
  {
   "cell_type": "markdown",
   "metadata": {},
   "source": [
    "<span style=\"color:orange\"> Ejemplo: Vamos a mostrar ahora este mismo vector v1 con numpy </style>  "
   ]
  },
  {
   "cell_type": "code",
   "execution_count": null,
   "metadata": {},
   "outputs": [],
   "source": []
  },
  {
   "cell_type": "markdown",
   "metadata": {},
   "source": [
    "Da lo mismo...  \n",
    "\n",
    "<span style=\"color:orange\"> Ejemplo: ¿y si quisiésemos crear un vector v2 como una tupla de tres unos? </style>  "
   ]
  },
  {
   "cell_type": "code",
   "execution_count": null,
   "metadata": {},
   "outputs": [],
   "source": []
  },
  {
   "cell_type": "markdown",
   "metadata": {},
   "source": [
    "¿Y si quisiésemos pasarle una lista para crear el array a numpy?\n",
    "\n",
    "<span style=\"color:orange\"> Ejemplo: Pasemos la lista 1, 4, 7 a un array v3 de numpy </style> "
   ]
  },
  {
   "cell_type": "code",
   "execution_count": null,
   "metadata": {},
   "outputs": [],
   "source": []
  },
  {
   "cell_type": "markdown",
   "metadata": {},
   "source": [
    "<span style=\"color:orange\"> Ejemplo: ¿Y si queremos crear un vector con la lista de los diez primeros números? </style> "
   ]
  },
  {
   "cell_type": "code",
   "execution_count": null,
   "metadata": {},
   "outputs": [],
   "source": []
  },
  {
   "cell_type": "markdown",
   "metadata": {},
   "source": [
    "* *Matrices*  \n",
    "Es un arreglo bidimensional de elementos ordenados en filas y columnas.  \n",
    "Cada elemento de la matriz puede ser identificado utilizando dos índices, uno para la fila y otro para la columna en la que se encuentra.  \n",
    "Una matriz se dice que es de orden nxm (filas x columnas). \n",
    "\n",
    "<span style=\"color:orange\"> Ejemplo: Vamos a dibujar una matriz 3x3</style>"
   ]
  },
  {
   "cell_type": "code",
   "execution_count": null,
   "metadata": {},
   "outputs": [],
   "source": []
  },
  {
   "cell_type": "markdown",
   "metadata": {},
   "source": [
    "* *Tensores*  \n",
    "Son matrices con más de dos ejes.  \n",
    "En general, es una serie de elementos dispuestos en una cuadrícula regular con un número variable de ejes.  \n",
    "<span style=\"color:violet\"> NOTA: Es un tema complicado, que se escapa al Álgebra Lineal del módulo. Se hablará muuuuucho sobre ello en Deep Learning.  \n",
    "De momento quédemonos con saber de su existencia.</style>"
   ]
  },
  {
   "cell_type": "markdown",
   "metadata": {},
   "source": [
    "## Librerías en Python para Álgebra Lineal\n",
    "\n",
    "* *Numpy*  \n",
    "    Nos va a permitir crear vectores, matrices y tensores con suma facilidad\n",
    "* *numpy.linalg*  \n",
    "    Submódulo dentro de *Numpy* con un gran número de funciones para resolver ecuaciones\n",
    "* *scipy.linalg*  \n",
    "    Submódulo de *Scipy* similar al anterior, pero con algunas más funciones y optimizaciones\n",
    "* *Sympy*  \n",
    "    Nos permite trabajar con matemática simbólica.\n",
    "* *CVXOPT*  \n",
    "    Nos permite resolver problemas de optimizaciones de programación lineal\n",
    "* *PuLP*\n",
    "    Nos permite crear modelos de programación lineal de una manera muy sencilla "
   ]
  }
 ],
 "metadata": {
  "anaconda-cloud": {},
  "kernelspec": {
   "display_name": "Python 3",
   "language": "python",
   "name": "python3"
  },
  "language_info": {
   "codemirror_mode": {
    "name": "ipython",
    "version": 3
   },
   "file_extension": ".py",
   "mimetype": "text/x-python",
   "name": "python",
   "nbconvert_exporter": "python",
   "pygments_lexer": "ipython3",
   "version": "3.6.3"
  }
 },
 "nbformat": 4,
 "nbformat_minor": 1
}
