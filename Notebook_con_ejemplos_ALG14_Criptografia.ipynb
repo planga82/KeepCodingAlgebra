{
 "cells": [
  {
   "cell_type": "markdown",
   "metadata": {},
   "source": [
    "# 14. Criptografia"
   ]
  },
  {
   "cell_type": "markdown",
   "metadata": {},
   "source": [
    "A=1   \n",
    "B=2   \n",
    "C=3   \n",
    "D=4   \n",
    "E=5   \n",
    "F=6   \n",
    "G=7   \n",
    "H=8   \n",
    "I=9   \n",
    "J=10   \n",
    "K=11   \n",
    "L=12   \n",
    "M=13   \n",
    "N=14   \n",
    "Ñ=15   \n",
    "O=16   \n",
    "P=17   \n",
    "Q=18   \n",
    "R=19   \n",
    "S=20   \n",
    "T=21   \n",
    "U=22   \n",
    "V=23   \n",
    "W=24   \n",
    "X=25   \n",
    "Y=26   \n",
    "Z=27   \n",
    "espacio=28   "
   ]
  },
  {
   "cell_type": "markdown",
   "metadata": {
    "collapsed": true
   },
   "source": [
    "'ALGEBRA LINEAL CON PYTHON'  \n",
    "1 12 7 5 2 19 1 28 12 9 14 5 1 12 18 3 16 14 28 17 26 21 8 16 14  \n",
    "Agrupar la cifras en grupos de tres:  \n",
    "(1,12,7) (5,2,19) (1,28,12) (9,14,5) (1,12,18) (3,16,14) (28,17,26) (21,8,16) (14,0,0)  \n",
    "\n",
    "Le vamos a aplicar la siguiente transformación:  \n",
    "$A=\n",
    "  \\left[ {\\begin{array}{cc}\n",
    "   2 & 5 & 3\\\\\n",
    "   1 & 3 & 2\\\\\n",
    "   3 & 6 & 4\\\\\n",
    "  \\end{array} } \\right]$"
   ]
  },
  {
   "cell_type": "code",
   "execution_count": 1,
   "metadata": {},
   "outputs": [
    {
     "data": {
      "text/plain": [
       "matrix([[ 83,  77, 178, 103, 116, 128, 219, 130,  28],\n",
       "        [ 51,  49, 109,  61,  73,  79, 131,  77,  14],\n",
       "        [103, 103, 219, 131, 147, 161, 290, 175,  42]])"
      ]
     },
     "execution_count": 1,
     "metadata": {},
     "output_type": "execute_result"
    }
   ],
   "source": [
    "import numpy as np\n",
    "A=np.matrix([\n",
    "    [2,5,3],\n",
    "    [1,3,2],\n",
    "    [3,6,4]\n",
    "])\n",
    "M=np.matrix([\n",
    "    [1,5,1,9,1,3,28,21,14],\n",
    "    [12,2,28,14,12,16,17,8,0],\n",
    "    [7,19,12,5,18,14,26,16,0]\n",
    "])\n",
    "A*M"
   ]
  },
  {
   "cell_type": "markdown",
   "metadata": {},
   "source": [
    "Mensaje enviado:  \n",
    "83,51,103,77,49,103,178,109,219,103,61,131,116,73,147,128,79,161,219,131,290,130,77,175,28,14,42  \n",
    "Si queremos descifrarlo:"
   ]
  },
  {
   "cell_type": "code",
   "execution_count": 4,
   "metadata": {},
   "outputs": [
    {
     "data": {
      "text/plain": [
       "matrix([[  1.00000000e+00,   5.00000000e+00,   1.00000000e+00,\n",
       "           9.00000000e+00,   1.00000000e+00,   3.00000000e+00,\n",
       "           2.80000000e+01,   2.10000000e+01,   1.40000000e+01],\n",
       "        [  1.20000000e+01,   2.00000000e+00,   2.80000000e+01,\n",
       "           1.40000000e+01,   1.20000000e+01,   1.60000000e+01,\n",
       "           1.70000000e+01,   8.00000000e+00,   1.42108547e-14],\n",
       "        [  7.00000000e+00,   1.90000000e+01,   1.20000000e+01,\n",
       "           5.00000000e+00,   1.80000000e+01,   1.40000000e+01,\n",
       "           2.60000000e+01,   1.60000000e+01,  -7.10542736e-15]])"
      ]
     },
     "execution_count": 4,
     "metadata": {},
     "output_type": "execute_result"
    }
   ],
   "source": [
    "import numpy as np\n",
    "A=np.matrix([\n",
    "    [2,5,3],\n",
    "    [1,3,2],\n",
    "    [3,6,4]\n",
    "])\n",
    "M=np.matrix([\n",
    "    [1,5,1,9,1,3,28,21,14],\n",
    "    [12,2,28,14,12,16,17,8,0],\n",
    "    [7,19,12,5,18,14,26,16,0]\n",
    "])\n",
    "MENSAJE=A*M\n",
    "A.I*MENSAJE"
   ]
  },
  {
   "cell_type": "code",
   "execution_count": null,
   "metadata": {
    "collapsed": true
   },
   "outputs": [],
   "source": []
  }
 ],
 "metadata": {
  "kernelspec": {
   "display_name": "Python 3",
   "language": "python",
   "name": "python3"
  },
  "language_info": {
   "codemirror_mode": {
    "name": "ipython",
    "version": 3
   },
   "file_extension": ".py",
   "mimetype": "text/x-python",
   "name": "python",
   "nbconvert_exporter": "python",
   "pygments_lexer": "ipython3",
   "version": "3.6.3"
  }
 },
 "nbformat": 4,
 "nbformat_minor": 2
}
