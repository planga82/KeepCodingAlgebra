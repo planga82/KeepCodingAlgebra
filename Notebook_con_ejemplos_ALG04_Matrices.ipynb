{
 "cells": [
  {
   "cell_type": "markdown",
   "metadata": {},
   "source": [
    "# 4. Matrices"
   ]
  },
  {
   "cell_type": "markdown",
   "metadata": {},
   "source": [
    "# Introducción\n",
    "## Modelos de computadora en el diseño de aviones\n",
    "\n",
    "Para diseñar la siguiente generación de aviones comerciales y militares, los ingenieros de Phantom Works de Boeing usan el modelado en tres dimensiones y la dinámica de  uidos basada en computadora (CFD, del inglés computational  uid dynamics).  \n",
    "Estos profesionales estudian cómo se desplaza el flujo de aire alrededor de un avión virtual para dar respuesta a importantes preguntas sobre el diseño antes de crear modelos físicos.  \n",
    "El procedimiento ha reducido en forma drástica los tiempos y costos del ciclo de diseño ,y el álgebra lineal desempeña un papel de gran importancia en el proceso.  \n",
    "El avión virtual comienza como un modelo “de alambre” matemático que existe sólo en la memoria de la computadora y en las terminales de despliegue gráfico.  \n",
    "![No se puede mostrar](http://www.abc.es/Media/201510/22/iberia-boeing-474--644x430.jpg)\n",
    "Este modelo matemático organiza e influye en cada paso del diseño y la fabricación del avión ,tanto en el exterior como en el interior.  \n",
    "El análisis de CFD tiene que ver con la superficie externa.\n",
    "Aunque el acabado del forro de un avión puede parecer suave, la geometría de la superficie es complicada. Además de alas y fuselaje, un avión tiene barquillas, estabilizadores, tablillas, aletas y alerones.  \n",
    "La forma en que el aire fluye alrededor de estas estructuras determina cómo se mueve el avión en el cielo. Las ecuaciones que describen el flujo del aire son complicadas, y deben tener en cuenta la admisión de los motores, los gases despedidos por éstos, y las estelas que dejan las alas del avión.  \n",
    "Para estudiar el flujo del aire, los ingenieros necesitan de una descripción muy depurada de la superficie del avión.\n",
    "Una computadora crea un modelo de la superficie al superponer, primero, una malla tridimensional de “cuadros” sobre el modelo de alambre original.   \n",
    "En esta malla, los cuadros caen completamente dentro o completamente fuera del avión, o intersecan la superficie del mismo.  \n",
    "La computadora selecciona los cuadros que intersecan la superficie y los subdivide, reteniendo sólo aquellos más pequeños que aún intersecan la superficie. El proceso de subdivisión se repite hasta que la malla se vuelve extremadamente fina.  \n",
    "Una malla típica puede incluir más de 400,000 cuadros.\n",
    "El proceso para encontrar el flujo de aire alrededor del avión implica la resolución repetida de un sistema de ecuaciones lineales A$\\cdot$**x** = **b** que puede involucrar hasta2 millones de ecuaciones y variables.  \n",
    "El vector **b** cambia a cada momento, con base en datos provenientes de la malla y de las soluciones de ecuaciones previas.  \n",
    "Con el uso de computadoras comerciales más rápidas, un equipo de Phantom Works puede emplear desde unas cuantas horas hasta varios días para con gurar y resolver un solo problema de flujo de aire.  \n",
    "Después, el equipo analiza la solución, puede hacer pequeños cambios a la superficie del avión, y comienza de nuevo con todo el proceso.  \n",
    "Pueden requerirse miles de corridas de CFD.  \n",
    "![No se puede mostrar](https://3dwarehouse.sketchup.com/warehouse/getpubliccontent?contentId=e79e758a-7094-4d4c-b316-0e2782b883ef)\n",
    "En la actualidad, la CFD ha revolucionado el diseño de alas. El Boeing Blended Wing Body se encuentra en diseño para ser producido a más tardar en el año 2020.  \n",
    "Se presentan dos conceptos importantes que ayudan en la resolución de los enormes sistemas de ecuaciones de este tipo:\n",
    "* *Matrices partidas*: Un sistema de ecuaciones típico de CFD tiene una matriz de coeficientes “dispersa o rala” con entradas que en su mayoría son iguales a cero.  \n",
    "El agrupamiento correcto de las variables conduce a una matriz partida con muchos bloques de ceros.  \n",
    "* *Factorizaciones de matrices*: Aunque el sistema esté escrito con matrices partidas, sigue siendo complicado.  \n",
    "Para simplificar aún más los cálculos, el programa computacional de CFD aplicado en Boeing utiliza lo que se conoce como factorización LU de la matriz de coeficientes.  \n",
    "\n",
    "Para analizar la solución de un sistema de flujo de aire, los ingenieros desean visualizar cómo fluye el aire sobre la superficie del avión. Los ingenieros utilizan gráficas y el álgebra lineal proporciona el método para elaborarlas.  \n",
    "El modelo de alambre de la superficie del avión se almacena como datos en muchas matrices.  \n",
    "Una vez que la imagen se despliega en una pantalla de computadora, los ingenieros pueden escalarla, acercar\n",
    "y alejar regiones pequeñas, y girarla para ver partes que pudieran quedar ocultas en determinado ángulo.  \n",
    "Cada una de estas operaciones se realiza mediante una multiplicación de matrices adecuada. \n",
    "\n",
    "## ¿Qué es una matriz?\n",
    "\n",
    "Si A es una matriz m × n, esto es, una matriz con m  las y n columnas, entonces la entrada escalar en la i-ésima  la y la j-ésima columna de A se denota mediante aij y se llama entrada (i, j) de A.  \n",
    "$\n",
    "  M=\n",
    "  \\left[ {\\begin{array}{cc}\n",
    "   a_{11} & a_{12}  & ... & a_{1j}  \\\\\n",
    "   a_{21} & a_{22}  & ... & a_{2j}  \\\\\n",
    "   ... & ...  & ... & ...  \\\\\n",
    "   a_{i1} & a_{i2}  & ... & a_{ij}  \\\\\n",
    "  \\end{array} } \\right]\n",
    "$  \n",
    "Las entradas diagonales en una matriz m × n A = [aij] son a<sub>11</sub>, a<sub>22</sub>, a<sub>33</sub>, ... , y forman la **diagonal principal** de A.  \n",
    "Una **matriz diagonal** es una matriz cuadrada cuyas entradas no diagonales son cero.  \n",
    "Un ejemplo es la matriz identidad n × n, I<sub>n</sub>.  \n",
    "$\n",
    "  I_n=\n",
    "  \\left[ {\\begin{array}{cc}\n",
    "   1 & 0  & ... & 0  \\\\\n",
    "   0 & 1  & ... & 0  \\\\\n",
    "   ... & ...  & ... & ...  \\\\\n",
    "   0 & 0  & ... & 1  \\\\\n",
    "  \\end{array} } \\right]\n",
    "$  \n",
    "Una matriz de m × n cuyas entradas son todas cero es una **matriz cero** y se escribe como 0. El tamaño de 0, por lo general, resulta evidente a partir del contexto.  \n",
    "\n",
    "La representación en Python puede venir dada de varias maneras diferentes. Nosotros vamos a ver:  \n",
    "* Arrays  \n",
    "* Matrices  \n",
    "\n",
    "NOTA: Las ventajas de usar matrices en el fondo son muy pocas y además la mayoría de funciones de NumPy maneja arrays, así que tendrías que convertir entre ambos tipos constantemente. Vamos a mostrar brevemente el uso de las matrices también, pero mejor utilizar arrays y olvidarse.\n"
   ]
  },
  {
   "cell_type": "markdown",
   "metadata": {},
   "source": [
    "<span style=\"color:orange\"> Ejemplo: Escribamos en Python la siguiente matriz: \n",
    "$\n",
    "  A=\n",
    "  \\left[ {\\begin{array}{cc}\n",
    "   1 & 2  & 3   \\\\\n",
    "   10 & 20  & 30   \\\\\n",
    "  \\end{array} } \\right]\n",
    "$.  \n",
    "Primero con matrices:</style> "
   ]
  },
  {
   "cell_type": "code",
   "execution_count": 1,
   "metadata": {},
   "outputs": [
    {
     "data": {
      "text/plain": [
       "matrix([[ 1,  2,  3],\n",
       "        [10, 20, 30]])"
      ]
     },
     "execution_count": 1,
     "metadata": {},
     "output_type": "execute_result"
    }
   ],
   "source": [
    "import numpy as np\n",
    "np.matrix([\n",
    "   [1, 2, 3],\n",
    "   [10, 20, 30]\n",
    "   ])"
   ]
  },
  {
   "cell_type": "markdown",
   "metadata": {},
   "source": [
    "<span style=\"color:orange\">Ahora con arrays:</style> "
   ]
  },
  {
   "cell_type": "code",
   "execution_count": 2,
   "metadata": {},
   "outputs": [
    {
     "data": {
      "text/plain": [
       "array([[ 1,  2,  3],\n",
       "       [10, 20, 30]])"
      ]
     },
     "execution_count": 2,
     "metadata": {},
     "output_type": "execute_result"
    }
   ],
   "source": [
    "import numpy as np\n",
    "A = np.array([[1, 2,3], [10,20,30]])\n",
    "A"
   ]
  },
  {
   "cell_type": "markdown",
   "metadata": {},
   "source": [
    "<span style=\"color:orange\"> Ejemplo: Ahora queremos generar la matriz identidad de orden 4\n",
    "</style> "
   ]
  },
  {
   "cell_type": "code",
   "execution_count": 3,
   "metadata": {},
   "outputs": [
    {
     "data": {
      "text/plain": [
       "array([[ 1.,  0.,  0.,  0.],\n",
       "       [ 0.,  1.,  0.,  0.],\n",
       "       [ 0.,  0.,  1.,  0.],\n",
       "       [ 0.,  0.,  0.,  1.]])"
      ]
     },
     "execution_count": 3,
     "metadata": {},
     "output_type": "execute_result"
    }
   ],
   "source": [
    "import numpy as np\n",
    "np.identity(4)"
   ]
  },
  {
   "cell_type": "markdown",
   "metadata": {},
   "source": [
    "<span style=\"color:orange\"> Ejemplo: Escribamos en Python la matriz de 4x3 con unos en una diagonal y ceros en el resto de elementos/style> "
   ]
  },
  {
   "cell_type": "code",
   "execution_count": 4,
   "metadata": {},
   "outputs": [
    {
     "data": {
      "text/plain": [
       "array([[ 1.,  0.,  0.],\n",
       "       [ 0.,  1.,  0.],\n",
       "       [ 0.,  0.,  1.],\n",
       "       [ 0.,  0.,  0.]])"
      ]
     },
     "execution_count": 4,
     "metadata": {},
     "output_type": "execute_result"
    }
   ],
   "source": [
    "import numpy as np\n",
    "np.eye(4, 3)"
   ]
  },
  {
   "cell_type": "markdown",
   "metadata": {},
   "source": [
    "<span style=\"color:orange\"> Con el siguiente parámetro podemos controlar qué diagonal se rellena.</style> "
   ]
  },
  {
   "cell_type": "code",
   "execution_count": 5,
   "metadata": {},
   "outputs": [
    {
     "data": {
      "text/plain": [
       "array([[ 0.,  0.,  0.],\n",
       "       [ 1.,  0.,  0.],\n",
       "       [ 0.,  1.,  0.],\n",
       "       [ 0.,  0.,  1.]])"
      ]
     },
     "execution_count": 5,
     "metadata": {},
     "output_type": "execute_result"
    }
   ],
   "source": [
    "import numpy as np\n",
    "np.eye(4, 3,k=-1)"
   ]
  },
  {
   "cell_type": "markdown",
   "metadata": {},
   "source": [
    "<span style=\"color:orange\"> Ejemplo: Ahora queremos generar la matriz cero de orden 4\n",
    "</style> "
   ]
  },
  {
   "cell_type": "code",
   "execution_count": 6,
   "metadata": {},
   "outputs": [
    {
     "data": {
      "text/plain": [
       "array([[ 0.,  0.,  0.,  0.],\n",
       "       [ 0.,  0.,  0.,  0.],\n",
       "       [ 0.,  0.,  0.,  0.],\n",
       "       [ 0.,  0.,  0.,  0.]])"
      ]
     },
     "execution_count": 6,
     "metadata": {},
     "output_type": "execute_result"
    }
   ],
   "source": [
    "import numpy as np\n",
    "A = np.zeros((4, 4))\n",
    "A"
   ]
  },
  {
   "cell_type": "markdown",
   "metadata": {},
   "source": [
    "## Suma de matrices\n",
    "\n",
    "* Se dice que dos **matrices** son **iguales** si tienen el mismo tamaño, es decir, el mismo número de filas y de columnas, y sus columnas correspondientes son iguales.  \n",
    "* Si A y B son matrices m × n, entonces la suma A + B es la matriz m × n cuyas columnas son las sumas de las columnas correspondientes de A y B. Como la suma vectorial de las columnas se realiza por entradas, cada entrada en A + B es la suma de las entradas correspondientes de A y B. \n",
    "* La suma A + B está definida sólo cuando A y B son del mismo tamaño.  \n",
    "\n",
    "<span style=\"color:orange\"> Ejemplo: Queremos sumar las matrices $\n",
    "  matriz1=\n",
    "  \\left[ {\\begin{array}{cc}\n",
    "   1 & 4 \\\\\n",
    "   2 & 0\\\\\n",
    "  \\end{array} } \\right]\n",
    "$ y $\n",
    "  matriz2=\n",
    "  \\left[ {\\begin{array}{cc}\n",
    "   -1 & 2 \\\\\n",
    "   1 & -2\\\\\n",
    "  \\end{array} } \\right]\n",
    "$.  \n",
    "Primero con Numpy:</style> "
   ]
  },
  {
   "cell_type": "code",
   "execution_count": 7,
   "metadata": {},
   "outputs": [
    {
     "data": {
      "text/plain": [
       "matrix([[ 0,  6],\n",
       "        [ 3, -2]])"
      ]
     },
     "execution_count": 7,
     "metadata": {},
     "output_type": "execute_result"
    }
   ],
   "source": [
    "import numpy as np\n",
    "\n",
    "matriz1 = np.matrix(\n",
    "    [[1, 4],\n",
    "     [2, 0]]\n",
    ")\n",
    "\n",
    "matriz2 = np.matrix(\n",
    "    [[-1, 2],\n",
    "     [1, -2]]\n",
    ")\n",
    "\n",
    "matriz1 + matriz2"
   ]
  },
  {
   "cell_type": "markdown",
   "metadata": {},
   "source": [
    "<span style=\"color:orange\"> Ahora con arrays:</style> "
   ]
  },
  {
   "cell_type": "code",
   "execution_count": 8,
   "metadata": {},
   "outputs": [
    {
     "data": {
      "text/plain": [
       "array([[ 0,  6],\n",
       "       [ 3, -2]])"
      ]
     },
     "execution_count": 8,
     "metadata": {},
     "output_type": "execute_result"
    }
   ],
   "source": [
    "import numpy as np\n",
    "\n",
    "matriz1 = np.array(\n",
    "    [[1, 4],\n",
    "     [2, 0]]\n",
    ")\n",
    "\n",
    "matriz2 = np.array(\n",
    "    [[-1, 2],\n",
    "     [1, -2]]\n",
    ")\n",
    "\n",
    "matriz1 + matriz2"
   ]
  },
  {
   "cell_type": "markdown",
   "metadata": {},
   "source": [
    "## Multiplicación de una matriz por un escalar\n",
    "\n",
    "* Si r es un escalar y A es una matriz, entonces el múltiplo escalar rA es la matriz cuyas columnas son r veces las columnas correspondientes de A. \n",
    "* Al igual que con los vectores, se de ne −A como (−1)A y se escribe A − B en lugar de A + (−1)B.\n",
    "\n",
    "<span style=\"color:orange\"> Ejemplo: Queremos multiplicar la $\n",
    "  matriz1=\n",
    "  \\left[ {\\begin{array}{cc}\n",
    "   1 & 4 \\\\\n",
    "   2 & 0\\\\\n",
    "  \\end{array} } \\right]\n",
    "$ por 2.  \n",
    "Primero con matrices:\n",
    "</style>"
   ]
  },
  {
   "cell_type": "code",
   "execution_count": 9,
   "metadata": {},
   "outputs": [
    {
     "data": {
      "text/plain": [
       "matrix([[2, 8],\n",
       "        [4, 0]])"
      ]
     },
     "execution_count": 9,
     "metadata": {},
     "output_type": "execute_result"
    }
   ],
   "source": [
    "import numpy as np\n",
    "\n",
    "matriz1 = np.matrix(\n",
    "    [[1, 4],\n",
    "     [2, 0]]\n",
    ")\n",
    "\n",
    "2*matriz1"
   ]
  },
  {
   "cell_type": "markdown",
   "metadata": {},
   "source": [
    "<span style=\"color:orange\"> Ahora con arrays:</style> "
   ]
  },
  {
   "cell_type": "code",
   "execution_count": 10,
   "metadata": {},
   "outputs": [
    {
     "data": {
      "text/plain": [
       "array([[2, 8],\n",
       "       [4, 0]])"
      ]
     },
     "execution_count": 10,
     "metadata": {},
     "output_type": "execute_result"
    }
   ],
   "source": [
    "import numpy as np\n",
    "\n",
    "matriz1 = np.array(\n",
    "    [[1, 4],\n",
    "     [2, 0]]\n",
    ")\n",
    "\n",
    "2*matriz1"
   ]
  },
  {
   "cell_type": "markdown",
   "metadata": {},
   "source": [
    "## Multiplicación matricial\n",
    "\n",
    "Si A es una matriz m × n, y si B es una matriz n × p con columnas b<sub>1</sub>, ... , b<sub>p</sub>, entonces el **producto** AB es la matriz m × p cuyas columnas son Ab<sub>1</sub>, ... , Ab<sub>p</sub>.\n",
    "Esto es,\n",
    "> AB = A [ b<sub>1</sub> b<sub>2</sub> ... b<sub>p</sub> ] = [ Ab<sub>1</sub> Ab<sub>2</sub> ... Ab<sub>p</sub> ]  \n",
    "Más explícitamente:\n",
    "A*B= $\n",
    "  \\left[ {\\begin{array}{cc}\n",
    "   a_{11} & a_{12}  & ... & a_{1n}  \\\\\n",
    "   a_{21} & a_{22}  & ... & a_{2n}  \\\\\n",
    "   ... & ...  & ... & ...  \\\\\n",
    "   a_{m1} & a_{m2}  & ... & a_{mn}  \\\\\n",
    "  \\end{array} } \\right]\n",
    "$ * $\n",
    "  \\left[ {\\begin{array}{cc}\n",
    "   b_{11} & b_{12}  & ... & b_{1p}  \\\\\n",
    "   b_{21} & b_{22}  & ... & b_{2p}  \\\\\n",
    "   ... & ...  & ... & ...  \\\\\n",
    "   b_{n1} & b_{n2}  & ... & b_{np}  \\\\\n",
    "  \\end{array} } \\right]\n",
    "$ = $\n",
    "  \\left[ {\\begin{array}{cc}\n",
    "   a_{11}\\cdot b_{11}+ a_{12}\\cdot b_{21} + ... + a_{1n}\\cdot b_{n1}& a_{11}\\cdot b_{12}+ a_{12}\\cdot b_{22} + ... + a_{1n}\\cdot b_{n2}  & ... & a_{11}\\cdot b_{1p}+ a_{12}\\cdot b_{2p} + ... + a_{1n}\\cdot b_{np}  \\\\\n",
    "   a_{21}\\cdot b_{11}+ a_{22}\\cdot b_{21} + ... + a_{2n}\\cdot b_{n1}& a_{21}\\cdot b_{12}+ a_{22}\\cdot b_{22} + ... + a_{2n}\\cdot b_{n2}  & ... & a_{21}\\cdot b_{1p}+ a_{22}\\cdot b_{2p} + ... + a_{2n}\\cdot b_{np}  \\\\\n",
    "   ... & ...  & ... & ...  \\\\\n",
    "      a_{m1}\\cdot b_{11}+ a_{m2}\\cdot b_{21} + ... + a_{mn}\\cdot b_{n1}& a_{m1}\\cdot b_{12}+ a_{m2}\\cdot b_{22} + ... + a_{mn}\\cdot b_{n2}  & ... & a_{m1}\\cdot b_{1p}+ a_{m2}\\cdot b_{2p} + ... + a_{mn}\\cdot b_{np}  \\\\\n",
    "  \\end{array} } \\right]\n",
    "$  \n",
    "\n",
    "<span style=\"color:orange\"> Ejemplo: Queremos multiplicar las matrices $\n",
    "  matriz1=\n",
    "  \\left[ {\\begin{array}{cc}\n",
    "   1 & 4 \\\\\n",
    "   2 & 0\\\\\n",
    "  \\end{array} } \\right]\n",
    "$ y $\n",
    "  matriz2=\n",
    "  \\left[ {\\begin{array}{cc}\n",
    "   -1 & 2 \\\\\n",
    "   1 & -2\\\\\n",
    "  \\end{array} } \\right]\n",
    "$.  \n",
    "Primero con matrices:</style> "
   ]
  },
  {
   "cell_type": "code",
   "execution_count": 11,
   "metadata": {},
   "outputs": [
    {
     "data": {
      "text/plain": [
       "matrix([[ 3, -6],\n",
       "        [-2,  4]])"
      ]
     },
     "execution_count": 11,
     "metadata": {},
     "output_type": "execute_result"
    }
   ],
   "source": [
    "import numpy as np\n",
    "\n",
    "matriz1 = np.matrix(\n",
    "    [[1, 4],\n",
    "     [2, 0]]\n",
    ")\n",
    "\n",
    "matriz2 = np.matrix(\n",
    "    [[-1, 2],\n",
    "     [1, -2]]\n",
    ")\n",
    "\n",
    "matriz1 * matriz2"
   ]
  },
  {
   "cell_type": "markdown",
   "metadata": {},
   "source": [
    "<span style=\"color:orange\"> Ahora con arrays:</style> "
   ]
  },
  {
   "cell_type": "code",
   "execution_count": 12,
   "metadata": {},
   "outputs": [
    {
     "data": {
      "text/plain": [
       "array([[-1,  8],\n",
       "       [ 2,  0]])"
      ]
     },
     "execution_count": 12,
     "metadata": {},
     "output_type": "execute_result"
    }
   ],
   "source": [
    "import numpy as np\n",
    "\n",
    "matriz1 = np.array(\n",
    "    [[1, 4],\n",
    "     [2, 0]]\n",
    ")\n",
    "\n",
    "matriz2 = np.array(\n",
    "    [[-1, 2],\n",
    "     [1, -2]]\n",
    ")\n",
    "\n",
    "matriz1 * matriz2"
   ]
  },
  {
   "cell_type": "markdown",
   "metadata": {},
   "source": [
    "<span style=\"color:orange\"> Si nos fijamos, no coincide con el anterior resultado. Aquí una diferencia entre trabajar con arrays y con matrices.  \n",
    "El asterisco con arrays es multiplicación elemento aelemento. Si lo que queremos, como es el caso, es hacer la multiplicación matrical, tenemos que usar dot:</style> "
   ]
  },
  {
   "cell_type": "code",
   "execution_count": 13,
   "metadata": {},
   "outputs": [
    {
     "data": {
      "text/plain": [
       "array([[ 3, -6],\n",
       "       [-2,  4]])"
      ]
     },
     "execution_count": 13,
     "metadata": {},
     "output_type": "execute_result"
    }
   ],
   "source": [
    "import numpy as np\n",
    "\n",
    "matriz1 = np.array(\n",
    "    [[1, 4],\n",
    "     [2, 0]]\n",
    ")\n",
    "\n",
    "matriz2 = np.array(\n",
    "    [[-1, 2],\n",
    "     [1, -2]]\n",
    ")\n",
    "\n",
    "np.dot(matriz1,matriz2)"
   ]
  },
  {
   "cell_type": "markdown",
   "metadata": {},
   "source": [
    "#### Advertencias\n",
    "\n",
    "* En general, AB ≠ BA.  \n",
    "\n",
    "<span style=\"color:orange\"> Ejemplo: Dadas las matrices $\n",
    "  A=\n",
    "  \\left[ {\\begin{array}{cc}\n",
    "   5 & 1 \\\\\n",
    "   3 & -2\\\\\n",
    "  \\end{array} } \\right]\n",
    "$ y $\n",
    "  B=\n",
    "  \\left[ {\\begin{array}{cc}\n",
    "   2 & 0 \\\\\n",
    "   4 & 3\\\\\n",
    "  \\end{array} } \\right]\n",
    "$, queremos calcular AB y BA.</style> "
   ]
  },
  {
   "cell_type": "code",
   "execution_count": 14,
   "metadata": {},
   "outputs": [
    {
     "data": {
      "text/plain": [
       "matrix([[14,  3],\n",
       "        [-2, -6]])"
      ]
     },
     "execution_count": 14,
     "metadata": {},
     "output_type": "execute_result"
    }
   ],
   "source": [
    "import numpy as np\n",
    "\n",
    "matriz1 = np.matrix(\n",
    "    [[5, 1],\n",
    "     [3, -2]]\n",
    ")\n",
    "\n",
    "matriz2 = np.matrix(\n",
    "    [[2, 0],\n",
    "     [4, 3]]\n",
    ")\n",
    "\n",
    "matriz1 * matriz2"
   ]
  },
  {
   "cell_type": "code",
   "execution_count": 15,
   "metadata": {},
   "outputs": [
    {
     "data": {
      "text/plain": [
       "matrix([[10,  2],\n",
       "        [29, -2]])"
      ]
     },
     "execution_count": 15,
     "metadata": {},
     "output_type": "execute_result"
    }
   ],
   "source": [
    "import numpy as np\n",
    "\n",
    "matriz1 = np.matrix(\n",
    "    [[5, 1],\n",
    "     [3, -2]]\n",
    ")\n",
    "\n",
    "matriz2 = np.matrix(\n",
    "    [[2, 0],\n",
    "     [4, 3]]\n",
    ")\n",
    "\n",
    "matriz2 * matriz1"
   ]
  },
  {
   "cell_type": "markdown",
   "metadata": {},
   "source": [
    "* Si AB = AC, en general no es cierto que B = C.  \n",
    "\n",
    "<span style=\"color:blue\"> Ejercicio 5:  \n",
    "Dadas las matrices $\n",
    "  A=\n",
    "  \\left[ {\\begin{array}{cc}\n",
    "   2 & -3 \\\\\n",
    "   -4 & 6\\\\\n",
    "  \\end{array} } \\right]\n",
    "$ , $\n",
    "  B=\n",
    "  \\left[ {\\begin{array}{cc}\n",
    "   8 & 4 \\\\\n",
    "   5 & 5\\\\\n",
    "  \\end{array} } \\right]\n",
    "$\n",
    "y $\n",
    "  C=\n",
    "  \\left[ {\\begin{array}{cc}\n",
    "   5 & -2 \\\\\n",
    "   3 & 1\\\\\n",
    "  \\end{array} } \\right]\n",
    "$, queremos verificar que AB=AC pero que B≠C.</style> "
   ]
  },
  {
   "cell_type": "code",
   "execution_count": null,
   "metadata": {},
   "outputs": [],
   "source": []
  },
  {
   "cell_type": "code",
   "execution_count": null,
   "metadata": {},
   "outputs": [],
   "source": []
  },
  {
   "cell_type": "markdown",
   "metadata": {},
   "source": [
    "<span style=\"color:blue\"> Ejercicio 6 :  \n",
    "Dadas la matriz $\n",
    "  A=\n",
    "  \\left[ {\\begin{array}{cc}\n",
    "   3 & -6 \\\\\n",
    "   -1 & 2\\\\\n",
    "  \\end{array} } \\right]\n",
    "$ , construye una matriz B de 2 × 2 tal que AB sea igual a la matriz cero. Las columnas de B no deben ser iguales entre sí y deben ser distintas de cero.\n",
    ".</style> "
   ]
  },
  {
   "cell_type": "markdown",
   "metadata": {},
   "source": []
  },
  {
   "cell_type": "markdown",
   "metadata": {},
   "source": [
    "## Traspuesta de una matriz\n",
    "\n",
    "Dada una matriz A de m × n, la transpuesta de A es la matriz n × m, denotada mediante A<sup>T</sup>, cuyas columnas se forman a partir de las filas correspondientes de A.\n",
    "\n",
    "<span style=\"color:orange\"> Ejemplo: Dada la matriz $\n",
    "  A=\n",
    "  \\left[ {\\begin{array}{cc}\n",
    "   5 & 1 & 7\\\\\n",
    "   3 & -2 & 5\\\\\n",
    "  \\end{array} } \\right]\n",
    "$ , su matriz traspuesta es $\n",
    "  A^T=\n",
    "  \\left[ {\\begin{array}{cc}\n",
    "   5 & 3 \\\\\n",
    "   1 & -2\\\\\n",
    "   7 & 5\\\\\n",
    "  \\end{array} } \\right]\n",
    "$.  \n",
    "¿Cómo lo haríamos en Python?  \n",
    "Primero con matrices:</style> "
   ]
  },
  {
   "cell_type": "code",
   "execution_count": 18,
   "metadata": {},
   "outputs": [
    {
     "data": {
      "text/plain": [
       "matrix([[ 5,  3],\n",
       "        [ 1, -2],\n",
       "        [ 7,  5]])"
      ]
     },
     "execution_count": 18,
     "metadata": {},
     "output_type": "execute_result"
    }
   ],
   "source": [
    "import numpy as np\n",
    "A=np.matrix([\n",
    "   [5,1,7],\n",
    "   [3,-2,5]\n",
    "   ])\n",
    "AT=np.transpose(A)\n",
    "AT"
   ]
  },
  {
   "cell_type": "markdown",
   "metadata": {},
   "source": [
    "<span style=\"color:orange\"> Ahora con arrays:</style> "
   ]
  },
  {
   "cell_type": "code",
   "execution_count": 19,
   "metadata": {},
   "outputs": [
    {
     "data": {
      "text/plain": [
       "array([[ 5,  3],\n",
       "       [ 1, -2],\n",
       "       [ 7,  5]])"
      ]
     },
     "execution_count": 19,
     "metadata": {},
     "output_type": "execute_result"
    }
   ],
   "source": [
    "import numpy as np\n",
    "A=np.array([\n",
    "   [5,1,7],\n",
    "   [3,-2,5]\n",
    "   ])\n",
    "AT=np.transpose(A)\n",
    "AT"
   ]
  },
  {
   "cell_type": "markdown",
   "metadata": {},
   "source": [
    "## Matriz inversa (usando Gauss)\n",
    "\n",
    "Al igual que el inverso de 5 es $\\frac{1}{5}$ = 5<sup>-1</sup>, dada la matriz A, no puedo calcular $\\frac{1}{A}$, pero sí A<sup>-1</sup>.  \n",
    "La manera usual de calcular la matriz inversa, sobre todo si no es demasiado grande, es mediante determinantes (lo veremos posteriormente), pero hay otro modo general de calcular la matriz inversa, que es con el método de Gauss:  \n",
    "* Dada una matriz A, considero la matriz (A|I)\n",
    "* Mediante una serie de transformaciones tengo que conseguir transformarla en (I|B)\n",
    "* B=A<sup>-1</sup>  \n",
    "\n",
    "<span style=\"color:orange\"> Ejemplo: Vamos a encontrar la inversa de  $\n",
    "  A=\n",
    "  \\left[ {\\begin{array}{cc}\n",
    "   0 & 1 & 2\\\\\n",
    "   1 & 0 & 3\\\\\n",
    "   4 & -3 & 8\\\\\n",
    "  \\end{array} } \\right]\n",
    "$  usando el método de Gauss</style> "
   ]
  },
  {
   "cell_type": "code",
   "execution_count": 20,
   "metadata": {},
   "outputs": [
    {
     "data": {
      "text/plain": [
       "array([[ 0,  1,  2,  1,  0,  0],\n",
       "       [ 1,  0,  3,  0,  1,  0],\n",
       "       [ 4, -3,  8,  0,  0,  1]])"
      ]
     },
     "execution_count": 20,
     "metadata": {},
     "output_type": "execute_result"
    }
   ],
   "source": [
    "import numpy as np\n",
    "A_I=np.array([\n",
    "   [0,1,2,1,0,0],\n",
    "   [1,0,3,0,1,0],\n",
    "   [4,-3,8,0,0,1]\n",
    "   ])\n",
    "A_I"
   ]
  },
  {
   "cell_type": "markdown",
   "metadata": {},
   "source": [
    "<span style=\"color:orange\"> Lo primero que hacemos es intercambiar la segunda fila con la primera fla</style> "
   ]
  },
  {
   "cell_type": "code",
   "execution_count": 21,
   "metadata": {},
   "outputs": [
    {
     "data": {
      "text/plain": [
       "(array([1, 0, 3, 0, 1, 0]),\n",
       " array([0, 1, 2, 1, 0, 0]),\n",
       " array([ 4, -3,  8,  0,  0,  1]))"
      ]
     },
     "execution_count": 21,
     "metadata": {},
     "output_type": "execute_result"
    }
   ],
   "source": [
    "A_I_paso1=(\n",
    "    A_I[1],A_I[0],A_I[2])\n",
    "A_I_paso1"
   ]
  },
  {
   "cell_type": "markdown",
   "metadata": {},
   "source": [
    "<span style=\"color:orange\"> Se ha convertido en un array de arrays, pero nosotros queremos un único array.  \n",
    "Veamos cómo hacerlo.</style> "
   ]
  },
  {
   "cell_type": "code",
   "execution_count": 22,
   "metadata": {},
   "outputs": [
    {
     "data": {
      "text/plain": [
       "array([[1, 0, 3, 0, 1, 0],\n",
       "       [0, 1, 2, 1, 0, 0]])"
      ]
     },
     "execution_count": 22,
     "metadata": {},
     "output_type": "execute_result"
    }
   ],
   "source": [
    "A_I_paso1=np.append([A_I[1]],[A_I[0]],0)\n",
    "A_I_paso1"
   ]
  },
  {
   "cell_type": "code",
   "execution_count": 23,
   "metadata": {},
   "outputs": [
    {
     "data": {
      "text/plain": [
       "array([[ 1,  0,  3,  0,  1,  0],\n",
       "       [ 0,  1,  2,  1,  0,  0],\n",
       "       [ 4, -3,  8,  0,  0,  1]])"
      ]
     },
     "execution_count": 23,
     "metadata": {},
     "output_type": "execute_result"
    }
   ],
   "source": [
    "A_I_paso1=np.vstack([A_I_paso1,[A_I[2]]])\n",
    "A_I_paso1"
   ]
  },
  {
   "cell_type": "markdown",
   "metadata": {},
   "source": [
    "<span style=\"color:orange\"> Queremos hacer 0 el elemento de la posición 31 (20 para Python).</style> "
   ]
  },
  {
   "cell_type": "code",
   "execution_count": 24,
   "metadata": {},
   "outputs": [
    {
     "data": {
      "text/plain": [
       "array([[1, 0, 3, 0, 1, 0],\n",
       "       [0, 1, 2, 1, 0, 0]])"
      ]
     },
     "execution_count": 24,
     "metadata": {},
     "output_type": "execute_result"
    }
   ],
   "source": [
    "A_I_paso2=np.append([A_I_paso1[0]],[A_I_paso1[1]],0)\n",
    "A_I_paso2"
   ]
  },
  {
   "cell_type": "code",
   "execution_count": 25,
   "metadata": {},
   "outputs": [
    {
     "data": {
      "text/plain": [
       "array([[ 1,  0,  3,  0,  1,  0],\n",
       "       [ 0,  1,  2,  1,  0,  0],\n",
       "       [ 0, -3, -4,  0, -4,  1]])"
      ]
     },
     "execution_count": 25,
     "metadata": {},
     "output_type": "execute_result"
    }
   ],
   "source": [
    "A_I_paso2=np.vstack([A_I_paso2,[A_I_paso1[2]-4*A_I_paso1[0]]])\n",
    "A_I_paso2"
   ]
  },
  {
   "cell_type": "markdown",
   "metadata": {},
   "source": [
    "<span style=\"color:orange\"> Queremos hacer 0 el elemento de la posición 32 (21 para Python).</style> "
   ]
  },
  {
   "cell_type": "code",
   "execution_count": 26,
   "metadata": {},
   "outputs": [
    {
     "data": {
      "text/plain": [
       "array([[1, 0, 3, 0, 1, 0],\n",
       "       [0, 1, 2, 1, 0, 0]])"
      ]
     },
     "execution_count": 26,
     "metadata": {},
     "output_type": "execute_result"
    }
   ],
   "source": [
    "A_I_paso3=np.append([A_I_paso2[0]],[A_I_paso2[1]],0)\n",
    "A_I_paso3"
   ]
  },
  {
   "cell_type": "code",
   "execution_count": 27,
   "metadata": {},
   "outputs": [
    {
     "data": {
      "text/plain": [
       "array([[ 1,  0,  3,  0,  1,  0],\n",
       "       [ 0,  1,  2,  1,  0,  0],\n",
       "       [ 0,  0,  2,  3, -4,  1]])"
      ]
     },
     "execution_count": 27,
     "metadata": {},
     "output_type": "execute_result"
    }
   ],
   "source": [
    "A_I_paso3=np.vstack([A_I_paso3,[A_I_paso2[2]+3*A_I_paso2[1]]])\n",
    "A_I_paso3"
   ]
  },
  {
   "cell_type": "markdown",
   "metadata": {},
   "source": [
    "<span style=\"color:orange\"> Queremos hacer 0 el elemento de la posición 13 (02 para Python).</style> "
   ]
  },
  {
   "cell_type": "code",
   "execution_count": 28,
   "metadata": {},
   "outputs": [
    {
     "data": {
      "text/plain": [
       "array([[ 1. ,  0. ,  0. , -4.5,  7. , -1.5]])"
      ]
     },
     "execution_count": 28,
     "metadata": {},
     "output_type": "execute_result"
    }
   ],
   "source": [
    "A_I_paso4=np.array([A_I_paso3[0]-(3/2)*A_I_paso3[2]])\n",
    "A_I_paso4"
   ]
  },
  {
   "cell_type": "code",
   "execution_count": 29,
   "metadata": {},
   "outputs": [
    {
     "data": {
      "text/plain": [
       "array([[ 1. ,  0. ,  0. , -4.5,  7. , -1.5],\n",
       "       [ 0. ,  1. ,  2. ,  1. ,  0. ,  0. ]])"
      ]
     },
     "execution_count": 29,
     "metadata": {},
     "output_type": "execute_result"
    }
   ],
   "source": [
    "A_I_paso4=np.vstack([A_I_paso4,[A_I_paso3[1]]])\n",
    "A_I_paso4"
   ]
  },
  {
   "cell_type": "code",
   "execution_count": 30,
   "metadata": {},
   "outputs": [
    {
     "data": {
      "text/plain": [
       "array([[ 1. ,  0. ,  0. , -4.5,  7. , -1.5],\n",
       "       [ 0. ,  1. ,  2. ,  1. ,  0. ,  0. ],\n",
       "       [ 0. ,  0. ,  2. ,  3. , -4. ,  1. ]])"
      ]
     },
     "execution_count": 30,
     "metadata": {},
     "output_type": "execute_result"
    }
   ],
   "source": [
    "A_I_paso4=np.vstack([A_I_paso4,[A_I_paso3[2]]])\n",
    "A_I_paso4"
   ]
  },
  {
   "cell_type": "markdown",
   "metadata": {},
   "source": [
    "<span style=\"color:orange\"> Queremos hacer 0 el elemento de la posición 23 (02 para Python).</style> "
   ]
  },
  {
   "cell_type": "code",
   "execution_count": 31,
   "metadata": {},
   "outputs": [
    {
     "data": {
      "text/plain": [
       "array([[ 1. ,  0. ,  0. , -4.5,  7. , -1.5],\n",
       "       [ 0. ,  1. ,  0. , -2. ,  4. , -1. ]])"
      ]
     },
     "execution_count": 31,
     "metadata": {},
     "output_type": "execute_result"
    }
   ],
   "source": [
    "A_I_paso5=np.append([A_I_paso4[0]],[A_I_paso4[1]-A_I_paso4[2]],0)\n",
    "A_I_paso5"
   ]
  },
  {
   "cell_type": "code",
   "execution_count": 32,
   "metadata": {},
   "outputs": [
    {
     "data": {
      "text/plain": [
       "array([[ 1. ,  0. ,  0. , -4.5,  7. , -1.5],\n",
       "       [ 0. ,  1. ,  0. , -2. ,  4. , -1. ],\n",
       "       [ 0. ,  0. ,  2. ,  3. , -4. ,  1. ]])"
      ]
     },
     "execution_count": 32,
     "metadata": {},
     "output_type": "execute_result"
    }
   ],
   "source": [
    "A_I_paso5=np.vstack([A_I_paso5,[A_I_paso4[2]]])\n",
    "A_I_paso5"
   ]
  },
  {
   "cell_type": "markdown",
   "metadata": {},
   "source": [
    "<span style=\"color:orange\"> Queremos hacer 0 el elemento de la posición 33 (02 para Python).</style> "
   ]
  },
  {
   "cell_type": "code",
   "execution_count": 33,
   "metadata": {},
   "outputs": [
    {
     "data": {
      "text/plain": [
       "array([[ 1. ,  0. ,  0. , -4.5,  7. , -1.5],\n",
       "       [ 0. ,  1. ,  0. , -2. ,  4. , -1. ]])"
      ]
     },
     "execution_count": 33,
     "metadata": {},
     "output_type": "execute_result"
    }
   ],
   "source": [
    "A_I_paso6=np.append([A_I_paso5[0]],[A_I_paso5[1]],0)\n",
    "A_I_paso6"
   ]
  },
  {
   "cell_type": "code",
   "execution_count": 34,
   "metadata": {},
   "outputs": [
    {
     "data": {
      "text/plain": [
       "array([[ 1. ,  0. ,  0. , -4.5,  7. , -1.5],\n",
       "       [ 0. ,  1. ,  0. , -2. ,  4. , -1. ],\n",
       "       [ 0. ,  0. ,  1. ,  1.5, -2. ,  0.5]])"
      ]
     },
     "execution_count": 34,
     "metadata": {},
     "output_type": "execute_result"
    }
   ],
   "source": [
    "A_I_paso6=np.vstack([A_I_paso6,[(1/2)*A_I_paso5[2]]])\n",
    "A_I_paso6"
   ]
  },
  {
   "cell_type": "markdown",
   "metadata": {},
   "source": [
    "<span style=\"color:orange\"> Luego la matriz inversa queda:</style> "
   ]
  },
  {
   "cell_type": "code",
   "execution_count": 35,
   "metadata": {},
   "outputs": [
    {
     "data": {
      "text/plain": [
       "array([[-4.5,  7. , -1.5],\n",
       "       [-2. ,  4. , -1. ],\n",
       "       [ 1.5, -2. ,  0.5]])"
      ]
     },
     "execution_count": 35,
     "metadata": {},
     "output_type": "execute_result"
    }
   ],
   "source": [
    "inv_A=np.transpose(np.vstack([A_I_paso6[:,3],A_I_paso6[:,4],A_I_paso6[:,5]]))\n",
    "inv_A"
   ]
  },
  {
   "cell_type": "markdown",
   "metadata": {},
   "source": [
    "<span style=\"color:orange\"> Sorpresa! Se puede hacer directamente:</style> \n",
    "    \n",
    "![No se puede mostrar](Images/giphy-9-6.gif)    "
   ]
  },
  {
   "cell_type": "code",
   "execution_count": 36,
   "metadata": {},
   "outputs": [
    {
     "data": {
      "text/plain": [
       "matrix([[-4.5,  7. , -1.5],\n",
       "        [-2. ,  4. , -1. ],\n",
       "        [ 1.5, -2. ,  0.5]])"
      ]
     },
     "execution_count": 36,
     "metadata": {},
     "output_type": "execute_result"
    }
   ],
   "source": [
    "import numpy as np\n",
    "A=np.matrix([\n",
    "   [0,1,2],\n",
    "   [1,0,3],\n",
    "   [4,-3,8]\n",
    "   ])\n",
    "\n",
    "inv_A = np.linalg.inv(A)\n",
    "inv_A"
   ]
  },
  {
   "cell_type": "code",
   "execution_count": 37,
   "metadata": {},
   "outputs": [
    {
     "data": {
      "text/plain": [
       "array([[-4.5,  7. , -1.5],\n",
       "       [-2. ,  4. , -1. ],\n",
       "       [ 1.5, -2. ,  0.5]])"
      ]
     },
     "execution_count": 37,
     "metadata": {},
     "output_type": "execute_result"
    }
   ],
   "source": [
    "import numpy as np\n",
    "A=np.array([\n",
    "   [0,1,2],\n",
    "   [1,0,3],\n",
    "   [4,-3,8]\n",
    "   ])\n",
    "\n",
    "inv_A = np.linalg.inv(A)\n",
    "inv_A"
   ]
  },
  {
   "cell_type": "markdown",
   "metadata": {},
   "source": [
    "## Rango de una matriz\n",
    "\n",
    "El rango de una matriz se define como el número de vectores linealmente independientes que la componen.  \n",
    "Siempre va a ser menor o igual que el menor de las cantidades número_filas y número_columnas.  \n",
    "\n",
    "<span style=\"color:orange\"> Ejemplo: Vamos a calcular el rango de  $\n",
    "  A=\n",
    "  \\left[ {\\begin{array}{cc}\n",
    "   2 & 5 & -3 & -4 & 8\\\\\n",
    "   4 & 7 & -4 & -3 & 9\\\\\n",
    "   6 & 9 & -5 & 2 & 4\\\\\n",
    "   0 & -9 & 6 & 5 & -6\\\\\n",
    "  \\end{array} } \\right]\n",
    "$  </style> \n"
   ]
  },
  {
   "cell_type": "code",
   "execution_count": 38,
   "metadata": {},
   "outputs": [
    {
     "data": {
      "text/plain": [
       "matrix([[ 2,  5, -3, -4,  8],\n",
       "        [ 4,  7, -4, -3,  9],\n",
       "        [ 6,  9, -5,  2,  4],\n",
       "        [60, -9,  6,  5, -6]])"
      ]
     },
     "execution_count": 38,
     "metadata": {},
     "output_type": "execute_result"
    }
   ],
   "source": [
    "import numpy as np\n",
    "A=np.matrix([\n",
    "   [2,5,-3,-4,8],\n",
    "   [4,7,-4,-3,9],\n",
    "   [6,9,-5,2,4],\n",
    "   [60,-9,6,5,-6]\n",
    "   ])\n",
    "A"
   ]
  },
  {
   "cell_type": "markdown",
   "metadata": {},
   "source": [
    "<span style=\"color:orange\"> Queremos hacer 0 los elementos de la primera columna salvo el de la primera fila.</style> "
   ]
  },
  {
   "cell_type": "code",
   "execution_count": 39,
   "metadata": {},
   "outputs": [
    {
     "data": {
      "text/plain": [
       "matrix([[ 2,  5, -3, -4,  8],\n",
       "        [ 0, -3,  2,  5, -7]])"
      ]
     },
     "execution_count": 39,
     "metadata": {},
     "output_type": "execute_result"
    }
   ],
   "source": [
    "A_paso1=np.vstack([A[0],A[1]-2*A[0]])\n",
    "A_paso1"
   ]
  },
  {
   "cell_type": "code",
   "execution_count": 40,
   "metadata": {},
   "outputs": [
    {
     "data": {
      "text/plain": [
       "matrix([[  2,   5,  -3,  -4,   8],\n",
       "        [  0,  -3,   2,   5,  -7],\n",
       "        [  0,  -6,   4,  14, -20]])"
      ]
     },
     "execution_count": 40,
     "metadata": {},
     "output_type": "execute_result"
    }
   ],
   "source": [
    "A_paso1=np.vstack([A_paso1,A[2]-3*A[0]])\n",
    "A_paso1"
   ]
  },
  {
   "cell_type": "code",
   "execution_count": 41,
   "metadata": {},
   "outputs": [
    {
     "data": {
      "text/plain": [
       "matrix([[  2,   5,  -3,  -4,   8],\n",
       "        [  0,  -3,   2,   5,  -7],\n",
       "        [  0,  -6,   4,  14, -20],\n",
       "        [  0, -99,  56, -15, -46]])"
      ]
     },
     "execution_count": 41,
     "metadata": {},
     "output_type": "execute_result"
    }
   ],
   "source": [
    "A_paso1=np.vstack([A_paso1,A[3]-10*A[2]])\n",
    "A_paso1"
   ]
  },
  {
   "cell_type": "markdown",
   "metadata": {},
   "source": [
    "<span style=\"color:orange\"> Queremos hacer 0 los elementos de la segunda columna exceptuando las dos primeras filas.</style>"
   ]
  },
  {
   "cell_type": "code",
   "execution_count": 42,
   "metadata": {},
   "outputs": [
    {
     "data": {
      "text/plain": [
       "matrix([[ 2,  5, -3, -4,  8],\n",
       "        [ 0, -3,  2,  5, -7]])"
      ]
     },
     "execution_count": 42,
     "metadata": {},
     "output_type": "execute_result"
    }
   ],
   "source": [
    "A_paso2=np.vstack([A_paso1[0],A_paso1[1]])\n",
    "A_paso2"
   ]
  },
  {
   "cell_type": "code",
   "execution_count": 43,
   "metadata": {},
   "outputs": [
    {
     "data": {
      "text/plain": [
       "matrix([[ 2,  5, -3, -4,  8],\n",
       "        [ 0, -3,  2,  5, -7],\n",
       "        [ 0,  0,  0,  4, -6]])"
      ]
     },
     "execution_count": 43,
     "metadata": {},
     "output_type": "execute_result"
    }
   ],
   "source": [
    "A_paso2=np.vstack([A_paso2,A_paso1[2]-2*A_paso1[1]])\n",
    "A_paso2"
   ]
  },
  {
   "cell_type": "code",
   "execution_count": 44,
   "metadata": {},
   "outputs": [
    {
     "data": {
      "text/plain": [
       "matrix([[   2,    5,   -3,   -4,    8],\n",
       "        [   0,   -3,    2,    5,   -7],\n",
       "        [   0,    0,    0,    4,   -6],\n",
       "        [   0,    0,  -10, -180,  185]])"
      ]
     },
     "execution_count": 44,
     "metadata": {},
     "output_type": "execute_result"
    }
   ],
   "source": [
    "A_paso2=np.vstack([A_paso2,A_paso1[3]-33*A_paso1[1]])\n",
    "A_paso2"
   ]
  },
  {
   "cell_type": "markdown",
   "metadata": {},
   "source": [
    "<span style=\"color:orange\"> Queremos hacer 0 el elemento 43.  \n",
    "Si intercambio la fila 3 con la 4 ya lo tendría:</style>"
   ]
  },
  {
   "cell_type": "code",
   "execution_count": 45,
   "metadata": {},
   "outputs": [
    {
     "data": {
      "text/plain": [
       "matrix([[   2,    5,   -3,   -4,    8],\n",
       "        [   0,   -3,    2,    5,   -7],\n",
       "        [   0,    0,  -10, -180,  185],\n",
       "        [   0,    0,    0,    4,   -6]])"
      ]
     },
     "execution_count": 45,
     "metadata": {},
     "output_type": "execute_result"
    }
   ],
   "source": [
    "A_paso3=np.vstack([A_paso2[0],A_paso2[1]])\n",
    "A_paso3=np.vstack([A_paso3,A_paso2[3]])\n",
    "A_paso3=np.vstack([A_paso3,A_paso2[2]])\n",
    "A_paso3"
   ]
  },
  {
   "cell_type": "markdown",
   "metadata": {},
   "source": [
    "<span style=\"color:orange\"> Luego RangoA=4.  \n",
    "¿Alguna manera directa desde Python?</style>"
   ]
  },
  {
   "cell_type": "code",
   "execution_count": 46,
   "metadata": {},
   "outputs": [
    {
     "data": {
      "text/plain": [
       "4"
      ]
     },
     "execution_count": 46,
     "metadata": {},
     "output_type": "execute_result"
    }
   ],
   "source": [
    "import numpy as np\n",
    "A=np.matrix([\n",
    "   [2,5,-3,-4,8],\n",
    "   [4,7,-4,-3,9],\n",
    "   [6,9,-5,2,4],\n",
    "   [60,-9,6,5,-6]\n",
    "   ])\n",
    "np.linalg.matrix_rank(A)"
   ]
  }
 ],
 "metadata": {
  "kernelspec": {
   "display_name": "Python 2",
   "language": "python",
   "name": "python2"
  },
  "language_info": {
   "codemirror_mode": {
    "name": "ipython",
    "version": 2
   },
   "file_extension": ".py",
   "mimetype": "text/x-python",
   "name": "python",
   "nbconvert_exporter": "python",
   "pygments_lexer": "ipython2",
   "version": "2.7.14"
  }
 },
 "nbformat": 4,
 "nbformat_minor": 2
}
