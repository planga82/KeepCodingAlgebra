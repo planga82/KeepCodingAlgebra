{
 "cells": [
  {
   "cell_type": "markdown",
   "metadata": {},
   "source": [
    "# 12. Inner product o producto interno"
   ]
  },
  {
   "cell_type": "markdown",
   "metadata": {},
   "source": [
    "<span style=\"color:orange\"> Ejemplo:  Casa en llamas. \n",
    "\n",
    "![No se puede mostrar](Images/Casa en llamas.png)\n",
    "\n",
    "Hay una casa en llamas ubicada en las coordenadas [2, 4].  \n",
    "Hay una calle cerca de la casa, que empieza en [0,0] y acaba en [6, 2].   \n",
    "El camión de bomberos tiene una manguera de 3.5 unidades de largo.  \n",
    "¿Será lo suficientemente larga para llegar hasta la casa?  \n",
    "Si podemos colocar el camión de bomberos en el punto más cercano a la casa, ¿será la distancia  lo suficientemente pequeña como para salvar la casa?  \n",
    "Nos enfrentamos a dos preguntas: </style> \n",
    "* <span style=\"color:orange\">¿Qué punto a lo largo de la calle está más cerca de la casa?</style>  \n",
    "* <span style=\"color:orange\">¿A qué distancia estaría de la casa?</style>  \n",
    "\n",
    "Definimos la **distancia** entre dos vectores **u** y **v** como la longitud de la diferencia **u** - **v**.  \n",
    "\n",
    "Esto significa que debemos definir la longitud de un vector.\n",
    "En lugar de usar el término \"longitud\" para vectores, generalmente usamos el término **norma**. La norma de un vector v se denota por $\\|v\\|$.  \n",
    "\n",
    "![No se puede mostrar](Images/4-sel-metodos-iterativos-17-638.jpg).  \n",
    "\n",
    "La norma de un vector cumple las siguientes propiedades:  \n",
    "* $\\|v\\|$ es un número real no negativo.  \n",
    "* $\\|v\\|$ = 0 $\\leftrightarrow$ **v**=0.   \n",
    "* Para cualquier escalar $\\alpha$, $\\|\\alpha\\cdot v\\|$ = $| \\alpha | \\cdot$ $\\|v\\|$.  \n",
    "* $\\|u+v\\|$ ≤ $\\|u\\|$ + $\\|v\\|$.  \n",
    "\n",
    "Una forma de definir la norma del vector es definir una operación en vectores llamada **producto interno**.  \n",
    "El producto interno de los vectores u y v se expresa como ⟨u, v⟩.  \n",
    "\n",
    "IMPORTANTE!!!!! No hay forma de definir el producto interno para GF(2) así que no más GF(2).  \n",
    "\n",
    "Para los números reales y los números complejos, tenemos cierta flexibilidad para definir el producto interno.  \n",
    "Esta flexibilidad se usa mucho, por ejemplo, en Machine Learning.  \n",
    "Una vez que hemos definido un producto interno, la norma de un vector **u** se define por:\n",
    "> $\\|u\\|$ = $\\sqrt{⟨u, u⟩}$  \n",
    "\n",
    "Nos vamos a centrar en $\\mathbb{R}$.  \n",
    "La norma en $\\mathbb{R}$ se puede ver como la longitud de su \"flecha\".  \n",
    "Para vectores sobre $\\mathbb{R}$, definimos el producto interno como el producto escalar:  \n",
    "> ⟨u, v⟩ = u · v  \n",
    "\n",
    "** Propiedades del producto interno para vectores de $\\mathbb{R}$**\n",
    "\n",
    "* ⟨u+v,w⟩=⟨u,w⟩+⟨v,w⟩   \n",
    "* ⟨u,v⟩=⟨v,u⟩\n",
    "* ⟨αu,v⟩=α⟨u,v⟩  \n",
    "\n",
    "La norma es la longitud geométrica de la flecha.  \n",
    "\n",
    "<span style=\"color:orange\"> Ejemplo:  \n",
    "¿Cuál es la longitud del vector u = [u<sub>1</sub>, u<sub>2</sub>]?  \n",
    "Por el Teorema de Pitágoras:  \n",
    "para un triángulo rectángulo con longitudes laterales a, b, c, donde c es la longitud de la hipotenusa:</style>   \n",
    "> <span style=\"color:orange\">a<sup>2</sup> + b<sup>2</sup> = c<sup>2</sup></style>\n",
    "\n",
    "<span style=\"color:orange\">Podemos usar esta ecuación para calcular la longitud de u:\n",
    "(longitud de u) <sup>2</sup> = u<sub>1</sub><sup>2</sup>2 + u<sub>2</sub><sup>2</sup>\n",
    "</style>  \n",
    "\n",
    "**Teorema de Pitágoras para vectores** \n",
    "Si los vectores u y v sobre los reales son ortogonales entonces $\\|u+v\\|$ <sup>2</sup> = $\\|u\\|$ <sup>2</sup> + $\\|v\\|$ <sup>2</sup>  \n",
    "\n",
    "** Propiedades de la ortogonalidad**  \n",
    "* Si u es ortogonal a v, entonces u es ortogonal a α v para cada escalar α.  \n",
    "* Si u y v son ambos ortogonales a w, u + v es ortogonal a w.  \n",
    "\n",
    "<span style=\"color:orange\"> Ejemplo:  \n",
    "[1,2]·[2,−1]=0. Luego, [1,2]·[20,−10]=0  </style>  \n",
    "\n",
    "<span style=\"color:orange\"> Ejemplo:  \n",
    "[1,2,1]·[1,−1,1] = 0.  \n",
    "[0,1,1]·[1,−1,1] = 0.  \n",
    "Luego: ([1,2,1]+[0,1,1])·[1,−1,1] = 0  </style>   \n",
    "\n",
    "<span style=\"color:orange\"> Ejemplo:  Casa en llamas.  \n",
    "Volvamos al ejemplo con el que empezamos el tema.  \n",
    "Sea **b** un vector.  \n",
    "Sea **a** sea un vector distinto de cero⇒El conjunto {αa: α∈R} es una línea L  \n",
    "Sea p ser el punto en la línea L tal que **b-p** es ortogonal a **a**.  \n",
    "Entonces p es el punto en la línea que está más cerca de b.</style>  \n",
    "\n",
    "**Descomposición de b en componentes paralelos y perpendiculares**  \n",
    "Para cualquier vector **b** y cualquier vector **a**, podemos definir los vectores b<sup>$\\|$a</sup> y b<sup>⊥a</sup> como la proyección de **b** en Gen{**a**} y la proyección de **b** ortogonal a **a** si se cumplen las dos siguientes condiciones:  \n",
    "* Hay un escalar σ ∈ R tal que b<sup>$\\|$a</sup> = σa\n",
    "* b<sup>⊥a</sup> es ortogonal a a  \n",
    "\n",
    "σ= $\\frac{⟨b,a⟩}{⟨a,a⟩}.$  \n",
    "\n",
    "¿Cómo lo haríamos en Python?  \n",
    "Vamos a definir b<sup>$\\|$a</sup>.  \n"
   ]
  },
  {
   "cell_type": "code",
   "execution_count": 8,
   "metadata": {
    "collapsed": true
   },
   "outputs": [],
   "source": [
    "def proyeccion_paralela(b, a): \n",
    "    return ((b*a)/(a*a))*a"
   ]
  },
  {
   "cell_type": "markdown",
   "metadata": {},
   "source": [
    "Si **a**=0, ⟨a,a⟩=0, por lo que modificamos un poco el procedimiento."
   ]
  },
  {
   "cell_type": "code",
   "execution_count": 3,
   "metadata": {},
   "outputs": [],
   "source": [
    "def proyeccion_paralela(b, a): \n",
    "    return ((b*a)/(a*a) if a*a != 0 else 0)*a"
   ]
  },
  {
   "cell_type": "markdown",
   "metadata": {},
   "source": [
    "Mejor:"
   ]
  },
  {
   "cell_type": "code",
   "execution_count": 4,
   "metadata": {},
   "outputs": [],
   "source": [
    "def proyeccion_paralela(b, a):\n",
    " sigma = (b*a)/(a*a) if a*a != 0 else 0\n",
    " return sigma * a"
   ]
  },
  {
   "cell_type": "markdown",
   "metadata": {},
   "source": [
    "A menudo, el vector a no será realmente un vector cero, pero prácticamente será cero.  \n",
    "Si las entradas de a son minúsculas, el procedimiento debería tratar a a como un vector cero: sigma debería tener asignado cero.  \n",
    "Consideraremos que a es un vector cero si su norma al cuadrado no es más que 10<sup>-20</sup>.  \n"
   ]
  },
  {
   "cell_type": "code",
   "execution_count": 5,
   "metadata": {},
   "outputs": [],
   "source": [
    "def proyeccion_paralela(b, a):\n",
    "    sigma = (b*a)/(a*a) if a*a > 10^-20 else 0\n",
    "    return [sigma * a[i] for i in range(len(a))]"
   ]
  },
  {
   "cell_type": "markdown",
   "metadata": {},
   "source": [
    "¿Cómo calcularíamos la proyección ortogonal?  "
   ]
  },
  {
   "cell_type": "code",
   "execution_count": 6,
   "metadata": {},
   "outputs": [],
   "source": [
    "def proyeccion_ortogonal(b, a):\n",
    "    return b - proyeccion_paralela(b, a)"
   ]
  },
  {
   "cell_type": "code",
   "execution_count": 46,
   "metadata": {},
   "outputs": [],
   "source": [
    "import numpy as np\n",
    "\n",
    "def proyeccion_paralela(b, a):\n",
    "    sigma = np.dot(b,a)/np.dot(a,a) if np.dot(a,a) > 10^-20 else 0\n",
    "    return [sigma * a[i] for i in range(len(a))]\n",
    "\n",
    "def proyeccion_ortogonal(b, a):\n",
    "    return b - proyeccion_paralela(b, a)\n",
    "\n"
   ]
  },
  {
   "cell_type": "code",
   "execution_count": 47,
   "metadata": {},
   "outputs": [
    {
     "data": {
      "text/plain": [
       "[3.2, 1.6]"
      ]
     },
     "execution_count": 47,
     "metadata": {},
     "output_type": "execute_result"
    }
   ],
   "source": [
    "a=np.array([6.,3.])\n",
    "b=np.array([2.,4.])\n",
    "proyeccion_paralela(b,a)"
   ]
  },
  {
   "cell_type": "code",
   "execution_count": 48,
   "metadata": {},
   "outputs": [
    {
     "data": {
      "text/plain": [
       "array([-1.2,  2.4])"
      ]
     },
     "execution_count": 48,
     "metadata": {},
     "output_type": "execute_result"
    }
   ],
   "source": [
    "proyeccion_ortogonal(b,a)"
   ]
  },
  {
   "cell_type": "markdown",
   "metadata": {},
   "source": [
    "<span style=\"color:orange\"> Ejemplo:  Casa en llamas.  \n",
    "Volvamos al ejemplo.  \n",
    "a = [6, 2] y b = [2, 4].  \n",
    "El punto más cercano en la línea {αa: α ∈ R} es el punto b<sup>$\\|$a</sup> = σ a donde σ = $\\frac{a \\cdot b}{a \\cdot a}=\\frac{6 \\cdot 2 + 2 \\cdot 4}{6 \\cdot 6 + 2 \\cdot 2}=\\frac{20}{40}=\\frac{1}{2}$.  \n",
    "Luego el punto más cercano a **b** es $\\frac{1}{2} \\cdot$ [6,2]=[3,1].  \n",
    "La distancia a b es $\\|$b<sup>⊥a</sup>$\\|$=$\\|$[2,4]−[3,1]$\\|$=$\\|$[−1,3]$\\|$= $\\sqrt{10} <3.5$  \n",
    "Por lo tanto, la casa se salva.  \n",
    "</style>   \n",
    "\n",
    "Esta noción de \"la mejor aproximación\" aparece una y otra vez:\n",
    "* En mínimos cuadrados (una técnica fundamental de análisis de datos). \n",
    "* En compresión de imagen  \n",
    "* En el análisis de componentes principales (otra técnica de análisis de datos).  \n",
    "* En el análisis semántico latente (una técnica de recuperación de información).  \n",
    "\n",
    "<span style=\"color:orange\"> Ejemplo:  Casa en llamas.  \n",
    "Intentemos hacerlo con Python\n",
    "</style>   "
   ]
  },
  {
   "cell_type": "code",
   "execution_count": 18,
   "metadata": {},
   "outputs": [
    {
     "ename": "ValueError",
     "evalue": "The truth value of an array with more than one element is ambiguous. Use a.any() or a.all()",
     "output_type": "error",
     "traceback": [
      "\u001b[0;31m---------------------------------------------------------------------------\u001b[0m",
      "\u001b[0;31mValueError\u001b[0m                                Traceback (most recent call last)",
      "\u001b[0;32m<ipython-input-18-aa9f9a191bf8>\u001b[0m in \u001b[0;36m<module>\u001b[0;34m()\u001b[0m\n\u001b[1;32m      2\u001b[0m \u001b[0ma\u001b[0m\u001b[0;34m=\u001b[0m\u001b[0mnp\u001b[0m\u001b[0;34m.\u001b[0m\u001b[0marray\u001b[0m\u001b[0;34m(\u001b[0m\u001b[0;34m[\u001b[0m\u001b[0;34m[\u001b[0m\u001b[0;36m6\u001b[0m\u001b[0;34m,\u001b[0m\u001b[0;36m2\u001b[0m\u001b[0;34m]\u001b[0m\u001b[0;34m]\u001b[0m\u001b[0;34m)\u001b[0m\u001b[0;34m\u001b[0m\u001b[0m\n\u001b[1;32m      3\u001b[0m \u001b[0mb\u001b[0m\u001b[0;34m=\u001b[0m\u001b[0mnp\u001b[0m\u001b[0;34m.\u001b[0m\u001b[0marray\u001b[0m\u001b[0;34m(\u001b[0m\u001b[0;34m[\u001b[0m\u001b[0;34m[\u001b[0m\u001b[0;36m2\u001b[0m\u001b[0;34m,\u001b[0m\u001b[0;36m4\u001b[0m\u001b[0;34m]\u001b[0m\u001b[0;34m]\u001b[0m\u001b[0;34m)\u001b[0m\u001b[0;34m\u001b[0m\u001b[0m\n\u001b[0;32m----> 4\u001b[0;31m \u001b[0mproyeccion_paralela\u001b[0m\u001b[0;34m(\u001b[0m\u001b[0mb\u001b[0m\u001b[0;34m,\u001b[0m\u001b[0ma\u001b[0m\u001b[0;34m)\u001b[0m\u001b[0;34m\u001b[0m\u001b[0m\n\u001b[0m",
      "\u001b[0;32m<ipython-input-17-fd712031bafc>\u001b[0m in \u001b[0;36mproyeccion_paralela\u001b[0;34m(b, a)\u001b[0m\n\u001b[1;32m      1\u001b[0m \u001b[0;32mdef\u001b[0m \u001b[0mproyeccion_paralela\u001b[0m\u001b[0;34m(\u001b[0m\u001b[0mb\u001b[0m\u001b[0;34m,\u001b[0m \u001b[0ma\u001b[0m\u001b[0;34m)\u001b[0m\u001b[0;34m:\u001b[0m\u001b[0;34m\u001b[0m\u001b[0m\n\u001b[0;32m----> 2\u001b[0;31m     \u001b[0msigma\u001b[0m \u001b[0;34m=\u001b[0m \u001b[0;34m(\u001b[0m\u001b[0mb\u001b[0m\u001b[0;34m*\u001b[0m\u001b[0ma\u001b[0m\u001b[0;34m)\u001b[0m\u001b[0;34m/\u001b[0m\u001b[0;34m(\u001b[0m\u001b[0ma\u001b[0m\u001b[0;34m*\u001b[0m\u001b[0ma\u001b[0m\u001b[0;34m)\u001b[0m \u001b[0;32mif\u001b[0m \u001b[0ma\u001b[0m\u001b[0;34m*\u001b[0m\u001b[0ma\u001b[0m \u001b[0;34m>\u001b[0m \u001b[0;36m10\u001b[0m\u001b[0;34m^\u001b[0m\u001b[0;34m-\u001b[0m\u001b[0;36m20\u001b[0m \u001b[0;32melse\u001b[0m \u001b[0;36m0\u001b[0m\u001b[0;34m\u001b[0m\u001b[0m\n\u001b[0m\u001b[1;32m      3\u001b[0m     \u001b[0;32mreturn\u001b[0m \u001b[0;34m[\u001b[0m\u001b[0msigma\u001b[0m \u001b[0;34m*\u001b[0m \u001b[0ma\u001b[0m\u001b[0;34m[\u001b[0m\u001b[0mi\u001b[0m\u001b[0;34m]\u001b[0m \u001b[0;32mfor\u001b[0m \u001b[0mi\u001b[0m \u001b[0;32min\u001b[0m \u001b[0mrange\u001b[0m\u001b[0;34m(\u001b[0m\u001b[0mlen\u001b[0m\u001b[0;34m(\u001b[0m\u001b[0ma\u001b[0m\u001b[0;34m)\u001b[0m\u001b[0;34m)\u001b[0m\u001b[0;34m]\u001b[0m\u001b[0;34m\u001b[0m\u001b[0m\n",
      "\u001b[0;31mValueError\u001b[0m: The truth value of an array with more than one element is ambiguous. Use a.any() or a.all()"
     ]
    }
   ],
   "source": [
    "import numpy as np\n",
    "a=np.array([[6,2]])\n",
    "b=np.array([[2,4]])\n",
    "proyeccion_paralela(b,a)"
   ]
  },
  {
   "cell_type": "markdown",
   "metadata": {},
   "source": [
    "<span style=\"color:blue\"> Ejercicio 14:  \n",
    "Modificar lo necesario en los algoritmos para que funcionen y calculen el problema de la casa en llamas.</style>"
   ]
  },
  {
   "cell_type": "code",
   "execution_count": null,
   "metadata": {
    "collapsed": true
   },
   "outputs": [],
   "source": []
  }
 ],
 "metadata": {
  "kernelspec": {
   "display_name": "Python 2",
   "language": "python",
   "name": "python2"
  },
  "language_info": {
   "codemirror_mode": {
    "name": "ipython",
    "version": 2
   },
   "file_extension": ".py",
   "mimetype": "text/x-python",
   "name": "python",
   "nbconvert_exporter": "python",
   "pygments_lexer": "ipython2",
   "version": "2.7.14"
  }
 },
 "nbformat": 4,
 "nbformat_minor": 2
}
