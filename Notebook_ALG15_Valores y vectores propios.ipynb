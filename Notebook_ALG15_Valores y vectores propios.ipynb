{
 "cells": [
  {
   "cell_type": "markdown",
   "metadata": {},
   "source": [
    "# 15. Valores y vectores propios"
   ]
  },
  {
   "cell_type": "markdown",
   "metadata": {},
   "source": [
    "# Valores y vectores propios\n",
    "\n"
   ]
  },
  {
   "cell_type": "markdown",
   "metadata": {},
   "source": [
    "\n",
    "Un **vector propio** de una matriz A de n × n es un vector x diferente de cero tal que Ax = λx para algún escalar λ.  \n",
    "Un escalar λ se llama **valor propio** de A si existe una solución no trivial x de Ax = λx.  \n",
    "Una x como ésta se denomina **vector propio correspondiente a λ**.  \n",
    "\n",
    "<span style=\"color:orange\"> Ejemplo:  \n",
    "Sean $\n",
    "  A=\n",
    "  \\left[ {\\begin{array}{cc}\n",
    "   1 & 6 \\\\\n",
    "   5 & 2 \\\\\n",
    "  \\end{array} } \\right], u= \\left[ {\\begin{array}{cc}\n",
    "   6 \\\\\n",
    "   -5 \\\\\n",
    "  \\end{array} } \\right] y  v= \\left[ {\\begin{array}{cc}\n",
    "   3 \\\\\n",
    "   -2 \\\\\n",
    "  \\end{array} } \\right]\n",
    "$. Vamos a calcular las imágenes de **u** y **v** por **A**.</style>     "
   ]
  },
  {
   "cell_type": "code",
   "execution_count": null,
   "metadata": {
    "collapsed": true
   },
   "outputs": [],
   "source": []
  },
  {
   "cell_type": "code",
   "execution_count": null,
   "metadata": {
    "collapsed": true
   },
   "outputs": [],
   "source": []
  },
  {
   "cell_type": "markdown",
   "metadata": {},
   "source": [
    "<span style=\"color:orange\"> Entonces u es un vector propio correspondiente a un valor propio (−4), pero v no es un vector propio de A porque Av no es un múltiplo de v.</style>  \n",
    "\n",
    "<span style=\"color:orange\"> Ejemplo:  \n",
    "Demostrar que 7 es un valor propio de $\n",
    "  A=\n",
    "  \\left[ {\\begin{array}{cc}\n",
    "   1 & 6 \\\\\n",
    "   5 & 2 \\\\\n",
    "  \\end{array} } \\right]$ y calcular los vectores propios correspondientes.  \n",
    "  El escalar 7 es un valor propio de A si, y sólo si, la ecuación A**x**=7**x** tiene una solución no trivial. Esto es equivalente a (A-7I)**x**=**0**</style> "
   ]
  },
  {
   "cell_type": "code",
   "execution_count": null,
   "metadata": {
    "collapsed": true
   },
   "outputs": [],
   "source": []
  },
  {
   "cell_type": "markdown",
   "metadata": {},
   "source": [
    "<span style=\"color:orange\"> Las columnas de A-7I son linealmente dependientes, así que existen soluciones no triviales, luego 7 es un valor propio de A.  \n",
    "Los vectores de la forma (x<sub>2</sub>,x<sub>2</sub>) con x<sub>2</sub>≠0 son vectores propios correspondientes a λ = 7.</style>  \n",
    "\n",
    "<span style=\"color:orange\"> Ejemplo:  \n",
    "Sea $\n",
    "  A=\n",
    "  \\left[ {\\begin{array}{cc}\n",
    "   4 & -1 & 6\\\\\n",
    "   2 & 1 & 6 \\\\\n",
    "   2 & -1 & 8 \\\\\n",
    "  \\end{array} } \\right]$. Un valor propio de A es 2. Encuentre una base para el espacio propio correspondiente.</style>  "
   ]
  },
  {
   "cell_type": "code",
   "execution_count": null,
   "metadata": {
    "collapsed": true
   },
   "outputs": [],
   "source": []
  },
  {
   "cell_type": "markdown",
   "metadata": {},
   "source": [
    "<span style=\"color:orange\"> $2x_1-x_2+6x_3=0$  \n",
    "$x_1$=a  \n",
    "$x_3$=b  \n",
    "$x_2$=2a+6b</style>   \n",
    "\n",
    "<span style=\"color:orange\"> {(1,0,2),(0,1,6)} base</style>  "
   ]
  },
  {
   "cell_type": "markdown",
   "metadata": {},
   "source": [
    "Los valores propios de una matriz triangular son las entradas de su diagonal principal.  \n",
    "\n",
    "<span style=\"color:orange\"> Ejemplo:  \n",
    "Sea $\n",
    "  A=\n",
    "  \\left[ {\\begin{array}{cc}\n",
    "   3 & 6 & -8\\\\\n",
    "   0 & 0 & 6 \\\\\n",
    "   0 & 0 & 2 \\\\\n",
    "  \\end{array} } \\right] y B=\\left[ {\\begin{array}{cc}\n",
    "   4 & 0 & 0\\\\\n",
    "   -2 & 1 & 0 \\\\\n",
    "   5 & 3 & 4 \\\\\n",
    "  \\end{array} } \\right]$.  \n",
    "  Los valores propios de A son 3, 0 y 2. Los valores propios de B son 4 y 1.</style>    \n",
    "  \n",
    "¿Qué signfica que una matriz A tenga un valor propio de 0?   \n",
    "0 es un valor propio de A si, y sólo si, A es no invertible.  \n",
    "\n",
    "Si v<sub>1</sub>, ... , v<sub>r</sub> son vectores propios que corresponden a distintos valores propios λ<sub>1</sub>, ... , λ<sub>r</sub> de una matriz A de n × n, entonces el conjunto {v<sub>1</sub>, ... , v<sub>r</sub>} es linealmente independiente.  \n",
    "\n",
    "Un escalar λ es un valor propio de una matriz A de n × n si, y sólo si, λ satisface la **ecuación característica**\n",
    "> det(A−λI)=0  \n",
    "\n",
    "Si A es una matriz de n × n, entonces det(A − λI) es un polinomio de grado n llamado **polinomio característico** de A.  \n",
    "\n",
    "<span style=\"color:orange\"> Ejemplo:  \n",
    "Vamos a calcular la ecuación característica de $\n",
    "  A=\n",
    "  \\left[ {\\begin{array}{cc}\n",
    "   5 & 2 & 6 & -1\\\\\n",
    "   0 & 3 & -8 & 0\\\\\n",
    "   0 & 0 & 5 & 4 \\\\\n",
    "   0 & 0 & 0 & 1 \\\\\n",
    "  \\end{array} } \\right]$. \n",
    "  detA=|A-λI|=$\\left| {\\begin{array}{cc}\n",
    "   5-λ & 2 & 6 & -1\\\\\n",
    "   0 & 3-λ & -8 & 0\\\\\n",
    "   0 & 0 & 5-λ & 4 \\\\\n",
    "   0 & 0 & 0 & 1-λ \\\\\n",
    "  \\end{array} } \\right|$=(5−λ)(3−λ)(5−λ)(1−λ)=(5−λ)<sup>2</sup>(3−λ)(1−λ)  \n",
    "  que es el polinomio característico.  \n",
    "La ecuación característica es (5−λ)<sup>2</sup>(3−λ)(1−λ)=0</style>\n",
    "  "
   ]
  }
 ],
 "metadata": {
  "kernelspec": {
   "display_name": "Python 3",
   "language": "python",
   "name": "python3"
  },
  "language_info": {
   "codemirror_mode": {
    "name": "ipython",
    "version": 3
   },
   "file_extension": ".py",
   "mimetype": "text/x-python",
   "name": "python",
   "nbconvert_exporter": "python",
   "pygments_lexer": "ipython3",
   "version": "3.6.3"
  }
 },
 "nbformat": 4,
 "nbformat_minor": 2
}
